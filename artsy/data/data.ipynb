{
 "cells": [
  {
   "cell_type": "code",
   "execution_count": 41,
   "metadata": {
    "collapsed": true
   },
   "outputs": [],
   "source": [
    "import json\n",
    "\n",
    "with open('dataset_part2.json', 'r') as out:\n",
    "    data = json.load(out)"
   ]
  },
  {
   "cell_type": "code",
   "execution_count": 4,
   "metadata": {
    "collapsed": false
   },
   "outputs": [],
   "source": [
    "# data"
   ]
  },
  {
   "cell_type": "code",
   "execution_count": 3,
   "metadata": {
    "collapsed": false
   },
   "outputs": [
    {
     "data": {
      "text/plain": [
       "10223"
      ]
     },
     "execution_count": 3,
     "metadata": {},
     "output_type": "execute_result"
    }
   ],
   "source": [
    "len(data['artists'])"
   ]
  },
  {
   "cell_type": "code",
   "execution_count": 29,
   "metadata": {
    "collapsed": false
   },
   "outputs": [],
   "source": [
    "# f = []\n",
    "\n",
    "for x in data['artists']:\n",
    "    for y in x['genes']:\n",
    "        f.append(str(y))\n",
    "        \n"
   ]
  },
  {
   "cell_type": "code",
   "execution_count": 42,
   "metadata": {
    "collapsed": false
   },
   "outputs": [
    {
     "data": {
      "text/plain": [
       "{u'birth_date': 1924,\n",
       " u'gender': u'female',\n",
       " u'gene_country_name': u'United States',\n",
       " u'gene_lon_lat': [-97, 38],\n",
       " u'genes': [[40, 4],\n",
       "  [100, 31],\n",
       "  [70, 147],\n",
       "  [50, 227],\n",
       "  [70, 233],\n",
       "  [50, 228],\n",
       "  [70, 229],\n",
       "  [100, 520],\n",
       "  [100, 10],\n",
       "  [60, 3],\n",
       "  [100, 23],\n",
       "  [100, 0],\n",
       "  [100, 785]],\n",
       " u'hometown': u'Brooklyn, New York',\n",
       " u'hometown_country': u'US',\n",
       " u'hometown_lon_lat': [-73.95, 40.65],\n",
       " u'image': u'https://d32dm0rphc51dk.cloudfront.net/TwJNUbrtBOD0lSyefrW3Cw/square.jpg',\n",
       " u'name': u'Jane Freilicher',\n",
       " u'nationality': u'American',\n",
       " u'num_auctions': 20,\n",
       " u'num_followers': 63,\n",
       " u'num_for_sale': 16,\n",
       " u'num_inquiries': 11,\n",
       " u'num_pageviews': 517,\n",
       " u'num_published': 16,\n",
       " u'num_saves': 194,\n",
       " u'slug': u'jane-freilicher',\n",
       " u'top_auction_lot': 58600,\n",
       " u'total_auction_val': 191735}"
      ]
     },
     "execution_count": 42,
     "metadata": {},
     "output_type": "execute_result"
    }
   ],
   "source": [
    "data['artists'][0]"
   ]
  },
  {
   "cell_type": "code",
   "execution_count": 31,
   "metadata": {
    "collapsed": false
   },
   "outputs": [
    {
     "name": "stdout",
     "output_type": "stream",
     "text": [
      "[('[100, 23]', 9052), ('[100, 3]', 7085), ('[100, 1]', 6721), ('[100, 5]', 4169), ('[100, 31]', 3805), ('[100, 520]', 3773), ('[100, 785]', 3460), ('[100, 0]', 2470), ('[100, 32]', 1383), ('[100, 33]', 1372), ('[100, 4]', 1301), ('[100, 34]', 1085), ('[100, 147]', 774), ('[100, 2]', 764), ('[100, 184]', 758), ('[100, 30]', 708), ('[100, 24]', 617), ('[100, 519]', 613), ('[100, 524]', 600), ('[50, 34]', 543), ('[100, 788]', 530), ('[80, 294]', 511), ('[100, 787]', 483), ('[100, 561]', 473), ('[100, 525]', 464), ('[70, 294]', 462), ('[100, 789]', 454), ('[60, 294]', 453), ('[50, 33]', 433), ('[100, 796]', 431), ('[50, 294]', 422), ('[100, 85]', 406), ('[100, 373]', 392), ('[100, 294]', 378), ('[100, 521]', 349), ('[100, 813]', 347), ('[100, 67]', 341), ('[50, 67]', 336), ('[50, 31]', 335), ('[100, 825]', 334), ('[100, 526]', 330), ('[30, 294]', 329), ('[50, 30]', 327), ('[80, 373]', 324), ('[100, 171]', 316), ('[100, 35]', 308), ('[50, 35]', 307), ('[80, 31]', 299), ('[100, 9]', 297), ('[30, 33]', 293), ('[100, 10]', 290), ('[100, 228]', 290), ('[80, 34]', 275), ('[100, 14]', 270), ('[30, 34]', 265), ('[100, 11]', 261), ('[50, 373]', 248), ('[100, 6]', 247), ('[70, 373]', 240), ('[80, 30]', 239), ('[60, 373]', 238), ('[50, 497]', 237), ('[100, 541]', 237), ('[80, 33]', 235), ('[50, 228]', 233), ('[30, 35]', 230), ('[40, 294]', 227), ('[50, 32]', 222), ('[30, 228]', 221), ('[50, 241]', 217), ('[50, 6]', 216), ('[50, 85]', 215), ('[90, 294]', 212), ('[70, 31]', 211), ('[50, 366]', 210), ('[50, 520]', 210), ('[60, 241]', 210), ('[100, 7]', 209), ('[100, 801]', 208), ('[60, 366]', 207), ('[50, 301]', 207), ('[60, 34]', 205), ('[50, 5]', 200), ('[30, 241]', 199), ('[30, 67]', 199), ('[60, 228]', 197), ('[40, 497]', 196), ('[100, 8]', 196), ('[100, 538]', 196), ('[80, 301]', 195), ('[40, 34]', 194), ('[60, 497]', 193), ('[80, 241]', 193), ('[70, 366]', 192), ('[60, 379]', 192), ('[70, 34]', 190), ('[70, 33]', 187), ('[100, 16]', 185), ('[60, 301]', 184), ('[50, 363]', 184)]\n"
     ]
    }
   ],
   "source": [
    "import collections as C\n",
    "\n",
    "counter = C.Counter(f)\n",
    "print counter.most_common(100)"
   ]
  },
  {
   "cell_type": "code",
   "execution_count": 17,
   "metadata": {
    "collapsed": false
   },
   "outputs": [
    {
     "data": {
      "text/plain": [
       "5312"
      ]
     },
     "execution_count": 17,
     "metadata": {},
     "output_type": "execute_result"
    }
   ],
   "source": [
    "len(set(f))"
   ]
  },
  {
   "cell_type": "code",
   "execution_count": 18,
   "metadata": {
    "collapsed": true
   },
   "outputs": [],
   "source": [
    "with open('dataset.json', 'r') as out:\n",
    "    data = json.load(out)"
   ]
  },
  {
   "cell_type": "code",
   "execution_count": 20,
   "metadata": {
    "collapsed": false
   },
   "outputs": [
    {
     "data": {
      "text/plain": [
       "4"
      ]
     },
     "execution_count": 20,
     "metadata": {},
     "output_type": "execute_result"
    }
   ],
   "source": [
    "len(data)"
   ]
  },
  {
   "cell_type": "code",
   "execution_count": 21,
   "metadata": {
    "collapsed": false
   },
   "outputs": [
    {
     "data": {
      "text/plain": [
       "[u'artists', u'genes', u'num_parts', u'hometownByCode']"
      ]
     },
     "execution_count": 21,
     "metadata": {},
     "output_type": "execute_result"
    }
   ],
   "source": [
    "data.keys()"
   ]
  },
  {
   "cell_type": "code",
   "execution_count": 35,
   "metadata": {
    "collapsed": false
   },
   "outputs": [
    {
     "data": {
      "text/plain": [
       "1205"
      ]
     },
     "execution_count": 35,
     "metadata": {},
     "output_type": "execute_result"
    }
   ],
   "source": [
    "len(data['genes'])"
   ]
  },
  {
   "cell_type": "code",
   "execution_count": 28,
   "metadata": {
    "collapsed": false
   },
   "outputs": [
    {
     "data": {
      "text/plain": [
       "201"
      ]
     },
     "execution_count": 28,
     "metadata": {},
     "output_type": "execute_result"
    }
   ],
   "source": [
    "len(data['artists'])"
   ]
  },
  {
   "cell_type": "code",
   "execution_count": 37,
   "metadata": {
    "collapsed": false
   },
   "outputs": [
    {
     "data": {
      "text/plain": [
       "{u'name': u'Female',\n",
       " u'num_artists': 0,\n",
       " u'num_artworks': 0,\n",
       " u'num_followers': 0,\n",
       " u'total_artists': 2470,\n",
       " u'type': u'Gender'}"
      ]
     },
     "execution_count": 37,
     "metadata": {},
     "output_type": "execute_result"
    }
   ],
   "source": [
    "data['genes'][0]"
   ]
  },
  {
   "cell_type": "code",
   "execution_count": 40,
   "metadata": {
    "collapsed": false
   },
   "outputs": [
    {
     "data": {
      "text/plain": [
       "{u'name': u'Tapestry and Wall Hanging',\n",
       " u'num_artists': 0,\n",
       " u'num_artworks': 187,\n",
       " u'num_followers': 2,\n",
       " u'total_artists': 43,\n",
       " u'type': u'D4 - Functional Objects (Design Medium)'}"
      ]
     },
     "execution_count": 40,
     "metadata": {},
     "output_type": "execute_result"
    }
   ],
   "source": [
    "data['genes'][202]"
   ]
  },
  {
   "cell_type": "code",
   "execution_count": 43,
   "metadata": {
    "collapsed": false
   },
   "outputs": [
    {
     "data": {
      "text/plain": [
       "164138"
      ]
     },
     "execution_count": 43,
     "metadata": {},
     "output_type": "execute_result"
    }
   ],
   "source": [
    "len(f)"
   ]
  },
  {
   "cell_type": "code",
   "execution_count": 50,
   "metadata": {
    "collapsed": true
   },
   "outputs": [],
   "source": [
    "c = []\n",
    "\n",
    "for x in f:\n",
    "    c.append(x.replace('[', '').replace(']', '').split(', ')[0])"
   ]
  },
  {
   "cell_type": "code",
   "execution_count": 51,
   "metadata": {
    "collapsed": false
   },
   "outputs": [
    {
     "data": {
      "text/plain": [
       "{'1',\n",
       " '10',\n",
       " '100',\n",
       " '15',\n",
       " '2',\n",
       " '20',\n",
       " '25',\n",
       " '29',\n",
       " '3',\n",
       " '30',\n",
       " '300',\n",
       " '33',\n",
       " '34',\n",
       " '35',\n",
       " '39',\n",
       " '40',\n",
       " '45',\n",
       " '46',\n",
       " '5',\n",
       " '50',\n",
       " '55',\n",
       " '59',\n",
       " '6',\n",
       " '60',\n",
       " '64',\n",
       " '65',\n",
       " '66',\n",
       " '69',\n",
       " '7',\n",
       " '70',\n",
       " '75',\n",
       " '77',\n",
       " '78',\n",
       " '8',\n",
       " '80',\n",
       " '82',\n",
       " '85',\n",
       " '89',\n",
       " '90',\n",
       " '92',\n",
       " '94',\n",
       " '95',\n",
       " '96',\n",
       " '97',\n",
       " '99'}"
      ]
     },
     "execution_count": 51,
     "metadata": {},
     "output_type": "execute_result"
    }
   ],
   "source": [
    "set(c)"
   ]
  },
  {
   "cell_type": "code",
   "execution_count": 49,
   "metadata": {
    "collapsed": false
   },
   "outputs": [
    {
     "data": {
      "text/plain": [
       "'100'"
      ]
     },
     "execution_count": 49,
     "metadata": {},
     "output_type": "execute_result"
    }
   ],
   "source": [
    "x.replace('[', '').replace(']', '').split(', ')[0]"
   ]
  },
  {
   "cell_type": "code",
   "execution_count": null,
   "metadata": {
    "collapsed": true
   },
   "outputs": [],
   "source": []
  }
 ],
 "metadata": {
  "kernelspec": {
   "display_name": "Python 2",
   "language": "python",
   "name": "python2"
  },
  "language_info": {
   "codemirror_mode": {
    "name": "ipython",
    "version": 2
   },
   "file_extension": ".py",
   "mimetype": "text/x-python",
   "name": "python",
   "nbconvert_exporter": "python",
   "pygments_lexer": "ipython2",
   "version": "2.7.12"
  }
 },
 "nbformat": 4,
 "nbformat_minor": 0
}
