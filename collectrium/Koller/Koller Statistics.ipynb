{
 "cells": [
  {
   "cell_type": "code",
   "execution_count": 1,
   "metadata": {
    "collapsed": false
   },
   "outputs": [
    {
     "name": "stdout",
     "output_type": "stream",
     "text": [
      "Index([u'Sale Name', u'Sale Date', u'Sale Location', u'Sale Number',\n",
      "       u'Lot Number', u'Lot Title', u'Lot Description', u'High Estimate',\n",
      "       u'Low Estimate', u'Price', u'Currency', u'Status', u'Maker',\n",
      "       u'Image URL', u'Provenance', u'Literature', u'Notes', u'URL'],\n",
      "      dtype='object')\n"
     ]
    }
   ],
   "source": [
    "import pandas as pd\n",
    "import numpy as np\n",
    "import collections\n",
    "\n",
    "data = pd.read_csv(\"201604120820-Kollerauktionen_ch_auction_price.csv\", warn_bad_lines=True, error_bad_lines=False)\n",
    "print data.columns"
   ]
  },
  {
   "cell_type": "code",
   "execution_count": 2,
   "metadata": {
    "collapsed": true
   },
   "outputs": [],
   "source": [
    "%matplotlib inline\n",
    "import matplotlib.pyplot as plt"
   ]
  },
  {
   "cell_type": "code",
   "execution_count": 3,
   "metadata": {
    "collapsed": false
   },
   "outputs": [
    {
     "name": "stderr",
     "output_type": "stream",
     "text": [
      "/Users/gzhao/Library/Python/2.7/lib/python/site-packages/ipykernel/__main__.py:3: FutureWarning: sort(columns=....) is deprecated, use sort_values(by=.....)\n",
      "  app.launch_new_instance()\n"
     ]
    }
   ],
   "source": [
    "data['Sale Date'] = pd.to_datetime(data['Sale Date'], format='%m/%d/%Y', errors='coerce')\n",
    "data.index = data['Sale Date']\n",
    "data = data.sort('Sale Date')"
   ]
  },
  {
   "cell_type": "code",
   "execution_count": 4,
   "metadata": {
    "collapsed": false
   },
   "outputs": [
    {
     "name": "stderr",
     "output_type": "stream",
     "text": [
      "/Users/gzhao/Library/Python/2.7/lib/python/site-packages/ipykernel/__main__.py:2: SettingWithCopyWarning: \n",
      "A value is trying to be set on a copy of a slice from a DataFrame.\n",
      "Try using .loc[row_indexer,col_indexer] = value instead\n",
      "\n",
      "See the caveats in the documentation: http://pandas.pydata.org/pandas-docs/stable/indexing.html#indexing-view-versus-copy\n",
      "  from ipykernel import kernelapp as app\n"
     ]
    }
   ],
   "source": [
    "yearData = data[pd.notnull(data['Sale Date'])]\n",
    "yearData['Year'] = pd.DatetimeIndex(yearData['Sale Date']).year"
   ]
  },
  {
   "cell_type": "code",
   "execution_count": 5,
   "metadata": {
    "collapsed": false
   },
   "outputs": [
    {
     "data": {
      "text/plain": [
       "<matplotlib.text.Text at 0x10dc58990>"
      ]
     },
     "execution_count": 5,
     "metadata": {},
     "output_type": "execute_result"
    },
    {
     "data": {
      "image/png": "[encoded data removed]",
      "text/plain": [
       "<matplotlib.figure.Figure at 0x10da85f90>"
      ]
     },
     "metadata": {},
     "output_type": "display_data"
    }
   ],
   "source": [
    "counter = collections.Counter(yearData['Year'])\n",
    "values = counter.values()[1:]\n",
    "values.append(counter.values()[0])\n",
    "keys = counter.keys()[1:]\n",
    "keys.append(counter.keys()[0])\n",
    "\n",
    "plt.figure(figsize = (15, 8))\n",
    "plt.bar(np.arange(len(values)), values, 1.0, color = 'c')\n",
    "plt.xticks(np.arange(len(counter.values())) + 0.5, [x for x in range(2014, 2017)])\n",
    "plt.gca().yaxis.grid(True)\n",
    "plt.title('Koller Lot Data By Year')"
   ]
  },
  {
   "cell_type": "code",
   "execution_count": 6,
   "metadata": {
    "collapsed": false
   },
   "outputs": [],
   "source": [
    "df = {}\n",
    "numbers = []\n",
    "\n",
    "for x in data.columns:\n",
    "    df[x] = data[pd.notnull(data[x])]\n",
    "    numbers.append(len(df[x])/float(len(data)))"
   ]
  },
  {
   "cell_type": "code",
   "execution_count": 7,
   "metadata": {
    "collapsed": false
   },
   "outputs": [
    {
     "data": {
      "text/plain": [
       "<matplotlib.text.Text at 0x10e580e90>"
      ]
     },
     "execution_count": 7,
     "metadata": {},
     "output_type": "execute_result"
    },
    {
     "data": {
      "image/png": "[encoded data removed]",
      "text/plain": [
       "<matplotlib.figure.Figure at 0x10dc35110>"
      ]
     },
     "metadata": {},
     "output_type": "display_data"
    }
   ],
   "source": [
    "plt.figure(figsize = (15, 8))\n",
    "plt.bar(np.arange(len(numbers)), numbers, 1.0, color = 'y')\n",
    "plt.xticks(np.arange(len(numbers)) + 0.5, data.columns, fontsize = 8)\n",
    "plt.gca().yaxis.grid(True)\n",
    "plt.title('Koller Percentages of Valid Data By Columns')"
   ]
  },
  {
   "cell_type": "code",
   "execution_count": 8,
   "metadata": {
    "collapsed": false
   },
   "outputs": [],
   "source": [
    "oldNumber = np.load('old_numbers.npy')\n",
    "newNumber = np.load('new_numbers.npy')\n",
    "oldTime = np.load('old_times.npy')\n",
    "newTime = np.load('new_times.npy')"
   ]
  },
  {
   "cell_type": "code",
   "execution_count": 9,
   "metadata": {
    "collapsed": false
   },
   "outputs": [],
   "source": [
    "numbers = list(oldNumber) + list(newNumber)\n",
    "times = list(oldTime) + list(newTime)"
   ]
  },
  {
   "cell_type": "code",
   "execution_count": 10,
   "metadata": {
    "collapsed": false
   },
   "outputs": [],
   "source": [
    "simple = []\n",
    "for x in numbers:\n",
    "    simple.append(int(x))"
   ]
  },
  {
   "cell_type": "code",
   "execution_count": 11,
   "metadata": {
    "collapsed": false
   },
   "outputs": [],
   "source": [
    "clean = []\n",
    "for x in times:\n",
    "    try:\n",
    "        clean.append(x.split('Auction ')[1].split(', ')[0])\n",
    "    except:\n",
    "        clean.append('')"
   ]
  },
  {
   "cell_type": "code",
   "execution_count": 12,
   "metadata": {
    "collapsed": true
   },
   "outputs": [],
   "source": [
    "data = pd.DataFrame()\n",
    "\n",
    "data['Number'] = simple\n",
    "data['Sale Date'] = clean"
   ]
  },
  {
   "cell_type": "code",
   "execution_count": 13,
   "metadata": {
    "collapsed": false
   },
   "outputs": [
    {
     "name": "stderr",
     "output_type": "stream",
     "text": [
      "/Users/gzhao/Library/Python/2.7/lib/python/site-packages/ipykernel/__main__.py:3: FutureWarning: sort(columns=....) is deprecated, use sort_values(by=.....)\n",
      "  app.launch_new_instance()\n"
     ]
    }
   ],
   "source": [
    "data['Sale Date'] = pd.to_datetime(data['Sale Date'], format='%d.%m.%Y', errors='coerce')\n",
    "data.index = data['Sale Date']\n",
    "data = data.sort('Sale Date')"
   ]
  },
  {
   "cell_type": "code",
   "execution_count": 14,
   "metadata": {
    "collapsed": false
   },
   "outputs": [],
   "source": [
    "yearData = data[pd.notnull(data['Sale Date'])]\n",
    "#yearData['Year'] = pd.DatetimeIndex(yearData['Sale Date']).year"
   ]
  },
  {
   "cell_type": "code",
   "execution_count": 15,
   "metadata": {
    "collapsed": false
   },
   "outputs": [
    {
     "name": "stderr",
     "output_type": "stream",
     "text": [
      "/Users/gzhao/Library/Python/2.7/lib/python/site-packages/ipykernel/__main__.py:1: SettingWithCopyWarning: \n",
      "A value is trying to be set on a copy of a slice from a DataFrame.\n",
      "Try using .loc[row_indexer,col_indexer] = value instead\n",
      "\n",
      "See the caveats in the documentation: http://pandas.pydata.org/pandas-docs/stable/indexing.html#indexing-view-versus-copy\n",
      "  if __name__ == '__main__':\n"
     ]
    }
   ],
   "source": [
    "yearData['Year'] = pd.DatetimeIndex(yearData['Sale Date']).year"
   ]
  },
  {
   "cell_type": "code",
   "execution_count": 16,
   "metadata": {
    "collapsed": false
   },
   "outputs": [],
   "source": [
    "yearGroup = yearData.groupby(['Year', 'Number']).Number.sum()"
   ]
  },
  {
   "cell_type": "code",
   "execution_count": 17,
   "metadata": {
    "collapsed": false
   },
   "outputs": [
    {
     "data": {
      "text/plain": [
       "Int64Index([27, 44, 75, 172, 266], dtype='int64', name=u'Number')"
      ]
     },
     "execution_count": 17,
     "metadata": {},
     "output_type": "execute_result"
    }
   ],
   "source": [
    "yearGroup.xs(2005).index"
   ]
  },
  {
   "cell_type": "code",
   "execution_count": 18,
   "metadata": {
    "collapsed": false
   },
   "outputs": [],
   "source": [
    "years = sorted(list(set(yearData['Year'])))"
   ]
  },
  {
   "cell_type": "code",
   "execution_count": 19,
   "metadata": {
    "collapsed": true
   },
   "outputs": [],
   "source": [
    "num = []\n",
    "for x in years:\n",
    "    num.append(sum(yearGroup.xs(x).index))"
   ]
  },
  {
   "cell_type": "code",
   "execution_count": 20,
   "metadata": {
    "collapsed": false
   },
   "outputs": [],
   "source": [
    "newvalues = [0 for x in range(2005, 2014)]+ list(values)"
   ]
  },
  {
   "cell_type": "code",
   "execution_count": 23,
   "metadata": {
    "collapsed": false
   },
   "outputs": [
    {
     "name": "stdout",
     "output_type": "stream",
     "text": [
      "Populating the interactive namespace from numpy and matplotlib\n"
     ]
    },
    {
     "data": {
      "text/plain": [
       "[-0.5, 12, 0, 6000]"
      ]
     },
     "execution_count": 23,
     "metadata": {},
     "output_type": "execute_result"
    },
    {
     "data": {
      "image/png": "[encoded data removed]",
      "text/plain": [
       "<matplotlib.figure.Figure at 0x10dab2bd0>"
      ]
     },
     "metadata": {},
     "output_type": "display_data"
    }
   ],
   "source": [
    "%pylab inline\n",
    "\n",
    "n_groups = len(num)\n",
    "\n",
    "means_men = tuple(num)\n",
    "means_women = tuple(newvalues)\n",
    "\n",
    "fig, ax = plt.subplots(figsize=(15,9))\n",
    "index = np.arange(n_groups)\n",
    "bar_width = 0.35\n",
    "\n",
    "opacity = 1\n",
    "\n",
    "rects1 = plt.bar(index, means_men, bar_width,\n",
    "                 alpha=opacity,\n",
    "                 color='r',\n",
    "                 label='Sotheby Website')\n",
    "\n",
    "rects2 = plt.bar(index + bar_width, means_women, bar_width,\n",
    "                 alpha=opacity,\n",
    "                 color='b',\n",
    "                 label='Data Scraped')\n",
    "\n",
    "plt.xlabel('Years')\n",
    "plt.ylabel('Number of Lots')\n",
    "plt.title('Number of Lots From Koller Website And Data Scraped')\n",
    "plt.xticks(index + bar_width, tuple([x for x in range(2005, 2017)]))\n",
    "plt.legend(loc = 'upper right')\n",
    "plt.axis([-0.5, 12, 0, 6000])"
   ]
  },
  {
   "cell_type": "code",
   "execution_count": null,
   "metadata": {
    "collapsed": false
   },
   "outputs": [],
   "source": []
  },
  {
   "cell_type": "code",
   "execution_count": 87,
   "metadata": {
    "collapsed": true
   },
   "outputs": [],
   "source": []
  }
 ],
 "metadata": {
  "kernelspec": {
   "display_name": "Python 2",
   "language": "python",
   "name": "python2"
  },
  "language_info": {
   "codemirror_mode": {
    "name": "ipython",
    "version": 2
   },
   "file_extension": ".py",
   "mimetype": "text/x-python",
   "name": "python",
   "nbconvert_exporter": "python",
   "pygments_lexer": "ipython2",
   "version": "2.7.11"
  }
 },
 "nbformat": 4,
 "nbformat_minor": 0
}
