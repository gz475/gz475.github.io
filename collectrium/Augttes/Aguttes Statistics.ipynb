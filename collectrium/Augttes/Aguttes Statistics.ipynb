{
 "cells": [
  {
   "cell_type": "code",
   "execution_count": 50,
   "metadata": {
    "collapsed": false
   },
   "outputs": [
    {
     "name": "stderr",
     "output_type": "stream",
     "text": [
      "/Users/gzhao/Library/Python/2.7/lib/python/site-packages/IPython/core/interactiveshell.py:2723: DtypeWarning: Columns (15) have mixed types. Specify dtype option on import or set low_memory=False.\n",
      "  interactivity=interactivity, compiler=compiler, result=result)\n"
     ]
    },
    {
     "name": "stdout",
     "output_type": "stream",
     "text": [
      "Index([u'Sale Name', u'Sale Date', u'Sale Location', u'Sale Number',\n",
      "       u'Lot Number', u'Lot Title', u'Lot Description', u'High Estimate',\n",
      "       u'Low Estimate', u'Price', u'Currency', u'Status', u'Maker',\n",
      "       u'Image URL', u'Provenance', u'Literature', u'Notes', u'URL'],\n",
      "      dtype='object')\n"
     ]
    },
    {
     "name": "stderr",
     "output_type": "stream",
     "text": [
      "/Users/gzhao/Library/Python/2.7/lib/python/site-packages/ipykernel/__main__.py:12: FutureWarning: sort(columns=....) is deprecated, use sort_values(by=.....)\n",
      "/Users/gzhao/Library/Python/2.7/lib/python/site-packages/ipykernel/__main__.py:15: SettingWithCopyWarning: \n",
      "A value is trying to be set on a copy of a slice from a DataFrame.\n",
      "Try using .loc[row_indexer,col_indexer] = value instead\n",
      "\n",
      "See the caveats in the documentation: http://pandas.pydata.org/pandas-docs/stable/indexing.html#indexing-view-versus-copy\n"
     ]
    }
   ],
   "source": [
    "import pandas as pd\n",
    "import numpy as np\n",
    "import collections\n",
    "%matplotlib inline\n",
    "import matplotlib.pyplot as plt\n",
    "\n",
    "data = pd.read_csv(\"201604121056-Aguttes_auction_price.csv\", warn_bad_lines=True, error_bad_lines=False)\n",
    "print data.columns\n",
    "\n",
    "data['Sale Date'] = pd.to_datetime(data['Sale Date'], format='%m/%d/%Y', errors='coerce')\n",
    "data.index = data['Sale Date']\n",
    "data = data.sort('Sale Date')\n",
    "\n",
    "yearData = data[pd.notnull(data['Sale Date'])]\n",
    "yearData['Year'] = pd.DatetimeIndex(yearData['Sale Date']).year"
   ]
  },
  {
   "cell_type": "code",
   "execution_count": 51,
   "metadata": {
    "collapsed": false
   },
   "outputs": [
    {
     "data": {
      "text/plain": [
       "<matplotlib.text.Text at 0x10e92d890>"
      ]
     },
     "execution_count": 51,
     "metadata": {},
     "output_type": "execute_result"
    },
    {
     "data": {
      "image/png": "[encoded data removed]",
      "text/plain": [
       "<matplotlib.figure.Figure at 0x113b28210>"
      ]
     },
     "metadata": {},
     "output_type": "display_data"
    }
   ],
   "source": [
    "counter = collections.Counter(yearData['Year'])\n",
    "values = counter.values()[1:]\n",
    "values.append(counter.values()[0])\n",
    "keys = counter.keys()[1:]\n",
    "keys.append(counter.keys()[0])\n",
    "\n",
    "plt.figure(figsize = (15, 8))\n",
    "plt.bar(np.arange(len(counter.values())), values, 1.0, color = 'c')\n",
    "plt.xticks(np.arange(len(counter.values())) + 0.5, keys)\n",
    "plt.gca().yaxis.grid(True)\n",
    "plt.title('Aguttes Lot Data By Year')"
   ]
  },
  {
   "cell_type": "code",
   "execution_count": 3,
   "metadata": {
    "collapsed": true
   },
   "outputs": [],
   "source": [
    "df = {}\n",
    "numbers = []\n",
    "\n",
    "for x in data.columns:\n",
    "    df[x] = data[pd.notnull(data[x])]\n",
    "    numbers.append(len(df[x])/float(len(data)))"
   ]
  },
  {
   "cell_type": "code",
   "execution_count": 4,
   "metadata": {
    "collapsed": false
   },
   "outputs": [
    {
     "data": {
      "text/plain": [
       "<matplotlib.text.Text at 0x105f7e350>"
      ]
     },
     "execution_count": 4,
     "metadata": {},
     "output_type": "execute_result"
    },
    {
     "data": {
      "image/png": "[encoded data removed]",
      "text/plain": [
       "<matplotlib.figure.Figure at 0x105f44050>"
      ]
     },
     "metadata": {},
     "output_type": "display_data"
    }
   ],
   "source": [
    "plt.figure(figsize = (15, 8))\n",
    "plt.bar(np.arange(len(numbers)), numbers, 1.0, color = 'y')\n",
    "plt.xticks(np.arange(len(numbers)) + 0.5, data.columns, fontsize = 8)\n",
    "plt.gca().yaxis.grid(True)\n",
    "plt.title('Aguttes Percentages of Valid Data By Columns')"
   ]
  },
  {
   "cell_type": "code",
   "execution_count": 77,
   "metadata": {
    "collapsed": false
   },
   "outputs": [],
   "source": [
    "import numpy as np\n",
    "\n",
    "times = np.load('Aguttes_times.npy')\n",
    "numbers = np.load('Aguttes_numbers.npy')"
   ]
  },
  {
   "cell_type": "code",
   "execution_count": 78,
   "metadata": {
    "collapsed": false
   },
   "outputs": [],
   "source": [
    "years = []\n",
    "\n",
    "for x in times:\n",
    "    try:\n",
    "        years.append(int(x.split(' ')[3]))\n",
    "    except:\n",
    "        years.append(int(x.split(' ')[4]))"
   ]
  },
  {
   "cell_type": "code",
   "execution_count": 85,
   "metadata": {
    "collapsed": false
   },
   "outputs": [],
   "source": [
    "import re\n",
    "nums = []\n",
    "\n",
    "for x in numbers:\n",
    "    nums.append(int(re.sub(\"[^0-9]\", \"\", x.split(' ')[-3])))"
   ]
  },
  {
   "cell_type": "code",
   "execution_count": 86,
   "metadata": {
    "collapsed": false
   },
   "outputs": [],
   "source": [
    "import pandas as pd\n",
    "\n",
    "yearData = pd.DataFrame()\n",
    "yearData['Year'] = years\n",
    "yearData['Number'] = nums"
   ]
  },
  {
   "cell_type": "code",
   "execution_count": 87,
   "metadata": {
    "collapsed": false
   },
   "outputs": [],
   "source": [
    "num = []\n",
    "for x in range(2006, 2017):\n",
    "    sample = yearData[yearData['Year'] == x]\n",
    "    num.append(sum(sample['Number']))"
   ]
  },
  {
   "cell_type": "code",
   "execution_count": 88,
   "metadata": {
    "collapsed": false
   },
   "outputs": [
    {
     "name": "stdout",
     "output_type": "stream",
     "text": [
      "Populating the interactive namespace from numpy and matplotlib\n"
     ]
    },
    {
     "name": "stderr",
     "output_type": "stream",
     "text": [
      "WARNING: pylab import has clobbered these variables: ['sample']\n",
      "`%matplotlib` prevents importing * from pylab and numpy\n"
     ]
    },
    {
     "data": {
      "text/plain": [
       "[-0.5, 11, 0, 30000]"
      ]
     },
     "execution_count": 88,
     "metadata": {},
     "output_type": "execute_result"
    },
    {
     "data": {
      "image/png": "[encoded data removed]",
      "text/plain": [
       "<matplotlib.figure.Figure at 0x11589d810>"
      ]
     },
     "metadata": {},
     "output_type": "display_data"
    }
   ],
   "source": [
    "%pylab inline\n",
    "\n",
    "n_groups = len(num)\n",
    "\n",
    "means_men = tuple(num)\n",
    "means_women = tuple(values)\n",
    "\n",
    "fig, ax = plt.subplots(figsize=(15,9))\n",
    "index = np.arange(n_groups)\n",
    "bar_width = 0.35\n",
    "\n",
    "opacity = 1\n",
    "\n",
    "rects1 = plt.bar(index, means_men, bar_width,\n",
    "                 alpha=opacity,\n",
    "                 color='r',\n",
    "                 label='Aguttes Website')\n",
    "\n",
    "rects2 = plt.bar(index + bar_width, means_women, bar_width,\n",
    "                 alpha=opacity,\n",
    "                 color='b',\n",
    "                 label='Data Scraped')\n",
    "\n",
    "plt.xlabel('Years')\n",
    "plt.ylabel('Number of Lots')\n",
    "plt.title('Number of Lots From Aguttes Website And Data Scraped')\n",
    "plt.xticks(index + bar_width, tuple([x for x in range(2006, 2017)]))\n",
    "plt.legend(loc = 'upper right')\n",
    "plt.axis([-0.5, 11, 0, 30000])"
   ]
  },
  {
   "cell_type": "code",
   "execution_count": null,
   "metadata": {
    "collapsed": false
   },
   "outputs": [],
   "source": []
  },
  {
   "cell_type": "code",
   "execution_count": null,
   "metadata": {
    "collapsed": true
   },
   "outputs": [],
   "source": []
  }
 ],
 "metadata": {
  "kernelspec": {
   "display_name": "Python 2",
   "language": "python",
   "name": "python2"
  },
  "language_info": {
   "codemirror_mode": {
    "name": "ipython",
    "version": 2
   },
   "file_extension": ".py",
   "mimetype": "text/x-python",
   "name": "python",
   "nbconvert_exporter": "python",
   "pygments_lexer": "ipython2",
   "version": "2.7.11"
  }
 },
 "nbformat": 4,
 "nbformat_minor": 0
}
