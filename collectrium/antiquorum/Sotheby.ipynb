{
 "cells": [
  {
   "cell_type": "code",
   "execution_count": 1,
   "metadata": {
    "collapsed": false
   },
   "outputs": [
    {
     "name": "stderr",
     "output_type": "stream",
     "text": [
      "Skipping line 225573: expected 18 fields, saw 27\n",
      "\n"
     ]
    },
    {
     "name": "stdout",
     "output_type": "stream",
     "text": [
      "Index([u'Sale Name', u'Sale Date', u'Sale Location', u'Sale Number',\n",
      "       u'Lot Number', u'Lot Title', u'Lot Description', u'High Estimate',\n",
      "       u'Low Estimate', u'Price', u'Currency', u'Status', u'Maker',\n",
      "       u'Image URL', u'Provenance', u'Literature', u'Notes', u'URL'],\n",
      "      dtype='object')\n"
     ]
    },
    {
     "name": "stderr",
     "output_type": "stream",
     "text": [
      "/Users/gzhao/Library/Python/2.7/lib/python/site-packages/IPython/core/interactiveshell.py:2723: DtypeWarning: Columns (7,8,9) have mixed types. Specify dtype option on import or set low_memory=False.\n",
      "  interactivity=interactivity, compiler=compiler, result=result)\n"
     ]
    }
   ],
   "source": [
    "import pandas as pd\n",
    "import numpy as np\n",
    "import collections\n",
    "\n",
    "data = pd.read_csv(\"sothebys_historical_data.csv\", warn_bad_lines=True, error_bad_lines=False)\n",
    "print data.columns"
   ]
  },
  {
   "cell_type": "code",
   "execution_count": 2,
   "metadata": {
    "collapsed": false
   },
   "outputs": [],
   "source": [
    "%matplotlib inline\n",
    "import matplotlib.pyplot as plt"
   ]
  },
  {
   "cell_type": "code",
   "execution_count": 3,
   "metadata": {
    "collapsed": false,
    "scrolled": true
   },
   "outputs": [
    {
     "name": "stderr",
     "output_type": "stream",
     "text": [
      "/Users/gzhao/Library/Python/2.7/lib/python/site-packages/ipykernel/__main__.py:3: FutureWarning: sort(columns=....) is deprecated, use sort_values(by=.....)\n",
      "  app.launch_new_instance()\n"
     ]
    }
   ],
   "source": [
    "data['Sale Date'] = pd.to_datetime(data['Sale Date'], format='%m/%d/%Y', errors='coerce')\n",
    "data.index = data['Sale Date']\n",
    "data = data.sort('Sale Date')"
   ]
  },
  {
   "cell_type": "code",
   "execution_count": 4,
   "metadata": {
    "collapsed": false
   },
   "outputs": [
    {
     "name": "stdout",
     "output_type": "stream",
     "text": [
      "458708\n",
      "455324\n"
     ]
    }
   ],
   "source": [
    "print len(data)\n",
    "data = data[pd.notnull(data['Sale Date'])]\n",
    "print len(data)"
   ]
  },
  {
   "cell_type": "code",
   "execution_count": 5,
   "metadata": {
    "collapsed": false
   },
   "outputs": [],
   "source": [
    "data['Year'] = pd.DatetimeIndex(data['Sale Date']).year"
   ]
  },
  {
   "cell_type": "code",
   "execution_count": 6,
   "metadata": {
    "collapsed": false
   },
   "outputs": [
    {
     "data": {
      "text/plain": [
       "<matplotlib.text.Text at 0x10afa5f50>"
      ]
     },
     "execution_count": 6,
     "metadata": {},
     "output_type": "execute_result"
    },
    {
     "data": {
      "image/png": "[encoded data removed]",
      "text/plain": [
       "<matplotlib.figure.Figure at 0x1027aed10>"
      ]
     },
     "metadata": {},
     "output_type": "display_data"
    }
   ],
   "source": [
    "counter = collections.Counter(data['Year'])\n",
    "\n",
    "plt.figure(figsize = (15, 8))\n",
    "plt.bar(np.arange(len(counter.values())), counter.values(), 1.0, color = 'c')\n",
    "plt.xticks(np.arange(len(counter.values())) + 0.5, counter.keys())\n",
    "plt.gca().yaxis.grid(True)\n",
    "plt.title('Sotheby Data By Year')"
   ]
  },
  {
   "cell_type": "code",
   "execution_count": 7,
   "metadata": {
    "collapsed": false
   },
   "outputs": [
    {
     "name": "stdout",
     "output_type": "stream",
     "text": [
      "[('http://www.sothebys.com/content/dam/default/underCopyright.jpg', 76144), ('http://www.sothebys.com/content/dam/sothebys/default/lot.jpg', 56211), ('http://www.sothebys.com/content/dam/sothebys-pages/auction-sales-recirc/2014/04/HK0527_auctionlist.jpg', 1600)]\n",
      "0.290683117956\n"
     ]
    }
   ],
   "source": [
    "counter = collections.Counter(data['Image URL'])\n",
    "\n",
    "print counter.most_common(3)\n",
    "print sum(sorted(counter.values())[-2:])/float(len(data))"
   ]
  },
  {
   "cell_type": "code",
   "execution_count": 8,
   "metadata": {
    "collapsed": false
   },
   "outputs": [
    {
     "name": "stdout",
     "output_type": "stream",
     "text": [
      "[ 'http://www.sothebys.com/en/auctions/ecatalogue/2008/latin-american-art-n08493/lot.77.html'\n",
      " 'http://www.sothebys.com/en/auctions/ecatalogue/2012/russianpaintings/lot.204.html'\n",
      " 'http://www.sothebys.com/en/auctions/ecatalogue/2014/finest-rarest-wines-l14712/lot.553.html'\n",
      " 'http://www.sothebys.com/en/auctions/ecatalogue/2007/european-collections-paintings-ceramics-glass-furniture-and-other-works-of-art-am1028/lot.1024.html'\n",
      " 'http://www.sothebys.com/en/auctions/ecatalogue/2008/modern-and-contemporary-southeast-asian-paintings-hk0275/lot.866.html'\n",
      " 'http://www.sothebys.com/en/auctions/ecatalogue/2009/american-indian-art-including-property-from-the-collection-of-frieda-and-milton-rosenthal-n08554/lot.33.html'\n",
      " 'http://www.sothebys.com/en/auctions/ecatalogue/2006/a-celebration-of-the-english-country-house-furniture-silver-ceramics-n08177/lot.179.html'\n",
      " 'http://www.sothebys.com/en/auctions/ecatalogue/2014/a-table-pf1460/lot.182.html'\n",
      " 'http://www.sothebys.com/en/auctions/ecatalogue/2008/the-collection-of-khalil-rizk-n08411/lot.439.html'\n",
      " 'http://www.sothebys.com/en/auctions/ecatalogue/2013/magnificent-jewels-and-noble-jewels-ge1302/lot.393.html']\n"
     ]
    }
   ],
   "source": [
    "sample = data.sample(n =10)\n",
    "print np.array(sample['URL'])"
   ]
  },
  {
   "cell_type": "code",
   "execution_count": null,
   "metadata": {
    "collapsed": false
   },
   "outputs": [],
   "source": []
  },
  {
   "cell_type": "code",
   "execution_count": null,
   "metadata": {
    "collapsed": true
   },
   "outputs": [],
   "source": []
  }
 ],
 "metadata": {
  "kernelspec": {
   "display_name": "Python 2",
   "language": "python",
   "name": "python2"
  },
  "language_info": {
   "codemirror_mode": {
    "name": "ipython",
    "version": 2
   },
   "file_extension": ".py",
   "mimetype": "text/x-python",
   "name": "python",
   "nbconvert_exporter": "python",
   "pygments_lexer": "ipython2",
   "version": "2.7.11"
  }
 },
 "nbformat": 4,
 "nbformat_minor": 0
}
