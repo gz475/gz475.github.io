{
 "cells": [
  {
   "cell_type": "markdown",
   "metadata": {},
   "source": [
    "# Sotheby Parse Scraped Data"
   ]
  },
  {
   "cell_type": "markdown",
   "metadata": {},
   "source": [
    "This notebook is used to parse Sotheby Data came from David La Cross "
   ]
  },
  {
   "cell_type": "markdown",
   "metadata": {},
   "source": [
    "## Get the first 100 lines as a sample to look into the data"
   ]
  },
  {
   "cell_type": "code",
   "execution_count": 45,
   "metadata": {
    "collapsed": false
   },
   "outputs": [
    {
     "name": "stderr",
     "output_type": "stream",
     "text": [
      "Skipping line 225573: expected 18 fields, saw 27\n",
      "\n"
     ]
    }
   ],
   "source": [
    "import pandas as pd\n",
    "import numpy as np\n",
    "\n",
    "data = pd.read_csv(\"sothebys_historical_data.csv\", warn_bad_lines=True, error_bad_lines=False)\n",
    "sampleData = data[:100]"
   ]
  },
  {
   "cell_type": "code",
   "execution_count": 177,
   "metadata": {
    "collapsed": false
   },
   "outputs": [
    {
     "name": "stdout",
     "output_type": "stream",
     "text": [
      "['AN ALBUM OF ASSORTED WATERCOLOURS BY VARIOUS HANDS, INCLUDING WORKS BY ALFRED EDWARD,...', \"An unusual pair of Irish silver-gilt covered jugs, maker's mark JS, Dublin, 1852,...\", 'An Irish silver butter tub, Richard Sawyer, Dublin, 1839/40, circular, applied with...', 'Horace Walter Gilbert, A STUDY OF A ROOK, signed and dated 1878, 25 by 35.5cm.; 9 by...', 'Samuel William Reynolds, A STUDY OF A MOTHER AND CHILD, coloured chalks on prepared...', 'Harry John Johnson, THE OLYMPEIUM - THE TEMPLE OF ZEUS, pencil, 7.5 by 14.5cm.; 3...', 'Victor Emile Prouve, THE DISCUSSION, signed, pen and ink, 25 by 20cm.; 9 by 8in.', 'Arthur Gerald Ackermann, R.I., WELLS CATHEDRAL, signed, 17 by 34.5cm.; 6 by...', 'An Irish provincial silver fish slice, Richard Garde of Cork with Dublin marks,...', 'An Irish silver soup ladle, John Pittar, Dublin, 1749, the shell bowl chased with...', 'A pair of Irish provincial silver asparagus tongs, Carden Terry, Cork, circa 1800,...', 'An Irish silver cup and later cover, Samuel Beere, Dublin, 1825, thistle shaped,...', 'An Irish silver-gilt cup and cover, Matthew West, Dublin, 1777, vase shaped, chased...', 'A pair of George III silver goblets, Joseph Jackson, Dublin 1804, vase shaped,...', 'An Irish silver potato ring, John Bolland, London, 1800, spool shaped, pierced with...', \"An Irish four piece silver tea set, John Nicklin, Dublin, 1833, hexagonal, deer's...\", 'A silver and enamelled cup and cover, Horace Woodward & Co Ltd, London, 1909, retailer...', 'A Victorian gilt-brass carriage timepiece, Thomas Given, Dublin dated 1851, enamel...', 'Thomas Macquoid, AT LUBECK, signed, inscribed and dated 1902, 40 by 35.5cm.; 15 by 14in....', 'Max R\\xc3\\x8cmer, A SET OF FOUR VIEWS OF MADEIRA, all signed, inscribed and dated 1928,...', 'Esther S. Hope, LAKE WANAKA is in Newzealand signed, inscribed on reverse, 37 by 56cm.;...', 'Roberto Domingo y Fallola, THE BULLFIGHT, signed, gouache, 12 by 18cm.; 4 by 7in.', 'Manner of Arthur Melville, THE BULLFIGHT, bears a signature and inscription,...', \"An Irish silver hot water jug, maker's mark poorly struck, Dublin, circa 1785,...\", 'An Irish silver three piece tea set, J & E Moore, Dublin, 1842/3, bulbous, the teapot...', 'Two Irish silver-gilt salvers, William Nowlan, Dubin, 1823, retailer Law & Son of...', 'A pair of Irish silver sauce boats, Ambrose Boxwell, Dublin, 1777, oval, engraved with...', 'A pair of Irish provincial silver sauce boats, Stephen Walsh, Cork, circa 1770,...', 'An Irish silver strainer spoon, Samuel Neville, Dublin, 1797, pointed Old English...', 'An Irish silver salver, David Boems, Dublin, circa 1760, circular, armorial engraved...', 'An Irish silver cake basket, John Hamilton, Dublin, circa 1740, armorial engraved oval...', 'A George II silver cruet, Thomas Williamson, Dublin, 1734, the conjoined ring frame on...', 'Pr. silvre mugs b/i lot 209, 11 Oct 2001', 'Robert Malcolm Lloyd, LOW TIDE, signed and dated 1895, watercolour and bodycolour, 24...', 'John Baragwanath King, RIVER SCENE AT SUNDOWN, signed, 25 by 35cm.; 10 by 13in.', 'John Fulleylove, R.I., A MONUMENT NEAR A BRIDGE; A VIEW OF A FOUNTAIN, two, both...', 'Charles L Saunders, CROSSING THE MOORLAND STREAM, signed, 33 by 48cm.; 13 by 19in.,...', 'J. Barclay, THE MILKMAID, signed, watercolour heightened with white, 29 by 44cm.; 11 by...', \"A pair of Irish silver sugar tongs, maker's mark JS, Dublin, 1870, retailer's stamp...\", \"Twelve Irish silver Queen's pattern table spoons, Smith & Gamble, Dublin, 1831, lion...\", \"Irish King's pattern table silver, James Le Bass, Dublin, 1828, engraved dove holding...\", 'Six Irish provincial silver tea spoons, John & Nicolas Nicolson, Cork, circa 1800,...', 'A pair of Irish provincial silver serving spoons, Carden Terry, Cork, circa 1800,...', 'A massive Victorian silver tea kettle on stand and burner, Richard Sawyer, Dublin,...', 'Four Irish silver trencher salts, John Hamilton, Dublin, circa 1715, spiral...', 'An Irish whiskey cistern and copper stand, early 20th century, the shouldered ovoid...', 'An Irish cut-glass water jug, circa 1800, the shouldered ovoid form cut with a broad...', 'A pair of Irish cut-glass salts and covers, circa 1800, each oval ogee bowl cut with a...', 'After William Ross, PORTRAIT OF THE PRINCE OF WALES AND THE PRINCESS ROYAL, inscribed in...', 'Henry Gastineau, CARLINGFORD CASTLE, IRELAND, BY MOONLIGHT, signed and dated 1866,...', 'S... S... B..., HARVEST LANDSCAPE, POSSIBLY ISLE OF WIGHT, signed with monogram and...', 'English School, 19th century, LANDSCAPES, three, pen and ink, unframed, each 16.5 by...', 'John Banting, CLOWN II, signed and dated 1957, signed on the backboard, pen and...', 'A cut-glass candlestick, possibly Irish, 19th century, the swollen baluster stem cut...', 'An Irish cut-glass canoe-shaped bowl, circa 1800, the oval bowl cut with a broad band...', 'An Irish cut-glass water jugprobably Cork, circa 1800', 'An Irish kettle-drum bowl, circa 1820, the circular bowl cut with alternate vertical...', 'A pair of Irish cut-glass rinsers, circa 1820, each rounded form with double...', 'An Irish silver sugar vase, Christopher Haines, Dublin, 1795, fluted oval with...', 'An Irish silver-gilt freedom box, William Currie, Dublin, circa 1755, the detachable...', 'City of Dublin: An Irish silver-gilt freedom box, Bartholomew Stokes, Dublin, circa...', \"An Irish silver tazza, apparently without maker's mark, Dublin, 1715, circular,...\", \"Irish King's pattern table silver, maker's mark NCC Ltd, Dublin, 1966-71, fitted...\", 'Glyn Philpot, NEGRO HEAD STUDY, pencil, 13 by 10cm.; 5 by 4in.', 'Follower of Wilfred Williams Ball, AN INN ON A COUNTRY LANE, bears a signature,...', 'T... B... W..., LAKE LANDSCAPE WITH BOATS, signed with monogram, watercolour...', \"Inez Johnson, `LA BELLE DAME SANS MERCI HATH ME IN THRALL': KEATS, pencil sketch, 43 by...\", 'Dutch School, late 19th Century, CALVES IN A LANDSCAPE, watercolour heightened with...', 'A pair of Irish cut-glass dishes, circa 1800 each cut with a central ten-pointed star...', 'A cut-glass silver-mounted tea caddy and cover, possibly Irish, circa 1800, of...', 'A Cork engraved glass decanter and stopper, 19th century, possibly later engraved, of...', 'A cut-glass preserve jar and cover, possibly Irish, circa 1800, of shield-shape, cut...', 'An Irish cut-glass canoe-shaped bowl, probably Cork, circa 1790, the large ovoid...', 'An Irish silver cup and cover, William Williamson, Dublin, circa 1740, inverted...', 'An Irish silver salver on foot, Erasmus Cope, Dublin, 1717, circular, armorial engraved...', 'An Irish silver bowl, William Townsend, Dublin, circa 1750, hemi-spherical,...', \"Four Irish silver-gilt dessert dishes, maker's mark only of Richard Williams of...\", 'A pair of Irish silver salvers on foot, John Hamilton, Dublin, circa 1735, circular,...', 'John Cuthbert Salmon, SHEEP GRAZING IN A LANDSCAPE, signed, 24 by 35cm.; 9 by 13in....', 'Albert Stevens, LANDSCAPE, signed, 31 by 48cm.; 12 by 19in., ex lot 928 16Jan01;...', 'Montague Dawson, A VESSEL IN DRY DOCK, pencil sketch, 39.5 by 26cm.; 15 by 10in., report...', 'Edgar E. West, A VIEW OF A BRIDGE OVER A LOCH, signed, 48.5 by 39cm.; 19 by 15in.,...', 'Pierre le Boeuff, CONTINENTAL TOWN SCENES, a pair, both signed, each 27 by 36.5cm.; 10...', 'An Irish cut-glass canoe-shaped bowl, possibly Cork, early 19th century, the...', 'A large Irish cut-glass canoe-shaped bowl, probably Cork, circa 1800, the oval bowl...', 'A cut-glass preserve jar, cover and stand, Second quarter 19th century, each piece...', \"A Staffordshire portrait figure of `Dan O'Connell', circa 1870-80, modelled by...\", 'A Belleek earthenware water jug, First Period (1863-1890), of shouldered ovoid form with...', 'A pair of Irish silver salvers, Robert Calderwood, Dublin, circa 1750, shaped...', 'A pair of Irish silver salvers on foot, Bartholomew Mosse, Dublin, circa 1735,...', 'A rare early 18th century Irish sexfoil silver salver, David King, Dublin, 1718,...', 'A pair of Irish silver candlesticks, William Sutton, Dublin, 1728, nozzles John Buckton...', \"A William III Irish silver tankard, maker's mark a cinquefoil below a device struck...\", 'H... Weisserborn, LANDSCAPE, signed, pastel, 52.5 by 73cm.; 20 by 28in., report 16 jan...', 'David Cox, junior, A RIVER IN FULL SPATE, watercolour over pencil, 26 by 36cm.; 10...', 'R. A. Massey, LITTLE OWL, signed, watercolour and bodycolour, 28.5 by 24.5cm.; 11 by...', 'R. A. Massey, A STUDY OF DUCKS, POSSIBLY BLUE WINGED TEAL, signed, watercolour and...', 'Myra Pointer, A HEAD STUDY OF A DOG, signed and dated 1886, pastels, oval, 42.5 by...', 'A Belleek earthenware chamber pot, circa 1877-1890, white glazed, moulded with...', \"A Belleek `Tridolphin' low comport, First Period (1863-1890), modelled as a large...\"]\n"
     ]
    }
   ],
   "source": [
    "print list(sampleData['Lot Title'])"
   ]
  },
  {
   "cell_type": "code",
   "execution_count": 30,
   "metadata": {
    "collapsed": false
   },
   "outputs": [
    {
     "name": "stdout",
     "output_type": "stream",
     "text": [
      "[nan, nan, nan, nan, nan, nan, nan, nan, nan, nan, nan, nan, nan, nan, nan, nan, nan, nan, nan, nan, nan, nan, nan, nan, nan, nan, nan, nan, nan, nan, nan, nan, nan, nan, nan, nan, nan, nan, nan, nan, nan, nan, nan, nan, nan, nan, nan, nan, nan, nan, nan, nan, nan, nan, nan, 'the shouldered ovoid form cut with a broad band of lozenges containing cross-cut diamonds above a basal flute moulded base, the everted rim cut with areas of thumb-nail facets beneath a scalloped rim, applied scroll handle\\n16cm., 6\\xc2\\xbcin.,', nan, nan, nan, nan, nan, nan, nan, nan, nan, nan, nan, nan, nan, nan, nan, nan, nan, nan, nan, nan, nan, nan, nan, nan, nan, nan, nan, nan, nan, nan, nan, nan, nan, nan, nan, nan, nan, nan, nan, nan, nan, nan, nan, nan]\n"
     ]
    }
   ],
   "source": [
    "print list(sampleData['Lot Description'])"
   ]
  },
  {
   "cell_type": "code",
   "execution_count": 31,
   "metadata": {
    "collapsed": false
   },
   "outputs": [
    {
     "name": "stdout",
     "output_type": "stream",
     "text": [
      "['http://www.sothebys.com/en/auctions/ecatalogue/2001/oil-paintings-and-watercolours-b01002/lot.901.html', 'http://www.sothebys.com/en/auctions/ecatalogue/2000/the-irish-sale-l00704/lot.1.html', 'http://www.sothebys.com/en/auctions/ecatalogue/2001/the-irish-sale-l01947/lot.1.html', 'http://www.sothebys.com/en/auctions/ecatalogue/2001/oil-paintings-and-watercolours-b01002/lot.902.html', 'http://www.sothebys.com/en/auctions/ecatalogue/2001/oil-paintings-and-watercolours-b01002/lot.903.html', 'http://www.sothebys.com/en/auctions/ecatalogue/2001/oil-paintings-and-watercolours-b01002/lot.904.html', 'http://www.sothebys.com/en/auctions/ecatalogue/2001/oil-paintings-and-watercolours-b01002/lot.905.html', 'http://www.sothebys.com/en/auctions/ecatalogue/2001/oil-paintings-and-watercolours-b01002/lot.906.html', 'http://www.sothebys.com/en/auctions/ecatalogue/2000/the-irish-sale-l00704/lot.2.html', 'http://www.sothebys.com/en/auctions/ecatalogue/2000/the-irish-sale-l00704/lot.3.html', 'http://www.sothebys.com/en/auctions/ecatalogue/2000/the-irish-sale-l00704/lot.4.html', 'http://www.sothebys.com/en/auctions/ecatalogue/2000/the-irish-sale-l00704/lot.5.html', 'http://www.sothebys.com/en/auctions/ecatalogue/2000/the-irish-sale-l00704/lot.6.html', 'http://www.sothebys.com/en/auctions/ecatalogue/2001/the-irish-sale-l01947/lot.2.html', 'http://www.sothebys.com/en/auctions/ecatalogue/2001/the-irish-sale-l01947/lot.3.html', 'http://www.sothebys.com/en/auctions/ecatalogue/2001/the-irish-sale-l01947/lot.4.html', 'http://www.sothebys.com/en/auctions/ecatalogue/2001/the-irish-sale-l01947/lot.5.html', 'http://www.sothebys.com/en/auctions/ecatalogue/2001/the-irish-sale-l01947/lot.6.html', 'http://www.sothebys.com/en/auctions/ecatalogue/2001/oil-paintings-and-watercolours-b01002/lot.907.html', 'http://www.sothebys.com/en/auctions/ecatalogue/2001/oil-paintings-and-watercolours-b01002/lot.908.html', 'http://www.sothebys.com/en/auctions/ecatalogue/2001/oil-paintings-and-watercolours-b01002/lot.909.html', 'http://www.sothebys.com/en/auctions/ecatalogue/2001/oil-paintings-and-watercolours-b01002/lot.910.html', 'http://www.sothebys.com/en/auctions/ecatalogue/2001/oil-paintings-and-watercolours-b01002/lot.911.html', 'http://www.sothebys.com/en/auctions/ecatalogue/2000/the-irish-sale-l00704/lot.7.html', 'http://www.sothebys.com/en/auctions/ecatalogue/2000/the-irish-sale-l00704/lot.8.html', 'http://www.sothebys.com/en/auctions/ecatalogue/2000/the-irish-sale-l00704/lot.9.html', 'http://www.sothebys.com/en/auctions/ecatalogue/2000/the-irish-sale-l00704/lot.10.html', 'http://www.sothebys.com/en/auctions/ecatalogue/2000/the-irish-sale-l00704/lot.11.html', 'http://www.sothebys.com/en/auctions/ecatalogue/2001/the-irish-sale-l01947/lot.7.html', 'http://www.sothebys.com/en/auctions/ecatalogue/2001/the-irish-sale-l01947/lot.8.html', 'http://www.sothebys.com/en/auctions/ecatalogue/2001/the-irish-sale-l01947/lot.9.html', 'http://www.sothebys.com/en/auctions/ecatalogue/2001/the-irish-sale-l01947/lot.10.html', 'http://www.sothebys.com/en/auctions/ecatalogue/2001/the-irish-sale-l01947/lot.11.html', 'http://www.sothebys.com/en/auctions/ecatalogue/2001/oil-paintings-and-watercolours-b01002/lot.912.html', 'http://www.sothebys.com/en/auctions/ecatalogue/2001/oil-paintings-and-watercolours-b01002/lot.913.html', 'http://www.sothebys.com/en/auctions/ecatalogue/2001/oil-paintings-and-watercolours-b01002/lot.914.html', 'http://www.sothebys.com/en/auctions/ecatalogue/2001/oil-paintings-and-watercolours-b01002/lot.915.html', 'http://www.sothebys.com/en/auctions/ecatalogue/2001/oil-paintings-and-watercolours-b01002/lot.916.html', 'http://www.sothebys.com/en/auctions/ecatalogue/2000/the-irish-sale-l00704/lot.12.html', 'http://www.sothebys.com/en/auctions/ecatalogue/2000/the-irish-sale-l00704/lot.13.html', 'http://www.sothebys.com/en/auctions/ecatalogue/2000/the-irish-sale-l00704/lot.14.html', 'http://www.sothebys.com/en/auctions/ecatalogue/2000/the-irish-sale-l00704/lot.15.html', 'http://www.sothebys.com/en/auctions/ecatalogue/2000/the-irish-sale-l00704/lot.16.html', 'http://www.sothebys.com/en/auctions/ecatalogue/2001/the-irish-sale-l01947/lot.12.html', 'http://www.sothebys.com/en/auctions/ecatalogue/2001/the-irish-sale-l01947/lot.13.html', 'http://www.sothebys.com/en/auctions/ecatalogue/2001/the-irish-sale-l01947/lot.14.html', 'http://www.sothebys.com/en/auctions/ecatalogue/2001/the-irish-sale-l01947/lot.15.html', 'http://www.sothebys.com/en/auctions/ecatalogue/2001/the-irish-sale-l01947/lot.16.html', 'http://www.sothebys.com/en/auctions/ecatalogue/2001/oil-paintings-and-watercolours-b01002/lot.917.html', 'http://www.sothebys.com/en/auctions/ecatalogue/2001/oil-paintings-and-watercolours-b01002/lot.918.html', 'http://www.sothebys.com/en/auctions/ecatalogue/2001/oil-paintings-and-watercolours-b01002/lot.919.html', 'http://www.sothebys.com/en/auctions/ecatalogue/2001/oil-paintings-and-watercolours-b01002/lot.920.html', 'http://www.sothebys.com/en/auctions/ecatalogue/2001/oil-paintings-and-watercolours-b01002/lot.921.html', 'http://www.sothebys.com/en/auctions/ecatalogue/2001/the-irish-sale-l01947/lot.17.html', 'http://www.sothebys.com/en/auctions/ecatalogue/2001/the-irish-sale-l01947/lot.18.html', 'http://www.sothebys.com/en/auctions/ecatalogue/2001/the-irish-sale-l01947/lot.19.html', 'http://www.sothebys.com/en/auctions/ecatalogue/2001/the-irish-sale-l01947/lot.21.html', 'http://www.sothebys.com/en/auctions/ecatalogue/2001/the-irish-sale-l01947/lot.22.html', 'http://www.sothebys.com/en/auctions/ecatalogue/2000/the-irish-sale-l00704/lot.17.html', 'http://www.sothebys.com/en/auctions/ecatalogue/2000/the-irish-sale-l00704/lot.18.html', 'http://www.sothebys.com/en/auctions/ecatalogue/2000/the-irish-sale-l00704/lot.19.html', 'http://www.sothebys.com/en/auctions/ecatalogue/2000/the-irish-sale-l00704/lot.20.html', 'http://www.sothebys.com/en/auctions/ecatalogue/2000/the-irish-sale-l00704/lot.21.html', 'http://www.sothebys.com/en/auctions/ecatalogue/2001/oil-paintings-and-watercolours-b01002/lot.922.html', 'http://www.sothebys.com/en/auctions/ecatalogue/2001/oil-paintings-and-watercolours-b01002/lot.923.html', 'http://www.sothebys.com/en/auctions/ecatalogue/2001/oil-paintings-and-watercolours-b01002/lot.924.html', 'http://www.sothebys.com/en/auctions/ecatalogue/2001/oil-paintings-and-watercolours-b01002/lot.925.html', 'http://www.sothebys.com/en/auctions/ecatalogue/2001/oil-paintings-and-watercolours-b01002/lot.926.html', 'http://www.sothebys.com/en/auctions/ecatalogue/2001/the-irish-sale-l01947/lot.23.html', 'http://www.sothebys.com/en/auctions/ecatalogue/2001/the-irish-sale-l01947/lot.24.html', 'http://www.sothebys.com/en/auctions/ecatalogue/2001/the-irish-sale-l01947/lot.25.html', 'http://www.sothebys.com/en/auctions/ecatalogue/2001/the-irish-sale-l01947/lot.26.html', 'http://www.sothebys.com/en/auctions/ecatalogue/2001/the-irish-sale-l01947/lot.27.html', 'http://www.sothebys.com/en/auctions/ecatalogue/2000/the-irish-sale-l00704/lot.22.html', 'http://www.sothebys.com/en/auctions/ecatalogue/2000/the-irish-sale-l00704/lot.23.html', 'http://www.sothebys.com/en/auctions/ecatalogue/2000/the-irish-sale-l00704/lot.24.html', 'http://www.sothebys.com/en/auctions/ecatalogue/2000/the-irish-sale-l00704/lot.25.html', 'http://www.sothebys.com/en/auctions/ecatalogue/2000/the-irish-sale-l00704/lot.26.html', 'http://www.sothebys.com/en/auctions/ecatalogue/2001/oil-paintings-and-watercolours-b01002/lot.927.html', 'http://www.sothebys.com/en/auctions/ecatalogue/2001/oil-paintings-and-watercolours-b01002/lot.928.html', 'http://www.sothebys.com/en/auctions/ecatalogue/2001/oil-paintings-and-watercolours-b01002/lot.929.html', 'http://www.sothebys.com/en/auctions/ecatalogue/2001/oil-paintings-and-watercolours-b01002/lot.930.html', 'http://www.sothebys.com/en/auctions/ecatalogue/2001/oil-paintings-and-watercolours-b01002/lot.931.html', 'http://www.sothebys.com/en/auctions/ecatalogue/2001/the-irish-sale-l01947/lot.28.html', 'http://www.sothebys.com/en/auctions/ecatalogue/2001/the-irish-sale-l01947/lot.29.html', 'http://www.sothebys.com/en/auctions/ecatalogue/2001/the-irish-sale-l01947/lot.30.html', 'http://www.sothebys.com/en/auctions/ecatalogue/2001/the-irish-sale-l01947/lot.31.html', 'http://www.sothebys.com/en/auctions/ecatalogue/2001/the-irish-sale-l01947/lot.32.html', 'http://www.sothebys.com/en/auctions/ecatalogue/2000/the-irish-sale-l00704/lot.27.html', 'http://www.sothebys.com/en/auctions/ecatalogue/2000/the-irish-sale-l00704/lot.28.html', 'http://www.sothebys.com/en/auctions/ecatalogue/2000/the-irish-sale-l00704/lot.29.html', 'http://www.sothebys.com/en/auctions/ecatalogue/2000/the-irish-sale-l00704/lot.30.html', 'http://www.sothebys.com/en/auctions/ecatalogue/2000/the-irish-sale-l00704/lot.31.html', 'http://www.sothebys.com/en/auctions/ecatalogue/2001/oil-paintings-and-watercolours-b01002/lot.932.html', 'http://www.sothebys.com/en/auctions/ecatalogue/2001/oil-paintings-and-watercolours-b01002/lot.933.html', 'http://www.sothebys.com/en/auctions/ecatalogue/2001/oil-paintings-and-watercolours-b01002/lot.934.html', 'http://www.sothebys.com/en/auctions/ecatalogue/2001/oil-paintings-and-watercolours-b01002/lot.935.html', 'http://www.sothebys.com/en/auctions/ecatalogue/2001/oil-paintings-and-watercolours-b01002/lot.936.html', 'http://www.sothebys.com/en/auctions/ecatalogue/2001/the-irish-sale-l01947/lot.33.html', 'http://www.sothebys.com/en/auctions/ecatalogue/2001/the-irish-sale-l01947/lot.34.html']\n"
     ]
    }
   ],
   "source": [
    "print list(sampleData['URL'])"
   ]
  },
  {
   "cell_type": "code",
   "execution_count": 32,
   "metadata": {
    "collapsed": false
   },
   "outputs": [
    {
     "name": "stdout",
     "output_type": "stream",
     "text": [
      "['Oil Paintings and Watercolours', 'The Irish Sale', 'The Irish Sale', 'Oil Paintings and Watercolours', 'Oil Paintings and Watercolours', 'Oil Paintings and Watercolours', 'Oil Paintings and Watercolours', 'Oil Paintings and Watercolours', 'The Irish Sale', 'The Irish Sale', 'The Irish Sale', 'The Irish Sale', 'The Irish Sale', 'The Irish Sale', 'The Irish Sale', 'The Irish Sale', 'The Irish Sale', 'The Irish Sale', 'Oil Paintings and Watercolours', 'Oil Paintings and Watercolours', 'Oil Paintings and Watercolours', 'Oil Paintings and Watercolours', 'Oil Paintings and Watercolours', 'The Irish Sale', 'The Irish Sale', 'The Irish Sale', 'The Irish Sale', 'The Irish Sale', 'The Irish Sale', 'The Irish Sale', 'The Irish Sale', 'The Irish Sale', 'The Irish Sale', 'Oil Paintings and Watercolours', 'Oil Paintings and Watercolours', 'Oil Paintings and Watercolours', 'Oil Paintings and Watercolours', 'Oil Paintings and Watercolours', 'The Irish Sale', 'The Irish Sale', 'The Irish Sale', 'The Irish Sale', 'The Irish Sale', 'The Irish Sale', 'The Irish Sale', 'The Irish Sale', 'The Irish Sale', 'The Irish Sale', 'Oil Paintings and Watercolours', 'Oil Paintings and Watercolours', 'Oil Paintings and Watercolours', 'Oil Paintings and Watercolours', 'Oil Paintings and Watercolours', 'The Irish Sale', 'The Irish Sale', 'The Irish Sale', 'The Irish Sale', 'The Irish Sale', 'The Irish Sale', 'The Irish Sale', 'The Irish Sale', 'The Irish Sale', 'The Irish Sale', 'Oil Paintings and Watercolours', 'Oil Paintings and Watercolours', 'Oil Paintings and Watercolours', 'Oil Paintings and Watercolours', 'Oil Paintings and Watercolours', 'The Irish Sale', 'The Irish Sale', 'The Irish Sale', 'The Irish Sale', 'The Irish Sale', 'The Irish Sale', 'The Irish Sale', 'The Irish Sale', 'The Irish Sale', 'The Irish Sale', 'Oil Paintings and Watercolours', 'Oil Paintings and Watercolours', 'Oil Paintings and Watercolours', 'Oil Paintings and Watercolours', 'Oil Paintings and Watercolours', 'The Irish Sale', 'The Irish Sale', 'The Irish Sale', 'The Irish Sale', 'The Irish Sale', 'The Irish Sale', 'The Irish Sale', 'The Irish Sale', 'The Irish Sale', 'The Irish Sale', 'Oil Paintings and Watercolours', 'Oil Paintings and Watercolours', 'Oil Paintings and Watercolours', 'Oil Paintings and Watercolours', 'Oil Paintings and Watercolours', 'The Irish Sale', 'The Irish Sale']\n"
     ]
    }
   ],
   "source": [
    "print list(sampleData['Sale Name'])"
   ]
  },
  {
   "cell_type": "markdown",
   "metadata": {},
   "source": [
    "## Choose different strategies for Fine and Decorative Arts to get maker information"
   ]
  },
  {
   "cell_type": "code",
   "execution_count": 33,
   "metadata": {
    "collapsed": false
   },
   "outputs": [],
   "source": [
    "sales = list(set(sampleData['Sale Name']))"
   ]
  },
  {
   "cell_type": "code",
   "execution_count": 34,
   "metadata": {
    "collapsed": false
   },
   "outputs": [
    {
     "name": "stdout",
     "output_type": "stream",
     "text": [
      "['Oil Paintings and Watercolours', 'The Irish Sale']\n"
     ]
    }
   ],
   "source": [
    "print sales"
   ]
  },
  {
   "cell_type": "code",
   "execution_count": 35,
   "metadata": {
    "collapsed": false
   },
   "outputs": [],
   "source": [
    "painting = sampleData[sampleData['Sale Name'] == 'Oil Paintings and Watercolours']"
   ]
  },
  {
   "cell_type": "code",
   "execution_count": 41,
   "metadata": {
    "collapsed": false
   },
   "outputs": [
    {
     "name": "stdout",
     "output_type": "stream",
     "text": [
      "0        AN ALBUM OF ASSORTED WATERCOLOURS BY VARIOUS HANDS, INCLUDING WORKS BY ALFRED EDWARD,...\n",
      "3         Horace Walter Gilbert, A STUDY OF A ROOK, signed and dated 1878, 25 by 35.5cm.; 9 by...\n",
      "4          Samuel William Reynolds, A STUDY OF A MOTHER AND CHILD, coloured chalks on prepared...\n",
      "5            Harry John Johnson, THE OLYMPEIUM - THE TEMPLE OF ZEUS, pencil, 7.5 by 14.5cm.; 3...\n",
      "6                Victor Emile Prouve, THE DISCUSSION, signed, pen and ink, 25 by 20cm.; 9 by 8in.\n",
      "7                  Arthur Gerald Ackermann, R.I., WELLS CATHEDRAL, signed, 17 by 34.5cm.; 6 by...\n",
      "18    Thomas Macquoid, AT LUBECK, signed, inscribed and dated 1902, 40 by 35.5cm.; 15 by 14in....\n",
      "19            Max RÌmer, A SET OF FOUR VIEWS OF MADEIRA, all signed, inscribed and dated 1928,...\n",
      "20     Esther S. Hope, LAKE WANAKA is in Newzealand signed, inscribed on reverse, 37 by 56cm.;...\n",
      "21              Roberto Domingo y Fallola, THE BULLFIGHT, signed, gouache, 12 by 18cm.; 4 by 7in.\n",
      "22                Manner of Arthur Melville, THE BULLFIGHT, bears a signature and inscription,...\n",
      "33       Robert Malcolm Lloyd, LOW TIDE, signed and dated 1895, watercolour and bodycolour, 24...\n",
      "34                John Baragwanath King, RIVER SCENE AT SUNDOWN, signed, 25 by 35cm.; 10 by 13in.\n",
      "35            John Fulleylove, R.I., A MONUMENT NEAR A BRIDGE; A VIEW OF A FOUNTAIN, two, both...\n",
      "36         Charles L Saunders, CROSSING THE MOORLAND STREAM, signed, 33 by 48cm.; 13 by 19in.,...\n",
      "37     J. Barclay, THE MILKMAID, signed, watercolour heightened with white, 29 by 44cm.; 11 by...\n",
      "48    After William Ross, PORTRAIT OF THE PRINCE OF WALES AND THE PRINCESS ROYAL, inscribed in...\n",
      "49          Henry Gastineau, CARLINGFORD CASTLE, IRELAND, BY MOONLIGHT, signed and dated 1866,...\n",
      "50         S... S... B..., HARVEST LANDSCAPE, POSSIBLY ISLE OF WIGHT, signed with monogram and...\n",
      "51        English School, 19th century, LANDSCAPES, three, pen and ink, unframed, each 16.5 by...\n",
      "52             John Banting, CLOWN II, signed and dated 1957, signed on the backboard, pen and...\n",
      "63                                 Glyn Philpot, NEGRO HEAD STUDY, pencil, 13 by 10cm.; 5 by 4in.\n",
      "64             Follower of Wilfred Williams Ball, AN INN ON A COUNTRY LANE, bears a signature,...\n",
      "65                T... B... W..., LAKE LANDSCAPE WITH BOATS, signed with monogram, watercolour...\n",
      "66     Inez Johnson, `LA BELLE DAME SANS MERCI HATH ME IN THRALL': KEATS, pencil sketch, 43 by...\n",
      "67         Dutch School, late 19th Century, CALVES IN A LANDSCAPE, watercolour heightened with...\n",
      "78         John Cuthbert Salmon, SHEEP GRAZING IN A LANDSCAPE, signed, 24 by 35cm.; 9 by 13in....\n",
      "79            Albert Stevens, LANDSCAPE, signed, 31 by 48cm.; 12 by 19in., ex lot 928 16Jan01;...\n",
      "80    Montague Dawson, A VESSEL IN DRY DOCK, pencil sketch, 39.5 by 26cm.; 15 by 10in., report...\n",
      "81          Edgar E. West, A VIEW OF A BRIDGE OVER A LOCH, signed, 48.5 by 39cm.; 19 by 15in.,...\n",
      "82      Pierre le Boeuff, CONTINENTAL TOWN SCENES, a pair, both signed, each 27 by 36.5cm.; 10...\n",
      "93      H... Weisserborn, LANDSCAPE, signed, pastel, 52.5 by 73cm.; 20 by 28in., report 16 jan...\n",
      "94          David Cox, junior, A RIVER IN FULL SPATE, watercolour over pencil, 26 by 36cm.; 10...\n",
      "95        R. A. Massey, LITTLE OWL, signed, watercolour and bodycolour, 28.5 by 24.5cm.; 11 by...\n",
      "96          R. A. Massey, A STUDY OF DUCKS, POSSIBLY BLUE WINGED TEAL, signed, watercolour and...\n",
      "97          Myra Pointer, A HEAD STUDY OF A DOG, signed and dated 1886, pastels, oval, 42.5 by...\n",
      "Name: Lot Title, dtype: object\n"
     ]
    }
   ],
   "source": [
    "print painting['Lot Title']"
   ]
  },
  {
   "cell_type": "code",
   "execution_count": 61,
   "metadata": {
    "collapsed": false
   },
   "outputs": [
    {
     "name": "stdout",
     "output_type": "stream",
     "text": [
      "[ 'http://www.sothebys.com/en/auctions/ecatalogue/2001/oil-paintings-and-watercolours-b01002/lot.901.html'\n",
      " 'http://www.sothebys.com/en/auctions/ecatalogue/2001/oil-paintings-and-watercolours-b01002/lot.902.html'\n",
      " 'http://www.sothebys.com/en/auctions/ecatalogue/2001/oil-paintings-and-watercolours-b01002/lot.903.html'\n",
      " 'http://www.sothebys.com/en/auctions/ecatalogue/2001/oil-paintings-and-watercolours-b01002/lot.904.html'\n",
      " 'http://www.sothebys.com/en/auctions/ecatalogue/2001/oil-paintings-and-watercolours-b01002/lot.905.html'\n",
      " 'http://www.sothebys.com/en/auctions/ecatalogue/2001/oil-paintings-and-watercolours-b01002/lot.906.html'\n",
      " 'http://www.sothebys.com/en/auctions/ecatalogue/2001/oil-paintings-and-watercolours-b01002/lot.907.html'\n",
      " 'http://www.sothebys.com/en/auctions/ecatalogue/2001/oil-paintings-and-watercolours-b01002/lot.908.html'\n",
      " 'http://www.sothebys.com/en/auctions/ecatalogue/2001/oil-paintings-and-watercolours-b01002/lot.909.html'\n",
      " 'http://www.sothebys.com/en/auctions/ecatalogue/2001/oil-paintings-and-watercolours-b01002/lot.910.html'\n",
      " 'http://www.sothebys.com/en/auctions/ecatalogue/2001/oil-paintings-and-watercolours-b01002/lot.911.html'\n",
      " 'http://www.sothebys.com/en/auctions/ecatalogue/2001/oil-paintings-and-watercolours-b01002/lot.912.html'\n",
      " 'http://www.sothebys.com/en/auctions/ecatalogue/2001/oil-paintings-and-watercolours-b01002/lot.913.html'\n",
      " 'http://www.sothebys.com/en/auctions/ecatalogue/2001/oil-paintings-and-watercolours-b01002/lot.914.html'\n",
      " 'http://www.sothebys.com/en/auctions/ecatalogue/2001/oil-paintings-and-watercolours-b01002/lot.915.html'\n",
      " 'http://www.sothebys.com/en/auctions/ecatalogue/2001/oil-paintings-and-watercolours-b01002/lot.916.html'\n",
      " 'http://www.sothebys.com/en/auctions/ecatalogue/2001/oil-paintings-and-watercolours-b01002/lot.917.html'\n",
      " 'http://www.sothebys.com/en/auctions/ecatalogue/2001/oil-paintings-and-watercolours-b01002/lot.918.html'\n",
      " 'http://www.sothebys.com/en/auctions/ecatalogue/2001/oil-paintings-and-watercolours-b01002/lot.919.html'\n",
      " 'http://www.sothebys.com/en/auctions/ecatalogue/2001/oil-paintings-and-watercolours-b01002/lot.920.html'\n",
      " 'http://www.sothebys.com/en/auctions/ecatalogue/2001/oil-paintings-and-watercolours-b01002/lot.921.html'\n",
      " 'http://www.sothebys.com/en/auctions/ecatalogue/2001/oil-paintings-and-watercolours-b01002/lot.922.html'\n",
      " 'http://www.sothebys.com/en/auctions/ecatalogue/2001/oil-paintings-and-watercolours-b01002/lot.923.html'\n",
      " 'http://www.sothebys.com/en/auctions/ecatalogue/2001/oil-paintings-and-watercolours-b01002/lot.924.html'\n",
      " 'http://www.sothebys.com/en/auctions/ecatalogue/2001/oil-paintings-and-watercolours-b01002/lot.925.html'\n",
      " 'http://www.sothebys.com/en/auctions/ecatalogue/2001/oil-paintings-and-watercolours-b01002/lot.926.html'\n",
      " 'http://www.sothebys.com/en/auctions/ecatalogue/2001/oil-paintings-and-watercolours-b01002/lot.927.html'\n",
      " 'http://www.sothebys.com/en/auctions/ecatalogue/2001/oil-paintings-and-watercolours-b01002/lot.928.html'\n",
      " 'http://www.sothebys.com/en/auctions/ecatalogue/2001/oil-paintings-and-watercolours-b01002/lot.929.html'\n",
      " 'http://www.sothebys.com/en/auctions/ecatalogue/2001/oil-paintings-and-watercolours-b01002/lot.930.html'\n",
      " 'http://www.sothebys.com/en/auctions/ecatalogue/2001/oil-paintings-and-watercolours-b01002/lot.931.html'\n",
      " 'http://www.sothebys.com/en/auctions/ecatalogue/2001/oil-paintings-and-watercolours-b01002/lot.932.html'\n",
      " 'http://www.sothebys.com/en/auctions/ecatalogue/2001/oil-paintings-and-watercolours-b01002/lot.933.html'\n",
      " 'http://www.sothebys.com/en/auctions/ecatalogue/2001/oil-paintings-and-watercolours-b01002/lot.934.html'\n",
      " 'http://www.sothebys.com/en/auctions/ecatalogue/2001/oil-paintings-and-watercolours-b01002/lot.935.html'\n",
      " 'http://www.sothebys.com/en/auctions/ecatalogue/2001/oil-paintings-and-watercolours-b01002/lot.936.html']\n"
     ]
    }
   ],
   "source": [
    "pd.options.display.max_colwidth = 100\n",
    "\n",
    "print np.array(painting['URL'])"
   ]
  },
  {
   "cell_type": "code",
   "execution_count": 43,
   "metadata": {
    "collapsed": false
   },
   "outputs": [
    {
     "name": "stdout",
     "output_type": "stream",
     "text": [
      "0     AN ALBUM OF ASSORTED WATERCOLOURS BY VARIOUS HANDS\n",
      "3                                  Horace Walter Gilbert\n",
      "4                                Samuel William Reynolds\n",
      "5                                     Harry John Johnson\n",
      "6                                    Victor Emile Prouve\n",
      "7                                Arthur Gerald Ackermann\n",
      "18                                       Thomas Macquoid\n",
      "19                                             Max RÌmer\n",
      "20                                        Esther S. Hope\n",
      "21                             Roberto Domingo y Fallola\n",
      "22                             Manner of Arthur Melville\n",
      "33                                  Robert Malcolm Lloyd\n",
      "34                                 John Baragwanath King\n",
      "35                                       John Fulleylove\n",
      "36                                    Charles L Saunders\n",
      "37                                            J. Barclay\n",
      "48                                    After William Ross\n",
      "49                                       Henry Gastineau\n",
      "50                                        S... S... B...\n",
      "51                                        English School\n",
      "52                                          John Banting\n",
      "63                                          Glyn Philpot\n",
      "64                     Follower of Wilfred Williams Ball\n",
      "65                                        T... B... W...\n",
      "66                                          Inez Johnson\n",
      "67                                          Dutch School\n",
      "78                                  John Cuthbert Salmon\n",
      "79                                        Albert Stevens\n",
      "80                                       Montague Dawson\n",
      "81                                         Edgar E. West\n",
      "82                                      Pierre le Boeuff\n",
      "93                                      H... Weisserborn\n",
      "94                                             David Cox\n",
      "95                                          R. A. Massey\n",
      "96                                          R. A. Massey\n",
      "97                                          Myra Pointer\n",
      "Name: Lot Title, dtype: object\n"
     ]
    }
   ],
   "source": [
    "print painting['Lot Title'].apply(lambda x: x.split(',')[0])"
   ]
  },
  {
   "cell_type": "code",
   "execution_count": 51,
   "metadata": {
    "collapsed": false
   },
   "outputs": [
    {
     "name": "stdout",
     "output_type": "stream",
     "text": [
      "1            An unusual pair of Irish silver-gilt covered jugs, maker's mark JS, Dublin, 1852,...\n",
      "2          An Irish silver butter tub, Richard Sawyer, Dublin, 1839/40, circular, applied with...\n",
      "8              An Irish provincial silver fish slice, Richard Garde of Cork with Dublin marks,...\n",
      "9            An Irish silver soup ladle, John Pittar, Dublin, 1749, the shell bowl chased with...\n",
      "10          A pair of Irish provincial silver asparagus tongs, Carden Terry, Cork, circa 1800,...\n",
      "11            An Irish silver cup and later cover, Samuel Beere, Dublin, 1825, thistle shaped,...\n",
      "12         An Irish silver-gilt cup and cover, Matthew West, Dublin, 1777, vase shaped, chased...\n",
      "13              A pair of George III silver goblets, Joseph Jackson, Dublin 1804, vase shaped,...\n",
      "14         An Irish silver potato ring, John Bolland, London, 1800, spool shaped, pierced with...\n",
      "15           An Irish four piece silver tea set, John Nicklin, Dublin, 1833, hexagonal, deer's...\n",
      "16      A silver and enamelled cup and cover, Horace Woodward & Co Ltd, London, 1909, retailer...\n",
      "17          A Victorian gilt-brass carriage timepiece, Thomas Given, Dublin dated 1851, enamel...\n",
      "23              An Irish silver hot water jug, maker's mark poorly struck, Dublin, circa 1785,...\n",
      "24       An Irish silver three piece tea set, J & E Moore, Dublin, 1842/3, bulbous, the teapot...\n",
      "25           Two Irish silver-gilt salvers, William Nowlan, Dubin, 1823, retailer Law & Son of...\n",
      "26      A pair of Irish silver sauce boats, Ambrose Boxwell, Dublin, 1777, oval, engraved with...\n",
      "27             A pair of Irish provincial silver sauce boats, Stephen Walsh, Cork, circa 1770,...\n",
      "28           An Irish silver strainer spoon, Samuel Neville, Dublin, 1797, pointed Old English...\n",
      "29        An Irish silver salver, David Boems, Dublin, circa 1760, circular, armorial engraved...\n",
      "30      An Irish silver cake basket, John Hamilton, Dublin, circa 1740, armorial engraved oval...\n",
      "31      A George II silver cruet, Thomas Williamson, Dublin, 1734, the conjoined ring frame on...\n",
      "32                                                       Pr. silvre mugs b/i lot 209, 11 Oct 2001\n",
      "38         A pair of Irish silver sugar tongs, maker's mark JS, Dublin, 1870, retailer's stamp...\n",
      "39        Twelve Irish silver Queen's pattern table spoons, Smith & Gamble, Dublin, 1831, lion...\n",
      "40       Irish King's pattern table silver, James Le Bass, Dublin, 1828, engraved dove holding...\n",
      "41          Six Irish provincial silver tea spoons, John & Nicolas Nicolson, Cork, circa 1800,...\n",
      "42           A pair of Irish provincial silver serving spoons, Carden Terry, Cork, circa 1800,...\n",
      "43          A massive Victorian silver tea kettle on stand and burner, Richard Sawyer, Dublin,...\n",
      "44                 Four Irish silver trencher salts, John Hamilton, Dublin, circa 1715, spiral...\n",
      "45         An Irish whiskey cistern and copper stand, early 20th century, the shouldered ovoid...\n",
      "                                                 ...                                             \n",
      "55                                          An Irish cut-glass water jugprobably Cork, circa 1800\n",
      "56        An Irish kettle-drum bowl, circa 1820, the circular bowl cut with alternate vertical...\n",
      "57                A pair of Irish cut-glass rinsers, circa 1820, each rounded form with double...\n",
      "58              An Irish silver sugar vase, Christopher Haines, Dublin, 1795, fluted oval with...\n",
      "59        An Irish silver-gilt freedom box, William Currie, Dublin, circa 1755, the detachable...\n",
      "60         City of Dublin: An Irish silver-gilt freedom box, Bartholomew Stokes, Dublin, circa...\n",
      "61             An Irish silver tazza, apparently without maker's mark, Dublin, 1715, circular,...\n",
      "62            Irish King's pattern table silver, maker's mark NCC Ltd, Dublin, 1966-71, fitted...\n",
      "68       A pair of Irish cut-glass dishes, circa 1800 each cut with a central ten-pointed star...\n",
      "69              A cut-glass silver-mounted tea caddy and cover, possibly Irish, circa 1800, of...\n",
      "70       A Cork engraved glass decanter and stopper, 19th century, possibly later engraved, of...\n",
      "71        A cut-glass preserve jar and cover, possibly Irish, circa 1800, of shield-shape, cut...\n",
      "72            An Irish cut-glass canoe-shaped bowl, probably Cork, circa 1790, the large ovoid...\n",
      "73             An Irish silver cup and cover, William Williamson, Dublin, circa 1740, inverted...\n",
      "74     An Irish silver salver on foot, Erasmus Cope, Dublin, 1717, circular, armorial engraved...\n",
      "75                 An Irish silver bowl, William Townsend, Dublin, circa 1750, hemi-spherical,...\n",
      "76             Four Irish silver-gilt dessert dishes, maker's mark only of Richard Williams of...\n",
      "77        A pair of Irish silver salvers on foot, John Hamilton, Dublin, circa 1735, circular,...\n",
      "83                An Irish cut-glass canoe-shaped bowl, possibly Cork, early 19th century, the...\n",
      "84         A large Irish cut-glass canoe-shaped bowl, probably Cork, circa 1800, the oval bowl...\n",
      "85          A cut-glass preserve jar, cover and stand, Second quarter 19th century, each piece...\n",
      "86              A Staffordshire portrait figure of `Dan O'Connell', circa 1870-80, modelled by...\n",
      "87    A Belleek earthenware water jug, First Period (1863-1890), of shouldered ovoid form with...\n",
      "88               A pair of Irish silver salvers, Robert Calderwood, Dublin, circa 1750, shaped...\n",
      "89              A pair of Irish silver salvers on foot, Bartholomew Mosse, Dublin, circa 1735,...\n",
      "90            A rare early 18th century Irish sexfoil silver salver, David King, Dublin, 1718,...\n",
      "91     A pair of Irish silver candlesticks, William Sutton, Dublin, 1728, nozzles John Buckton...\n",
      "92         A William III Irish silver tankard, maker's mark a cinquefoil below a device struck...\n",
      "98              A Belleek earthenware chamber pot, circa 1877-1890, white glazed, moulded with...\n",
      "99           A Belleek `Tridolphin' low comport, First Period (1863-1890), modelled as a large...\n",
      "Name: Lot Title, dtype: object\n"
     ]
    }
   ],
   "source": [
    "irish = sampleData[sampleData['Sale Name'] == 'The Irish Sale']\n",
    "\n",
    "print irish['Lot Title']"
   ]
  },
  {
   "cell_type": "code",
   "execution_count": 52,
   "metadata": {
    "collapsed": false
   },
   "outputs": [
    {
     "name": "stdout",
     "output_type": "stream",
     "text": [
      "1                                             maker's mark JS\n",
      "2                                              Richard Sawyer\n",
      "8                     Richard Garde of Cork with Dublin marks\n",
      "9                                                 John Pittar\n",
      "10                                               Carden Terry\n",
      "11                                               Samuel Beere\n",
      "12                                               Matthew West\n",
      "13                                             Joseph Jackson\n",
      "14                                               John Bolland\n",
      "15                                               John Nicklin\n",
      "16                                   Horace Woodward & Co Ltd\n",
      "17                                               Thomas Given\n",
      "23                                 maker's mark poorly struck\n",
      "24                                                J & E Moore\n",
      "25                                             William Nowlan\n",
      "26                                            Ambrose Boxwell\n",
      "27                                              Stephen Walsh\n",
      "28                                             Samuel Neville\n",
      "29                                                David Boems\n",
      "30                                              John Hamilton\n",
      "31                                          Thomas Williamson\n",
      "32                                                11 Oct 2001\n",
      "38                                            maker's mark JS\n",
      "39                                             Smith & Gamble\n",
      "40                                              James Le Bass\n",
      "41                                    John & Nicolas Nicolson\n",
      "42                                               Carden Terry\n",
      "43                                             Richard Sawyer\n",
      "44                                              John Hamilton\n",
      "45                                         early 20th century\n",
      "                               ...                           \n",
      "55                                                 circa 1800\n",
      "56                                                 circa 1820\n",
      "57                                                 circa 1820\n",
      "58                                         Christopher Haines\n",
      "59                                             William Currie\n",
      "60                                         Bartholomew Stokes\n",
      "61                            apparently without maker's mark\n",
      "62                                       maker's mark NCC Ltd\n",
      "68     circa 1800 each cut with a central ten-pointed star...\n",
      "69                                             possibly Irish\n",
      "70                                               19th century\n",
      "71                                             possibly Irish\n",
      "72                                              probably Cork\n",
      "73                                         William Williamson\n",
      "74                                               Erasmus Cope\n",
      "75                                           William Townsend\n",
      "76                maker's mark only of Richard Williams of...\n",
      "77                                              John Hamilton\n",
      "83                                              possibly Cork\n",
      "84                                              probably Cork\n",
      "85                                            cover and stand\n",
      "86                                              circa 1870-80\n",
      "87                                   First Period (1863-1890)\n",
      "88                                          Robert Calderwood\n",
      "89                                          Bartholomew Mosse\n",
      "90                                                 David King\n",
      "91                                             William Sutton\n",
      "92         maker's mark a cinquefoil below a device struck...\n",
      "98                                            circa 1877-1890\n",
      "99                                   First Period (1863-1890)\n",
      "Name: Lot Title, dtype: object\n"
     ]
    }
   ],
   "source": [
    "print irish['Lot Title'].apply(lambda x: x.split(',')[1])"
   ]
  },
  {
   "cell_type": "markdown",
   "metadata": {},
   "source": [
    "## Look into the whole data set"
   ]
  },
  {
   "cell_type": "code",
   "execution_count": 63,
   "metadata": {
    "collapsed": false
   },
   "outputs": [
    {
     "name": "stdout",
     "output_type": "stream",
     "text": [
      "[('Finest and Rarest Wines', 22241), ('Magnificent Jewels', 10168), ('Important Watches', 7524), ('Important Jewels', 7283), ('Contemporary Art Day Auction', 6888), ('Contemporary Art', 6641), ('Impressionist & Modern Art Day Sale', 6382), ('Fine Chinese Ceramics & Works of Art', 5743), ('Fine Chinese Ceramics and Works of Art', 5246), ('Fine Jewels', 4750), ('Photographs', 4359), ('Fine Chinese Paintings', 4164), ('Prints', 3889), ('Arts of the Islamic World', 3678), ('Old Master Paintings', 3474), (nan, 3375), ('Jewels', 3194), ('Finest and Rarest Wines & Vintage Port', 3088), ('Magnificent Jewels and Jadeite', 3024), ('Latin American Art', 2657), ('American Paintings, Drawings & Sculpture', 2609), ('Magnificent Jewels and Noble Jewels', 2549), ('20th Century British Art', 2252), ('Musical Instruments', 1952), (\"Arts d'Asie\", 1896), ('Impressionist and Modern Art', 1836), ('The Great Britain Philatelic Collections of Lady Mairi Bury, FRPSL', 1833), ('Contemporary Asian Art', 1831), ('Important Americana', 1830), ('Important 20th Century Design', 1806), ('Salvatore e Francesco Romano. Antiquari a Firenze.  A Century as Antique Dealers at Palazzo Magnani Feroni', 1792), ('Carpets', 1778), ('Old Master Drawings', 1756), ('Arcade Jewels', 1744), ('19th Century European Paintings', 1741), ('Travel, Atlases, Maps & Natural History', 1716), ('Russian Art', 1685), ('Old Master, Modern & Contemporary Prints', 1674), ('Important  Watches', 1657), ('Russian Works of Art, Faberg\\xc3\\xa9 and Icons', 1636), ('The Philatelic Collection of Lord Steinberg British Empire Mint Multiples', 1618), ('Livres et Manuscrits', 1616), ('Shrubland Park, Suffolk, England - Country House Sale', 1602), ('A Magnificent Bordeaux Cellar IIFinest & Rarest WinesFeaturing the Collection of Ambassador Ronald Weiser', 1600), ('Contemporary Art Day Sale', 1591), ('Contemporary Art Evening Auction', 1584), ('Russian Paintings', 1576), ('Finest & Rarest Wines Including Hermitage La Chapelle 1952 - 2009', 1561), ('Property from the Estate of Queen Juliana of The Netherlands: All to be Sold for the Benefit of Charity', 1539), ('Collections', 1526), ('19th Century Furniture, Sculpture, Ceramics, Silver and Works of Art', 1520), (\"English Literature, History, Children's Books & Illustrations\", 1464), ('Finest and Rarest Wines Featuring Three Superb Continental Cellars', 1448), ('Arts of Europe', 1427), ('Asian Art', 1413), ('Impressionist & Modern Art Evening Sale', 1391), ('20th Century Chinese Art', 1369), ('Chatsworth: The Attic Sale', 1367), ('American Paintings', 1355), ('The Greek Sale', 1341), ('19th Century Furniture and Decorative Arts', 1283), ('A Superb Private Cellar Featuring the Great Domaines of Burgundy', 1281), ('The Ultimate Cellar', 1270), ('Property from the Collection of Mrs. Paul Mellon: Interiors', 1249), ('Impressionist & Modern Art', 1226), ('Fine Watches', 1214), ('Important Watches & Clocks', 1199), ('Important English and European Decorative Arts', 1192), ('Finest and Rarest Wines Featuring An Important New England Cellar', 1181), ('European Collections: Paintings, Ceramics, Glass, Furniture and other Works of Art', 1178), ('Arte Moderna e Contemporanea', 1171), ('The elBullicellar sold to benefit the elBullifoundation', 1143), ('Modern and Contemporary Southeast Asian Paintings', 1133), ('Old Master & British Paintings Day Sale', 1127), ('Magnificent Jewels & Jadeite', 1126), ('Important Canadian Art', 1096), ('20th Century Design', 1091), ('Finest & Rarest Wines Featuring an Important West Coast Collection & Krug 1915', 1083), ('Modern & Contemporary Art', 1079), ('Finest and Rarest Wines featuring a Magnificent Bordeaux Collection', 1072), ('The Frits Philips Collection', 1050), ('Music, Continental and Russian Books and Manuscripts', 1049), ('Impressionist and Modern Art Day Sale', 1031), ('Finest And Rarest Wines Featuring the First Ever Offering of Rare Burgundy Direct from the Drouhin Family Cellar', 1024), ('Finest and Rarest Wines Featuring an Impressive Private Collection', 1017), ('Old Master, Modern and Contemporary Prints', 1007), ('Schweizer Kunst / Swiss Art', 1005), ('Modern & Post-War British Art', 995), ('1000 Ways of Seeing: The Private Collection of the late Stanley J. Seeger', 990), ('Old Master & 19th Century European Art', 987), ('Finest and Rarest Wines featuring a Great Collection of Treasures', 970), ('19th Century European Art', 968), ('Important Judaica', 968), ('Finest and Rarest Wines Including Wines from the Cellar of Carl T. Lomboy, MD', 946), ('The Viennese Master Bronzes', 941), ('Contemporary Curated', 924), ('Important Australian Art', 919), ('Finest and Rarest Wines Featuring Two Magnificent Collections', 905), ('Property from the Estate of Brooke Astor', 892), ('Old Master Sculpture and Works of Art', 890)]\n"
     ]
    }
   ],
   "source": [
    "import collections\n",
    "\n",
    "counter = collections.Counter(data['Sale Name'])\n",
    "print counter.most_common(100)"
   ]
  },
  {
   "cell_type": "code",
   "execution_count": 59,
   "metadata": {
    "collapsed": false
   },
   "outputs": [
    {
     "name": "stdout",
     "output_type": "stream",
     "text": [
      "set([' b', 'DO', ' 4', ' e', ' r', 'HK', ' p', 'na', ' L', 'PF', 'ZH', 'CN', 'AM', 'T0', ' 2', 'GE', ' 1', 'AU', 'L0', 'L1', 'N0', 'MM', 'MI', 'B0', 'W0', 'SG', 'D0'])\n"
     ]
    }
   ],
   "source": [
    "print set(data['Sale Number'].apply(lambda x: str(x)[:2]))"
   ]
  },
  {
   "cell_type": "code",
   "execution_count": 64,
   "metadata": {
    "collapsed": true
   },
   "outputs": [],
   "source": [
    "painting = data[data['Sale Name'] == 'Oil Paintings and Watercolours']"
   ]
  },
  {
   "cell_type": "code",
   "execution_count": 65,
   "metadata": {
    "collapsed": false
   },
   "outputs": [
    {
     "name": "stdout",
     "output_type": "stream",
     "text": [
      "361\n"
     ]
    }
   ],
   "source": [
    "print len(painting)"
   ]
  },
  {
   "cell_type": "code",
   "execution_count": 66,
   "metadata": {
    "collapsed": false
   },
   "outputs": [
    {
     "name": "stdout",
     "output_type": "stream",
     "text": [
      "0       AN ALBUM OF ASSORTED WATERCOLOURS BY VARIOUS HANDS\n",
      "3                                    Horace Walter Gilbert\n",
      "4                                  Samuel William Reynolds\n",
      "5                                       Harry John Johnson\n",
      "6                                      Victor Emile Prouve\n",
      "7                                  Arthur Gerald Ackermann\n",
      "18                                         Thomas Macquoid\n",
      "19                                               Max RÌmer\n",
      "20                                          Esther S. Hope\n",
      "21                               Roberto Domingo y Fallola\n",
      "22                               Manner of Arthur Melville\n",
      "33                                    Robert Malcolm Lloyd\n",
      "34                                   John Baragwanath King\n",
      "35                                         John Fulleylove\n",
      "36                                      Charles L Saunders\n",
      "37                                              J. Barclay\n",
      "48                                      After William Ross\n",
      "49                                         Henry Gastineau\n",
      "50                                          S... S... B...\n",
      "51                                          English School\n",
      "52                                            John Banting\n",
      "63                                            Glyn Philpot\n",
      "64                       Follower of Wilfred Williams Ball\n",
      "65                                          T... B... W...\n",
      "66                                            Inez Johnson\n",
      "67                                            Dutch School\n",
      "78                                    John Cuthbert Salmon\n",
      "79                                          Albert Stevens\n",
      "80                                         Montague Dawson\n",
      "81                                           Edgar E. West\n",
      "                               ...                        \n",
      "3206                                          C. H. Slater\n",
      "3207                                         Joseph Andrew\n",
      "3208                                     Sir Cedric Morris\n",
      "3209                          Catherine Caroline Engelhart\n",
      "3210                             Attributed to Carl Hols²e\n",
      "3266                                        English School\n",
      "3267                                      H... Somerscales\n",
      "3268                           Follower of Joseph Stannard\n",
      "3269                                            G. Maskell\n",
      "3270                                        English School\n",
      "3367                                          Percy Crofts\n",
      "3368                                    Continental School\n",
      "3369                                    Continental School\n",
      "3370                                     Manner of Watteau\n",
      "3371                                         Herbert Royle\n",
      "3472                                    Continental School\n",
      "3473                                     Manner of Murillo\n",
      "3474                                            J... Stone\n",
      "3475                                           J... Petrie\n",
      "3476                                           Edgar Bundy\n",
      "3552                             English Provincial School\n",
      "3553                                          Norman Edgar\n",
      "3554                                           M. Casmeill\n",
      "3555                 Follower of Lucy Elizabeth Kemp-Welch\n",
      "3556                 Follower of Lucy Elizabeth Kemp-Welch\n",
      "3621                 Follower of Lucy Elizabeth Kemp-Welch\n",
      "3622                 Follower of Lucy Elizabeth Kemp-Welch\n",
      "3623                 Follower of Lucy Elizabeth Kemp-Welch\n",
      "3624                                  Anglo-Chinese School\n",
      "3625                               Follower of Emile Claus\n",
      "Name: Lot Title, dtype: object\n"
     ]
    }
   ],
   "source": [
    "print painting['Lot Title'].apply(lambda x: x.split(',')[0])"
   ]
  },
  {
   "cell_type": "markdown",
   "metadata": {},
   "source": [
    "## Get the top 500 terms in Sale Name"
   ]
  },
  {
   "cell_type": "code",
   "execution_count": 79,
   "metadata": {
    "collapsed": true
   },
   "outputs": [],
   "source": [
    "nameData = data[pd.notnull(data['Sale Name'])]"
   ]
  },
  {
   "cell_type": "code",
   "execution_count": 176,
   "metadata": {
    "collapsed": false
   },
   "outputs": [],
   "source": [
    "counter = collections.Counter(nameData['Sale Name'])"
   ]
  },
  {
   "cell_type": "code",
   "execution_count": 102,
   "metadata": {
    "collapsed": false
   },
   "outputs": [
    {
     "name": "stdout",
     "output_type": "stream",
     "text": [
      "[('and', 424), ('of', 364), ('Art', 288), ('Collection', 260), ('The', 224), ('the', 212), ('&', 196), ('from', 187), ('Important', 152), ('Works', 93), ('Contemporary', 91), ('Paintings', 87), ('European', 80), ('Century', 72), ('Modern', 70), ('A', 64), ('Sale', 62), ('Fine', 60), ('Property', 59), ('Private', 59), ('-', 58), ('Old', 52), ('Chinese', 52), ('Including', 50), ('Master', 50), ('a', 50), ('including', 50), ('Furniture,', 49), ('19th', 46), ('Furniture', 46), ('Ceramics', 43), ('British', 43), ('et', 42), ('Russian', 42), ('American', 41), ('Arts', 41), ('Part', 39), ('Rarest', 35), ('Finest', 34), ('Wines', 33), ('20th', 31), ('English', 30), ('Design', 30), ('de', 28), ('Sculpture', 28), ('Decorative', 28), ('Jewels', 27), ('Evening', 27), ('Manuscripts', 27), ('Art,', 27), ('Books', 26), ('Continental', 25), ('Magnificent', 25), ('Cellar', 25), ('Carpets', 24), ('Day', 24), ('Impressionist', 23), ('Silver,', 23), ('Asian', 23), ('Silver', 22), ('Collection:', 22), ('Paintings,', 21), ('French', 20), ('Imperial', 20), ('', 19), ('An', 19), ('by', 19), ('Watches', 18), ('Drawings', 18), ('Collections', 18), ('\\xe2\\x80\\x93', 18), ('Estate', 17), ('an', 17), ('Prints', 17), ('Indian', 17), ('Collection,', 17), ('Featuring', 16), ('II', 16), ('to', 16), ('Auction', 16), ('Oceanic', 16), ('Library', 15), ('Orientalist', 15), ('Clocks', 14), ('in', 14), ('Sculptures', 14), ('African', 14), ('du', 13), ('Porcelain', 13), ('Great', 13), ('Vertu', 13), ('Photographs', 12), ('Collector', 12), ('Treasures', 11), ('Western', 10), ('Early', 10), ('Pictures', 10), ('Direct', 10), ('Ceramics,', 10), ('Mrs.', 10), ('la', 10), ('Bordeaux', 10), ('La', 9), ('Family', 9), ('Latin', 9), ('Selection', 9), ('Robert', 9), ('collection', 9), ('Qing', 9), ('Masterworks', 9), ('Islamic', 9), ('Southeast', 9), ('Two', 9), ('Exceptional', 8), ('III', 8), ('Eye', 8), ('Ch\\xc3\\xa2teau', 8), ('John', 8), ('History', 8), ('Cellars', 8), ('Tableaux', 8), ('Tapestries,', 8), ('African,', 8), ('Late', 8), ('Classic', 8), (':', 8), ('Irish', 8), ('Sporting', 8), ('From', 8), ('THE', 8), ('Foundation', 7), ('si\\xc3\\xa8cle', 7), ('George', 7), ('Noble', 7), ('World', 7), ('Stone', 7), ('Bronzes', 7), ('featuring', 7), ('House', 7), ('I', 7), ('Clocks,', 7), ('Objets', 7), ('Americana', 7), ('Biblioth\\xc3\\xa8que', 6), ('Pre-Columbian', 6), ('Antiquities', 6), ('Paul', 6), ('\\xc3\\xa0', 6), ('Allan', 6), ('Manuscripts,', 6), ('James', 6), ('for', 6), ('Superb', 6), ('History,', 6), ('Medieval', 6), ('Objects', 6), ('Miniatures', 6), ('Dr.', 6), ('on', 6), ('Lady', 6), ('Books,', 6), ('sur', 6), ('S.', 6), ('Tiffany', 6), ('COLLECTION', 6), ('Regards', 6), ('Eye:', 6), ('Burgundy', 6), ('Italian', 6), ('Garden', 6), ('Gold', 6), ('Spanish', 6), ('Sakamoto', 5), ('Retreat', 5), ('Henry', 5), ('Scandinavian', 5), ('Orf\\xc3\\xa8vrerie', 5), ('Painting', 5), ('Illustrations', 5), ('Snuff', 5), ('Water,', 5), ('Ming', 5), ('/', 5), ('Celebration', 5), ('Icons', 5), ('Faberg\\xc3\\xa9', 5), ('Parisian', 5), ('Charles', 5), ('H.', 5), ('Gordon', 5), ('Literature,', 5), ('Natural', 5), ('XXe', 5), ('Mobilier,', 5), ('Pine', 5), ('New', 5), ('Mary', 5), ('Paper', 5), ('at', 5), ('Renaissance', 5), ('des', 5), ('Meiyintang', 5), ('Multiples', 5), (\"Sotheby's\", 5), ('Maps', 5), ('German,', 5), ('Master,', 5), ('J.', 5), ('Sale:', 5), ('Sale,', 5), ('Marine', 5), ('Edward', 5), ('International', 5), ('e', 5), ('Masterpieces', 5), ('Australian', 5), ('Art:', 5), ('Coast', 5), ('Jadeite', 5), ('as', 5), ('Bottles', 5), ('Scholarly', 4), ('Three', 4), ('Lord', 4), ('Japanese', 4), ('Trust', 4), ('Selected', 4), ('Travel,', 4), ('William', 4), ('Porcelains', 4), ('D\\xc3\\xa9coratifs', 4), ('Benefit', 4), ('See', 4), ('Gallery', 4), ('Classical', 4), ('Boxes', 4), ('Moderne', 4), ('Jewellery', 4), ('Furniture:', 4), ('Contemporain', 4), ('Islamique', 4), ('Atlases', 4), ('M.', 4), ('Legacy', 4), (\"Children's\", 4), ('1', 4), ('Stanley', 4), ('Museum', 4), ('Royal', 4), ('Various', 4), ('Barbara', 4), ('benefit', 4), ('Sculpture,', 4), ('Watercolours', 4), ('Country', 4), ('Picasso', 4), ('Gor\\xc5\\x8d', 4), ('through', 4), ('Scottish', 4), ('Historical', 4), ('Bloch', 4), ('Pierre', 4), ('Masters', 4), ('OF', 4), ('Vintage', 4), ('Anciens', 4), ('Nouveau,', 4), ('Hermitage', 4), ('Glass', 4), ('Library:', 4), ('Orientalistes', 4), ('di', 4), ('One', 4), ('Qianlong', 4), ('Folk', 4), ('Peter', 4), ('Paris', 4), ('Owners', 4), ('Music', 4), ('Seeger', 4), (\"Connoisseur's\", 4), ('South', 4), ('direct', 3), ('Charity', 3), ('V', 3), ('House:', 3), ('Textiles', 3), ('Porcelain,', 3), ('Chapelle', 3), ('Rare', 3), ('Vision', 3), ('Deco', 3), ('Central', 3), ('Edwardian', 3), ('property', 3), ('Domaine', 3), ('Surrealist', 3), ('Les', 3), ('Haute', 3), ('Vol.', 3), ('Distinguished', 3), ('Personal', 3), ('Asiatic', 3), ('Dipinti', 3), ('Indian,', 3), ('Northwest', 3), ('Ullens', 3), (\"d'Art\", 3), ('BAT', 3), ('Power:', 3), ('W.', 3), ('en', 3), ('Philatelic', 3), ('Wines,', 3), ('De', 3), ('Memorabilia', 3), ('Albright-Knox', 3), ('Johnson', 3), ('Photographs,', 3), ('Michael', 3), ('London', 3), ('West', 3), ('l\\xe2\\x80\\x99Orient', 3), ('Earl', 3), ('Macclesfield', 3), ('with', 3), ('Legacies', 3), ('Pablo', 3), ('Bibliophile,', 3), ('Precious', 3), ('XIXe', 3), ('Swiss', 3), ('late', 3), ('Victorian', 3), ('Post-War', 3), ('Joseph', 3), ('Years', 3), ('Antichi,', 3), ('FROM', 3), ('Frieda', 3), ('Song', 3), ('Connoisseur', 3), ('Deco,', 3), ('Egyptian,', 3), ('Turkish', 3), ('Centuries', 3), ('Session', 3), ('Of', 3), ('Andy', 3), ('Americana:', 3), ('David', 3), ('Ruth', 3), ('Winebank', 3), ('Aboriginal', 3), ('A.', 3), ('2009', 3), ('Austrian', 3), ('Sold', 3), ('Mr.', 3), ('Livres', 3), ('Interior', 3), ('China', 3), ('Evill/Frost', 3), (\"d'un\", 3), ('Bo\\xc3\\xaetes', 3), ('Other', 3), ('Pop', 3), ('York', 3), ('sold', 3), ('Rosenthal', 3), ('Arts,', 3), ('provenant', 3), ('Judaica', 3), ('ART', 3), ('England', 3), ('B.', 3), ('Britain', 3), ('Milton', 3), ('Decorations', 2), ('Stone:', 2), ('Mobilier', 2), ('Antique', 2), ('MAGNIFICENT', 2), ('selected', 2), ('Greene', 2), ('Painting,', 2), ('Queen', 2), ('Sackler', 2), ('Archivio', 2), ('Sotheby\\xe2\\x80\\x99s:', 2), ('Removed', 2), ('Trust,', 2), ('Rochelle', 2), ('Ralph', 2), ('Yuan', 2), ('18th', 2), ('Literati', 2), ('Legendary', 2), ('Bande', 2), ('Four', 2), ('Mid-Century', 2), ('Residence', 2), ('Piet', 2), ('Priv\\xc3\\xa9e', 2), ('AMERICAN', 2), ('cellars', 2), ('175', 2), ('Beautiful', 2), ('Palazzo', 2), ('Affinit\\xc3\\xa9s', 2), ('Conrad', 2), ('Jacques', 2), ('Contemporanea', 2), ('Watches,', 2), ('BERNHEIMER', 2), ('Focus', 2), ('2nd', 2), ('C.', 2), ('Earls', 2), (\"d'Asie\", 2), ('Moderna', 2), ('Baroni', 2), ('aid', 2), ('Abstraction', 2), ('G.', 2), ('Wristwatches', 2), ('Mint', 2), ('Hirst', 2), ('Lots', 2), ('D\\xc3\\xa9co,', 2), ('Wine', 2), ('collection,', 2), ('Prince', 2), ('Piano', 2), ('Life', 2), ('Hong', 2), ('Faberge', 2), ('formerly', 2), ('Dietrich', 2), ('Illustration', 2), ('Jean', 2), ('Tapestries', 2), ('Later', 2), ('Empire', 2), ('Garde', 2), ('CHINESE', 2), ('History:', 2), ('Duchess', 2), ('Antiques', 2), ('Head', 2), ('Forever', 2), ('Curated', 2), ('rue', 2), ('My', 2), ('Mellon:', 2), ('Forbes', 2), ('Walter', 2), ('Tiffany:', 2), ('Architectural', 2), ('Ancienne', 2), ('Tang', 2), ('Avant', 2), ('Storico', 2), ('Princely', 2), ('Lehman', 2), ('JAMES', 2), ('R.', 2), ('Stephens', 2), ('Giancarlo', 2), ('Vasari', 2), ('Joe', 2), ('COPLEY', 2), ('Asia', 2), ('Brooke-Hitching,', 2), ('11', 2), ('10', 2), ('Gunter', 2), ('Atlases,', 2), ('Drawings,', 2), ('Stuyvesant', 2), ('Dessin\\xc3\\xa9e', 2), ('D.', 2), ('sale', 2), ('Rolf', 2), ('Classical,', 2), ('Manuscrits', 2), ('IMPORTANT', 2), ('Louis', 2), ('Villa', 2), ('Kanter', 2), ('Enamels', 2), ('Symbolist', 2), ('Himalayan', 2), ('Sir', 2), ('Sachs', 2), ('Symbolism', 2), ('Formerly', 2), ('Hascoe', 2), ('Oak', 2), ('I,', 2)]\n"
     ]
    }
   ],
   "source": [
    "terms = []\n",
    "\n",
    "for x in counter.keys():\n",
    "    for y in x.split(' '):\n",
    "        terms.append(y)\n",
    "\n",
    "ncounter = collections.Counter(terms)\n",
    "print ncounter.most_common(500)"
   ]
  },
  {
   "cell_type": "code",
   "execution_count": 105,
   "metadata": {
    "collapsed": false
   },
   "outputs": [],
   "source": [
    "words = []\n",
    "numbers = []\n",
    "\n",
    "for x in ncounter.most_common(500):\n",
    "    words.append(x[0])\n",
    "    numbers.append(x[1])"
   ]
  },
  {
   "cell_type": "code",
   "execution_count": 107,
   "metadata": {
    "collapsed": false
   },
   "outputs": [],
   "source": [
    "terms = pd.DataFrame()\n",
    "\n",
    "terms['Term'] = words\n",
    "terms['Frequency'] = numbers\n",
    "terms['ForD'] = ['' for x in range(len(words))]\n",
    "\n",
    "terms.to_csv('Term_Frequency.csv', index = False)"
   ]
  },
  {
   "cell_type": "code",
   "execution_count": 116,
   "metadata": {
    "collapsed": false
   },
   "outputs": [
    {
     "name": "stdout",
     "output_type": "stream",
     "text": [
      "274561\n"
     ]
    }
   ],
   "source": [
    "nullMaker = nameData[pd.isnull(nameData['Maker'])]\n",
    "print len(nullMaker)\n",
    "counter = collections.Counter(nullMaker['Sale Name'])"
   ]
  },
  {
   "cell_type": "code",
   "execution_count": 117,
   "metadata": {
    "collapsed": false
   },
   "outputs": [
    {
     "name": "stdout",
     "output_type": "stream",
     "text": [
      "[('and', 359), ('of', 320), ('Collection', 198), ('Art', 196), ('the', 183), ('The', 175), ('from', 159), ('&', 152), ('Important', 126), ('Works', 82), ('European', 63), ('Paintings', 61), ('Fine', 60), ('Property', 53), ('A', 53), ('Century', 53), ('Private', 50), ('Furniture,', 49), ('Old', 49), ('Master', 47), ('a', 46), ('Furniture', 45), ('Chinese', 41), ('Ceramics', 40), ('Including', 40), ('-', 39), ('Arts', 39), ('Sale', 38), ('et', 37), ('Part', 37), ('19th', 35), ('including', 35), ('Rarest', 35), ('Finest', 34), ('American', 33), ('Wines', 33), ('Russian', 31), ('English', 30), ('Decorative', 28), ('Jewels', 27), ('Contemporary', 27), ('Modern', 27), ('Sculpture', 26), ('Magnificent', 25), ('Manuscripts', 25), ('20th', 25), ('Cellar', 25), ('Design', 25), ('Carpets', 24), ('de', 24), ('Books', 24), ('Silver,', 23), ('British', 23), ('Silver', 22), ('Art,', 22), ('Continental', 21), ('Paintings,', 20), ('French', 20), ('Imperial', 20), ('Collection:', 19), ('Watches', 18), ('Drawings', 18), ('Estate', 17), ('Day', 17), ('Asian', 17), ('Collections', 17), ('', 16), ('Collection,', 16), ('Oceanic', 16), ('\\xe2\\x80\\x93', 16), ('Featuring', 15), ('Library', 15), ('Clocks', 14), ('Indian', 14), ('by', 14), ('Porcelain', 13), ('II', 13), ('Sculptures', 13), ('An', 13), ('Great', 13), ('Vertu', 13), ('du', 12), ('Collector', 12), ('African', 12), ('an', 11), ('to', 11), ('Orientalist', 11), ('Western', 10), ('Direct', 10), ('Ceramics,', 10), ('Treasures', 10), ('Bordeaux', 10), ('Evening', 9), ('Prints', 9), ('Selection', 9), ('Qing', 9), ('Islamic', 9), ('Exceptional', 8), ('Eye', 8), ('Ch\\xc3\\xa2teau', 8), ('History', 8), ('Tableaux', 8), ('Tapestries,', 8), ('African,', 8), ('Late', 8), ('Classic', 8), ('Mrs.', 8), ('la', 8), ('Cellars', 8), ('La', 7), ('si\\xc3\\xa8cle', 7), ('Early', 7), ('George', 7), ('Family', 7), ('Noble', 7), ('World', 7), ('Bronzes', 7), ('House', 7), ('Clocks,', 7), ('collection', 7), ('Objets', 7), ('From', 7), ('Americana', 7), ('Two', 7), ('Pre-Columbian', 6), ('Antiquities', 6), ('III', 6), ('Paul', 6), ('\\xc3\\xa0', 6), ('James', 6), ('for', 6), ('Superb', 6), ('History,', 6), ('Impressionist', 6), ('Medieval', 6), ('featuring', 6), ('Miniatures', 6), ('Dr.', 6), ('sur', 6), ('S.', 6), ('Regards', 6), ('Burgundy', 6), ('Southeast', 6), ('Robert', 6), ('Garden', 6), ('Gold', 6), ('Sakamoto', 5), ('Retreat', 5), ('Orf\\xc3\\xa8vrerie', 5), ('Illustrations', 5), ('Snuff', 5), ('John', 5), ('Water,', 5), ('Ming', 5), ('Icons', 5), ('Faberg\\xc3\\xa9', 5), ('Parisian', 5), ('Charles', 5), ('Stone', 5), ('Literature,', 5), ('Natural', 5), ('XXe', 5), ('Objects', 5), ('I', 5), ('Mobilier,', 5), ('Pine', 5), ('New', 5), ('Mary', 5), ('Lady', 5), ('Renaissance', 5), ('Meiyintang', 5), ('Auction', 5), ('Maps', 5), ('J.', 5), (':', 5), ('Masterpieces', 5), ('Art:', 5), ('Coast', 5), ('Jadeite', 5), ('THE', 5), ('Bottles', 5), ('Foundation', 4), ('Henry', 4), ('Scholarly', 4), ('Japanese', 4), ('Trust', 4), ('Travel,', 4), ('William', 4), ('Porcelains', 4), ('D\\xc3\\xa9coratifs', 4), ('See', 4), ('di', 4), ('Boxes', 4), ('Jewellery', 4), ('in', 4), ('Furniture:', 4), ('Manuscripts,', 4), ('Celebration', 4), ('H.', 4), ('Islamique', 4), ('Atlases', 4), (\"Children's\", 4), ('Gordon', 4), ('Stanley', 4), ('Classical', 4), ('Royal', 4), ('Various', 4), ('Barbara', 4), ('Sculpture,', 4), ('at', 4), ('Country', 4), ('des', 4), ('Gor\\xc5\\x8d', 4), ('through', 4), ('Historical', 4), ('Bloch', 4), ('Sale:', 4), ('OF', 4), ('Vintage', 4), ('Anciens', 4), ('Nouveau,', 4), ('Hermitage', 4), ('Edward', 4), ('e', 4), ('Library:', 4), ('Orientalistes', 4), ('One', 4), ('Qianlong', 4), ('Seeger', 4), ('Folk', 4), ('Owners', 4), ('Masterworks', 4), ('Music', 4), (\"Connoisseur's\", 4), ('direct', 3), ('Three', 3), ('V', 3), ('House:', 3), ('Lord', 3), ('Textiles', 3), ('Porcelain,', 3), ('Chapelle', 3), ('Rare', 3), ('Benefit', 3), ('Allan', 3), ('Gallery', 3), ('Deco', 3), ('property', 3), ('Domaine', 3), ('Contemporain', 3), ('Les', 3), ('Haute', 3), ('Distinguished', 3), ('Personal', 3), ('Asiatic', 3), ('Dipinti', 3), ('Indian,', 3), ('M.', 3), ('Northwest', 3), ('David', 3), ('Session', 3), (\"d'Art\", 3), ('Power:', 3), ('1', 3), ('en', 3), ('Museum', 3), ('Philatelic', 3), ('Wines,', 3), ('De', 3), ('Memorabilia', 3), ('Albright-Knox', 3), ('Johnson', 3), ('Photographs,', 3), ('Michael', 3), ('Frieda', 3), ('benefit', 3), ('London', 3), ('West', 3), ('l\\xe2\\x80\\x99Orient', 3), ('Earl', 3), ('Watercolours', 3), ('Macclesfield', 3), ('Legacies', 3), ('Books,', 3), ('Bibliophile,', 3), ('Precious', 3), ('XIXe', 3), ('late', 3), ('COLLECTION', 3), ('Joseph', 3), ('sold', 3), ('Antichi,', 3), ('Pierre', 3), ('Master,', 3), ('Masters', 3), ('Song', 3), ('Connoisseur', 3), ('Deco,', 3), ('Egyptian,', 3), ('Legacy', 3), ('Eye:', 3), ('Americana:', 3), ('Winebank', 3), ('Aboriginal', 3), ('A.', 3), ('2009', 3), ('Sold', 3), ('Sporting', 3), ('Bo\\xc3\\xaetes', 3), ('Paris', 3), ('York', 3), ('Italian', 3), ('Rosenthal', 3), ('Arts,', 3), ('provenant', 3), ('Judaica', 3), ('England', 3), ('B.', 3), ('Britain', 3), ('Milton', 3), ('South', 3), ('Decorations', 2), ('Biblioth\\xc3\\xa8que', 2), ('Stone:', 2), ('G.', 2), ('Mobilier', 2), ('Antique', 2), ('MAGNIFICENT', 2), ('selected', 2), ('Greene', 2), ('Queen', 2), ('Sackler', 2), ('Archivio', 2), ('Sotheby\\xe2\\x80\\x99s:', 2), ('Removed', 2), ('Rochelle', 2), ('Ralph', 2), ('18th', 2), ('Selected', 2), ('Legendary', 2), ('Bande', 2), ('Four', 2), ('Mid-Century', 2), ('Residence', 2), ('Piet', 2), ('Priv\\xc3\\xa9e', 2), ('AMERICAN', 2), ('cellars', 2), ('Palazzo', 2), ('Affinit\\xc3\\xa9s', 2), ('Conrad', 2), ('Jacques', 2), ('Photographs', 2), ('Watches,', 2), ('Moore', 2), ('Central', 2), ('BERNHEIMER', 2), ('2nd', 2), ('C.', 2), ('Earls', 2), ('Edwardian', 2), (\"d'Asie\", 2), ('Baroni', 2), ('Wristwatches', 2), ('Mint', 2), ('Lots', 2), ('D\\xc3\\xa9co,', 2), ('Wine', 2), ('collection,', 2), ('Prince', 2), ('Piano', 2), ('Faberge', 2), ('Dietrich', 2), ('Illustration', 2), ('Jean', 2), ('Tapestries', 2), ('Later', 2), ('Empire', 2), ('History:', 2), ('Duchess', 2), ('IV', 2), ('Antiques', 2), ('del', 2), ('Mellon:', 2), ('Walter', 2), ('Architectural', 2), ('Ancienne', 2), ('Storico', 2), ('Princely', 2), ('JAMES', 2), ('Stephens', 2), ('Giancarlo', 2), ('W.', 2), ('Vasari', 2), ('Joe', 2), ('Brooke-Hitching,', 2), ('11', 2), ('10', 2), ('Yuan', 2), ('Atlases,', 2), ('Drawings,', 2), ('Dessin\\xc3\\xa9e', 2), ('D.', 2), ('Rolf', 2), ('Classical,', 2), ('Manuscrits', 2), ('Villa', 2), ('Kanter', 2), ('Enamels', 2), ('Himalayan', 2), ('Sir', 2), ('Pictures', 2), ('Oak', 2), ('JEWELS', 2), ('Arcade', 2), ('Mark', 2), ('Rock', 2), ('on', 2), ('Tai', 2), ('Autumn', 2), ('with', 2), ('Shirburn', 2), ('Couture', 2), ('as', 2), ('A\\xc3\\xaen\\xc3\\xa9', 2), ('Tarleton', 2), (\"d'Arte\", 2), ('GREAT', 2), ('Only', 2), ('Latin', 2), ('Vertu,', 2), ('Arthur', 2), ('Clark', 2), ('Krug', 2), ('Tom', 2), ('Europe', 2), ('wines', 2), ('Tiffany', 2), ('!', 2), ('Multiples', 2), ('LIBRARY:', 2), ('Documents:', 2), ('Nouveau', 2), ('Safra', 2), ('Victorian', 2), ('Scottish', 2), ('E.', 2), ('Une', 2), ('owners', 2), ('Years', 2), ('Blanc', 2), (\"Sotheby's\", 2), (\"l'Orient\", 2), ('Nutt:', 2), ('German,', 2), ('Port', 2), ('Assembled', 2), ('J.T.', 2), ('AND', 2), ('Vitrine', 2), ('Portrait', 2), ('Carl', 2), ('Steinberg', 2), ('Taste', 2), ('Aristocratic', 2), ('Co.', 2), ('Centuries', 2), ('Rugs', 2), ('Ornellaia', 2), ('Christopher', 2), ('Of', 2), (\"d'Afrique\", 2), ('Exploration', 2), ('Or', 2), ('Highly', 2), ('Andy', 2), ('Suzanne', 2), ('rue', 2), ('Roy', 2), ('Eclectic', 2), ('Ruth', 2), ('Europ\\xc3\\xa9enne,', 2), ('Jaboulet', 2), ('Franklin', 2), ('FROM', 2), ('Lagune', 2), ('T.', 2), ('Austrian', 2), ('Oggetti', 2), ('Glass', 2), ('Nobile', 2), ('les', 2), ('private', 2), ('Astor', 2), ('VIII', 2), ('Mr.', 2), ('Figures', 2), ('Interior', 2), ('Brooke', 2), ('Summer', 2)]\n"
     ]
    }
   ],
   "source": [
    "terms = []\n",
    "\n",
    "for x in counter.keys():\n",
    "    for y in x.split(' '):\n",
    "        terms.append(y)\n",
    "\n",
    "ncounter = collections.Counter(terms)\n",
    "print ncounter.most_common(500)"
   ]
  },
  {
   "cell_type": "markdown",
   "metadata": {},
   "source": [
    "## Get categorized terms from Melanie to categorize Sale Name"
   ]
  },
  {
   "cell_type": "code",
   "execution_count": 139,
   "metadata": {
    "collapsed": false
   },
   "outputs": [
    {
     "name": "stdout",
     "output_type": "stream",
     "text": [
      "166\n"
     ]
    }
   ],
   "source": [
    "category = pd.read_csv('Term_Frequency_Categorized.csv')\n",
    "category = category[pd.notnull(category['ForD'])]\n",
    "\n",
    "print len(category)"
   ]
  },
  {
   "cell_type": "code",
   "execution_count": 141,
   "metadata": {
    "collapsed": false
   },
   "outputs": [
    {
     "name": "stdout",
     "output_type": "stream",
     "text": [
      "Contemporary F\n",
      "Paintings F\n",
      "European D\n",
      "Modern F\n",
      "Property D\n",
      "Master F\n",
      "Furniture, D\n",
      "Furniture D\n",
      "Ceramics D\n",
      "Russian D\n",
      "American D\n",
      "20th F\n",
      "Design F\n",
      "Sculpture F\n",
      "Decorative D\n",
      "Jewels D\n",
      "Evening F\n",
      "Manuscripts D\n",
      "Books D\n",
      "Continental D\n",
      "Magnificent D\n",
      "Carpets D\n",
      "Impressionist F\n",
      "Silver, D\n",
      "Asian D\n",
      "Silver D\n",
      "Paintings, F\n",
      "French D\n",
      "Imperial D\n",
      "Watches D\n",
      "Drawings F\n",
      "Estate D\n",
      "Prints F\n",
      "Indian D\n",
      "Oceanic D\n",
      "Library D\n",
      "Orientalist F\n",
      "Clocks D\n",
      "Sculptures F\n",
      "African D\n",
      "Porcelain D\n",
      "Vertu D\n",
      "Photographs F\n",
      "Treasures D\n",
      "Pictures F\n",
      "Ceramics, D\n",
      "Qing D\n",
      "Masterworks F\n",
      "Islamic D\n",
      "Tableaux F\n",
      "Tapestries, D\n",
      "African, D\n",
      "Sporting F\n",
      "Stone D\n",
      "Bronzes F\n",
      "House D\n",
      "Clocks, D\n",
      "Objets D\n",
      "Americana d\n",
      "Biblioth��que D\n",
      "Pre-Columbian D\n",
      "Antiquities D\n",
      "Manuscripts, D\n",
      "Medieval D\n",
      "Objects D\n",
      "Miniatures D\n",
      "Books, D\n",
      "Tiffany D\n",
      "Garden D\n",
      "Scandinavian F\n",
      "Orf��vrerie D\n",
      "Painting F\n",
      "Illustrations F\n",
      "Snuff D\n",
      "Icons D\n",
      "Faberg� D\n",
      "Literature, D\n",
      "Natural D\n",
      "XXe F\n",
      "Mobilier, D\n",
      "Renaissance F\n",
      "Multiples F\n",
      "Maps D\n",
      "Marine F\n",
      "Australian F\n",
      "Jadeite D\n",
      "Scholarly D\n",
      "Trust D\n",
      "Travel, D\n",
      "Porcelains D\n",
      "D�coratifs D\n",
      "Boxes D\n",
      "Moderne F\n",
      "Jewellery D\n",
      "Furniture: D\n",
      "Contemporain F\n",
      "Islamique D\n",
      "Atlases D\n",
      "Sculpture, F\n",
      "Watercolours F\n",
      "Picasso F\n",
      "Scottish F\n",
      "Historical D\n",
      "Bloch D\n",
      "Vintage F\n",
      "Anciens F\n",
      "Hermitage D\n",
      "Glass D\n",
      "Library: D\n",
      "Orientalistes F\n",
      "Qianlong D\n",
      "Textiles D\n",
      "Porcelain, D\n",
      "Deco D\n",
      "Surrealist F\n",
      "Asiatic D\n",
      "Dipinti F\n",
      "Indian, D\n",
      "Northwest D\n",
      "Memorabilia D\n",
      "Photographs, F\n",
      "Bibliophile, D\n",
      "Precious D\n",
      "Swiss F\n",
      "Victorian F\n",
      "Post-War F\n",
      "Deco, D\n",
      "Andy F\n",
      "Americana: D\n",
      "Austrian F\n",
      "Interior D\n",
      "Pop F\n",
      "Rosenthal D\n",
      "Judaica D\n",
      "Milton D\n",
      "Decorations D\n",
      "Mobilier D\n",
      "Antique D\n",
      "MAGNIFICENT D\n",
      "Painting, F\n",
      "Literati D\n",
      "Residence D\n",
      "AMERICAN F\n",
      "Contemporanea F\n",
      "Watches, D\n",
      "BERNHEIMER D\n",
      "Moderna F\n",
      "Abstraction F\n",
      "Wristwatches D\n",
      "Mint D\n",
      "Hirst F\n",
      "Piano D\n",
      "Faberge D\n",
      "Dietrich F\n",
      "Illustration F\n",
      "Tapestries D\n",
      "Empire D\n",
      "Antiques D\n",
      "Tiffany: D\n",
      "Architectural D\n",
      "Tang D\n",
      "Atlases, D\n",
      "Drawings, F\n",
      "Dessin�e F\n",
      "Manuscrits D\n",
      "Symbolism F\n"
     ]
    }
   ],
   "source": [
    "for x in range(len(category)):\n",
    "    print category.iloc[x][0], category.iloc[x][2]"
   ]
  },
  {
   "cell_type": "code",
   "execution_count": 153,
   "metadata": {
    "collapsed": false
   },
   "outputs": [],
   "source": [
    "cate = []\n",
    "sale = []\n",
    "\n",
    "for x in list(set(nullMaker['Sale Name'])):\n",
    "    subData = nullMaker[nullMaker['Sale Name'] == x]\n",
    "    for y in range(len(category)):\n",
    "        if category.iloc[y][0] in x:\n",
    "            cate.append(category.iloc[y][2])\n",
    "            sale.append(x)\n",
    "            break"
   ]
  },
  {
   "cell_type": "code",
   "execution_count": 154,
   "metadata": {
    "collapsed": false
   },
   "outputs": [
    {
     "name": "stdout",
     "output_type": "stream",
     "text": [
      "669 669\n"
     ]
    }
   ],
   "source": [
    "print len(cate), len(sale)"
   ]
  },
  {
   "cell_type": "code",
   "execution_count": 162,
   "metadata": {
    "collapsed": false
   },
   "outputs": [
    {
     "data": {
      "text/plain": [
       "(['D', 'D', 'D', 'D', 'F', 'F', 'D', 'F', 'D', 'D'],\n",
       " ['Spring Decorative Sale',\n",
       "  'Important French & Continental Furniture',\n",
       "  'Fine Chinese Ceramics & Works of Art including Chinese and Japanese Art from The Collection of Frieda and Milton Rosenthal',\n",
       "  'Important African and Oceanic Art: Collection of Governor Guyon, Adolf Hoffmeister, Christina and Rolf Miehler and Various Owners',\n",
       "  'Modern & Contemporary Art and Collection Jef Verheyen and Dani Franque',\n",
       "  'Scottish Pictures: Edinburgh Assembly Rooms',\n",
       "  'Indian, Himalayan and Southeast Asian Works of Art Including Property from the Estate of Dr. Claus Virch',\n",
       "  'Important Old Master and 19th Century Paintings from the Collection of Jacob Elie Safra',\n",
       "  'The Valmadonna Trust Library: Part I Magnificent Manuscripts and the Bomberg Talmud',\n",
       "  'Western Manuscripts and Miniatures and the Korner sale'])"
      ]
     },
     "execution_count": 162,
     "metadata": {},
     "output_type": "execute_result"
    }
   ],
   "source": [
    "cate[:10], sale[:10]"
   ]
  },
  {
   "cell_type": "markdown",
   "metadata": {},
   "source": [
    "## Get maker information from Fine/Decorative Arts"
   ]
  },
  {
   "cell_type": "code",
   "execution_count": 157,
   "metadata": {
    "collapsed": false
   },
   "outputs": [
    {
     "name": "stdout",
     "output_type": "stream",
     "text": [
      "234\n"
     ]
    }
   ],
   "source": [
    "subData = nullMaker[nullMaker['Sale Name'] == 'Spring Decorative Sale']\n",
    "print len(subData)"
   ]
  },
  {
   "cell_type": "code",
   "execution_count": 161,
   "metadata": {
    "collapsed": false
   },
   "outputs": [
    {
     "name": "stdout",
     "output_type": "stream",
     "text": [
      " de style Louis XIII ; composées d'éléments anciens\n",
      " dans le style du XVIIe siècle ; composées d'éléments anciens\n",
      " seconde moitié du XVIIe siècle (transformations)\n",
      " en partie d'époque Louis XIV\n",
      " de style Louis XIV\n",
      " attribué à Thomas Hache (1664-1747)\n",
      " travail provincial d'époque Louis XV\n",
      " travail provincial\n",
      " d'époque Louis XV\n",
      " d'époque Louis XV\n",
      " Chine\n",
      " travail provincial du XVIIIe siècle\n",
      " d'époque Louis XV\n",
      " de style Louis XV\n",
      " fin du XIXe siècle\n",
      " de style Louis XV\n",
      " de style Louis XVI\n",
      " vers 1800\n",
      " travail de l'Est\n",
      " Saint-Omer\n",
      " Paris\n",
      " de style Louis XVI ; XIXe siècle\n",
      " placage d'érable et incrustations de bois sombre\n",
      " d'époque Charles X\n",
      " d'époque Charles X\n",
      " d'époque Restauration\n",
      " placage d'acajou et bronze patiné et doré\n",
      " nord-ouest de la perse\n",
      " fin du XVIe siècle\n",
      " XVIe siècle\n",
      " Italie du Nord\n",
      " os et ivoire\n",
      " XIXe siècle\n",
      " de style Louis XIV\n",
      " XVIIe siècle\n",
      " par José Alves Cunha ; vers 1860-1885\n",
      " par José Alves Cunha ; vers 1860-1885\n",
      " travail étranger\n",
      " XIXe siècle\n",
      " pays-bas ; dans le style du XVIIe siècle\n",
      " fin du XIXe siècle\n",
      " probablement Hollande\n",
      " Espagne\n",
      " XVIIè siècle\n",
      " XVIIe siècle\n",
      " XVe siècle\n",
      " Florence\n",
      " Venise\n",
      " vers 1870\n",
      " vers 1870\n",
      " XIXè siècle\n",
      " XVIIIe siècle\n",
      " fin XVIIIe siècle\n",
      " de style Louis XV\n",
      " de style Louis XV\n",
      " de style Louis XV\n",
      " seconde moitiè du XIXe siècle\n",
      " fin du XIXe siècle\n",
      " de style Louis XV\n",
      " relaqué crème et or\n",
      " de style Louis XV\n",
      " dans les styles des XVIIe et XVIIIe siècles\n",
      " probablement Caucase ou Iran\n",
      " perse centrale\n",
      " les bronzes marqués au c couronné (1745-1749)\n",
      " probablement viennois\n",
      " dans le goût de Saunier\n",
      " XIXe siècle\n",
      " XIXe siècle\n",
      " doré et sculpté\n",
      " XVIIIe siècle\n",
      " XIXe siècle\n",
      " de style Louis XVI\n",
      " fin du XVIIIe siècle\n",
      " laiton et pendeloques de cristal blanc et améthysté\n",
      " par Baccarat\n",
      " travail suisse\n",
      " par Duvinage\n",
      " de style Louis XVI \n",
      " vers 1860-1870\n",
      " XIXe siècle\n",
      " estampillés C.L. MARIETTE\n",
      " XIXe siècle\n",
      " de style Transition\n",
      " bois noirci et bronze doré\n",
      " de Giens\n",
      " d'époque Louis XVI\n",
      " Italie\n",
      " Nevers\n",
      " d'après Barbedienne ; fin du XIXe siècle\n",
      " de style Louis XVI\n",
      " vers 1800\n",
      " XIXe siècle\n",
      " XIXe siècle\n",
      " de style Louis XVI\n",
      " XIXe siècle\n",
      " XIXe siècle\n",
      " Italie du nord ou Allemagne\n",
      " Bessarabievers 1900\n",
      "vers 1800\n",
      " angleterre\n",
      " Angleterre\n",
      " Angleterre\n",
      " angleterre\n",
      " angleterre\n",
      " de style Louis XVI ; par Haentges Frères\n",
      " placage d'acajou et laiton\n",
      " de style Transition\n",
      " bois doré et peint façon acajou\n",
      " par Julien Monier\n",
      "\n",
      " XIXè siècle\n",
      " vers 1950\n",
      " probablement par Cartier\n",
      " stylos à bille et briquet en or par Cartier\n",
      " photographie de la répétition à l'hôtel lambert de l'entrée d'antoine et de cléopatre au bal beitegui à venise\n",
      " Portrait d'Alexis de Redé\n",
      " Portrait d'Alexis de Redé\n",
      " ébène et cuivre\n",
      " Colonel Mordaun'ts Cock Match at Lucknow\n",
      " Ecole française du XIXe siècle\n",
      " Portrait de femme\n",
      " vers 1880\n",
      " XIXe siècle\n",
      " Chine\n",
      " de style empire ; XXe siècle\n",
      " début du XXe siècle\n",
      " milieu du XIXe siècle\n",
      " états-unis\n",
      " états-unis\n",
      " états-unis\n",
      " états unis\n",
      " états-unis\n",
      " Etats-Unis\n",
      " états-unis\n",
      " noirci et doré\n",
      " Etats-Unis\n",
      " XVIIIe siècle\n",
      " première moitié du XIXe siècle\n",
      " XIXe siècle\n",
      " fin du XVIIIe\n",
      " émaux et nacre\n",
      " probablement par Tiffany\n",
      " Etats-Unis\n",
      " par Tiffany\n",
      " états-unis\n",
      " états-unis\n",
      " première moitié du XIXe siècle\n",
      " peint et doré\n",
      " XIXe siècle\n",
      " boxeur\n",
      " deux boxeurs au combat\n",
      " buste de boxeur\n",
      " boxeur au combat\n",
      " circa 1940-1950\n",
      " d'époque Restauration\n",
      " états-unis\n",
      " états-unis\n",
      " vue de new-york\n",
      " vers 1850\n",
      " états-unis\n",
      " dans le goût de tiffany\n",
      " Etats-Unis\n",
      " composition\n",
      " composition\n",
      " Chine\n",
      " Jewish Museum Poster\n",
      " collage\n",
      " circle girl\n",
      " paysage\n",
      " paysages et vues américaines\n",
      " Etats-Unis\n",
      " états-unis\n",
      " Etats-Unis\n",
      " travail américain\n",
      " peint et doré\n",
      " travail américain\n",
      " indien et jeune fille\n",
      " the scout\n",
      " art traditionnel des indiens d'amérique\n",
      " art traditionnel des indiens d'amérique\n",
      " art traditionnel des indiens d'amérique\n",
      " art traditionnel des Indiens d'Amérique\n",
      " art traditionnel des indiens d'amérique\n",
      " art traditionnel des indiens d'amérique\n",
      " art traditionnel des indiens d'amérique\n"
     ]
    }
   ],
   "source": [
    "for x in subData['Lot Title']:\n",
    "    try:\n",
    "        print x.split(',')[1]\n",
    "    except:\n",
    "        continue"
   ]
  },
  {
   "cell_type": "code",
   "execution_count": 165,
   "metadata": {
    "collapsed": false
   },
   "outputs": [
    {
     "name": "stdout",
     "output_type": "stream",
     "text": [
      "Edinburgh Trustees Academy\n"
     ]
    }
   ],
   "source": [
    "subData = nullMaker[nullMaker['Sale Name'] == 'Scottish Pictures: Edinburgh Assembly Rooms']\n",
    "for x in subData['Lot Title']:\n",
    "    try:\n",
    "        print x.split(',')[0]\n",
    "    except:\n",
    "        continue"
   ]
  },
  {
   "cell_type": "code",
   "execution_count": 166,
   "metadata": {
    "collapsed": false
   },
   "outputs": [
    {
     "name": "stdout",
     "output_type": "stream",
     "text": [
      "669 669\n"
     ]
    }
   ],
   "source": [
    "print len(cate), len(sale)"
   ]
  },
  {
   "cell_type": "markdown",
   "metadata": {},
   "source": [
    "## Get the complete list of all the Sale Name"
   ]
  },
  {
   "cell_type": "code",
   "execution_count": 168,
   "metadata": {
    "collapsed": false
   },
   "outputs": [],
   "source": [
    "df = {}\n",
    "\n",
    "for x in range(len(cate)):\n",
    "    df[sale[x]] = cate[x]\n",
    "    \n",
    "total = []\n",
    "\n",
    "for x in list(set(nullMaker['Sale Name'])):\n",
    "    if x in df:\n",
    "        total.append(df[x])\n",
    "    else:\n",
    "        total.append('')"
   ]
  },
  {
   "cell_type": "code",
   "execution_count": 172,
   "metadata": {
    "collapsed": false
   },
   "outputs": [
    {
     "name": "stdout",
     "output_type": "stream",
     "text": [
      " 858 858\n"
     ]
    }
   ],
   "source": [
    "print len(total), len(list(set(nullMaker['Sale Name'])))"
   ]
  },
  {
   "cell_type": "code",
   "execution_count": 173,
   "metadata": {
    "collapsed": true
   },
   "outputs": [],
   "source": [
    "complete = pd.DataFrame() \n",
    "complete['Category'] = total\n",
    "complete['Sale Name'] = list(set(nullMaker['Sale Name']))"
   ]
  },
  {
   "cell_type": "code",
   "execution_count": 175,
   "metadata": {
    "collapsed": true
   },
   "outputs": [],
   "source": [
    "complete.to_csv('sale_name.csv', index = False)"
   ]
  },
  {
   "cell_type": "markdown",
   "metadata": {
    "collapsed": true
   },
   "source": [
    "## Parse the whole data set to get maker"
   ]
  },
  {
   "cell_type": "code",
   "execution_count": null,
   "metadata": {
    "collapsed": true
   },
   "outputs": [],
   "source": []
  }
 ],
 "metadata": {
  "kernelspec": {
   "display_name": "Python 2",
   "language": "python",
   "name": "python2"
  },
  "language_info": {
   "codemirror_mode": {
    "name": "ipython",
    "version": 2
   },
   "file_extension": ".py",
   "mimetype": "text/x-python",
   "name": "python",
   "nbconvert_exporter": "python",
   "pygments_lexer": "ipython2",
   "version": "2.7.11"
  }
 },
 "nbformat": 4,
 "nbformat_minor": 0
}
