{
 "cells": [
  {
   "cell_type": "code",
   "execution_count": 12,
   "metadata": {
    "collapsed": true
   },
   "outputs": [],
   "source": [
    "from pymongo import MongoClient\n",
    "\n",
    "client = MongoClient('localhost', 27017)\n",
    "db = client['local']\n",
    "\n",
    "subjects_collection = db['collectrium_stokstad_models_subjects']\n",
    "makers = []\n",
    "ids = []\n",
    "n = 0\n",
    "\n",
    "for artist in subjects_collection.find({'_type': 'Collectrium::Stokstad::Models::Artist', 'terms.0': {'$exists': True}}):\n",
    "    \n",
    "    if artist['approved']:\n",
    "        for x in artist['terms']:\n",
    "            makers.append(x['text'])\n",
    "            ids.append(x['_id'])   "
   ]
  },
  {
   "cell_type": "code",
   "execution_count": 13,
   "metadata": {
    "collapsed": true
   },
   "outputs": [],
   "source": [
    "class TireNode:\n",
    "    \n",
    "    def __init__ (self):\n",
    "        self.val = None\n",
    "        self.mark = False\n",
    "        self.pointers = {}\n",
    "        \n",
    "class Tire:\n",
    "    \n",
    "    def __init__ (self):\n",
    "        self.root = TireNode()\n",
    "        \n",
    "    def insert(self, name):\n",
    "        self.re_insert(name, self.root)\n",
    "        return\n",
    "    \n",
    "    def re_insert(self, name, root):\n",
    "        if name[0] not in root.pointers:\n",
    "            newNode = TireNode()\n",
    "            newNode.val = name[0]\n",
    "            root.pointers[name[0]] = newNode\n",
    "            self.re_insert(name, root)\n",
    "        else:\n",
    "            nextNode = root.pointers[name[0]]\n",
    "            if(len(name[1:]) == 0):\n",
    "                nextNode.mark = True\n",
    "                return\n",
    "            return self.re_insert(name[1:], nextNode)\n",
    "        \n",
    "    def search(self, name):\n",
    "        if len(name) == 0:\n",
    "            return False\n",
    "        else:\n",
    "            return self.re_search(name, self.root)\n",
    "        \n",
    "    def re_search(self, name, root):\n",
    "        if name[0] not in root.pointers:\n",
    "            return False\n",
    "        else:\n",
    "            nextNode = root.pointers[name[0]]\n",
    "            if len(name[1:]) == 0:\n",
    "                if nextNode.mark == True:\n",
    "                    return True\n",
    "                else:\n",
    "                    return False\n",
    "            else:\n",
    "                return self.re_search(name[1:], nextNode)"
   ]
  },
  {
   "cell_type": "code",
   "execution_count": 14,
   "metadata": {
    "collapsed": true
   },
   "outputs": [],
   "source": [
    "def buildTree(names):\n",
    "    \n",
    "    tree = Tire()\n",
    "    for x in names:\n",
    "        tree.insert(x.split(' '))\n",
    "    \n",
    "    return tree"
   ]
  },
  {
   "cell_type": "code",
   "execution_count": 15,
   "metadata": {
    "collapsed": true
   },
   "outputs": [],
   "source": [
    "def searchTerms(sentence, tree):\n",
    "    \n",
    "    senten = sentence.replace(\"'\", '').replace(\"\\t\", '').replace(',', '').lstrip().rstrip().lower()\n",
    "    terms = senten.split(' ')\n",
    "    oterms = sentence.lstrip().rstrip().split(' ')\n",
    "    \n",
    "    for x in range(len(terms)):  \n",
    "        for y in range(x, len(terms)):\n",
    "            tomatch = terms[x:y+1]\n",
    "            if tree.search(tomatch):\n",
    "                return ' '.join(oterms[x:y+1])\n",
    "            else:\n",
    "                return ''"
   ]
  },
  {
   "cell_type": "code",
   "execution_count": 16,
   "metadata": {
    "collapsed": false
   },
   "outputs": [
    {
     "name": "stderr",
     "output_type": "stream",
     "text": [
      "Skipping line 65972: expected 18 fields, saw 19\n",
      "\n",
      "Skipping line 225573: expected 18 fields, saw 27\n",
      "\n"
     ]
    },
    {
     "name": "stdout",
     "output_type": "stream",
     "text": [
      "834227\n",
      "834227\n"
     ]
    }
   ],
   "source": [
    "import pandas as pd\n",
    "import numpy as np\n",
    "import collections\n",
    "from collections import OrderedDict\n",
    "\n",
    "newData = pd.read_csv(\"listings_1461025592.csv\", warn_bad_lines=True, error_bad_lines=False)\n",
    "oldData = pd.read_csv(\"sothebys_historical_data.csv\", warn_bad_lines=True, error_bad_lines=False)\n",
    "\n",
    "data = newData.append(oldData)\n",
    "nullMaker = data[pd.isnull(data['Maker'])]\n",
    "\n",
    "print len(makers)\n",
    "\n",
    "clean = []\n",
    "for x in makers:\n",
    "    clean.append(x.replace(\"'\", '').replace(\"\\t\", '').replace(',', '').lstrip().rstrip().lower())\n",
    "\n",
    "# clean = sorted(list(set(clean)))\n",
    "\n",
    "print len(clean)"
   ]
  },
  {
   "cell_type": "code",
   "execution_count": 17,
   "metadata": {
    "collapsed": false
   },
   "outputs": [],
   "source": [
    "tree = buildTree(clean)\n",
    "makers = []\n",
    "\n",
    "for index, row in nullMaker.iterrows():\n",
    "    terms = row['Lot Title']\n",
    "    try:\n",
    "        maker = searchTerms(terms, tree)\n",
    "        makers.append(maker)\n",
    "    except:\n",
    "        makers.append('')"
   ]
  },
  {
   "cell_type": "code",
   "execution_count": 18,
   "metadata": {
    "collapsed": false
   },
   "outputs": [
    {
     "name": "stderr",
     "output_type": "stream",
     "text": [
      "/Users/gzhao/Library/Python/2.7/lib/python/site-packages/ipykernel/__main__.py:1: SettingWithCopyWarning: \n",
      "A value is trying to be set on a copy of a slice from a DataFrame.\n",
      "Try using .loc[row_indexer,col_indexer] = value instead\n",
      "\n",
      "See the caveats in the documentation: http://pandas.pydata.org/pandas-docs/stable/indexing.html#indexing-view-versus-copy\n",
      "  if __name__ == '__main__':\n"
     ]
    },
    {
     "data": {
      "text/plain": [
       "0.7600087906007506"
      ]
     },
     "execution_count": 18,
     "metadata": {},
     "output_type": "execute_result"
    }
   ],
   "source": [
    "nullMaker['Maker'] = makers\n",
    "noMaker = nullMaker[nullMaker['Maker'] == '']\n",
    "len(noMaker)/float(len(data))"
   ]
  },
  {
   "cell_type": "code",
   "execution_count": 19,
   "metadata": {
    "collapsed": false
   },
   "outputs": [
    {
     "name": "stdout",
     "output_type": "stream",
     "text": [
      "[('', 681281), ('Three', 2298), ('THREE', 892), ('Group', 424), ('Statuette', 377), ('GROUP', 370), ('Multiple', 290), ('AQUAMARINE', 232), ('Commode', 204), ('ENAMEL', 189), ('Miscellaneous', 182), ('Unmounted', 162), ('Aquamarine', 155), ('Fauteuil', 129), ('Bureau', 109), ('Tazza', 109), ('Enamel', 106), ('OPAL', 103), ('ENAMEL,', 96), ('MISCELLANEOUS', 92), ('Miniature', 92), ('TURQUOISE', 82), ('UNMOUNTED', 81), ('Netsuke', 72), ('Turquoise', 68), ('CORAL', 66), ('CITRINE', 65), ('Opal', 61), ('Tourmaline', 59), ('TOURMALINE', 54), ('tazza', 50), ('PERIDOT', 50), ('GARNET', 46), ('Enamel,', 43), ('three', 43), ('Tanzanite', 42), ('Piccolo', 42), ('Statuette,', 41), ('Head', 40), ('Coral', 39), ('multiple', 38), ('ALEXANDRITE', 37), ('FIGURES', 36), ('Gong', 36), ('TOPAZ', 36), ('Dirk', 36), ('Boss', 35), ('Citrine', 35), ('Peridot', 34), ('Garnet', 32), ('Hardstone', 32), ('Military', 31), ('CONCH', 31), ('TURQUOISE,', 30), ('statuette', 30), ('MOONSTONE', 29), ('Armoire', 29), ('bureau', 27), ('Topaz', 26), ('CORAL,', 26), ('Coral,', 26), ('HARDSTONE', 26), ('Cassone', 25), ('Alexandrite', 24), ('commode', 24), ('DING', 23), ('Turquoise,', 23), ('Sceptre', 21), ('TANZANITE', 21), ('KUNZITE', 21), ('Crucifix', 20), ('AQUAMARINE,', 20), ('Abstract', 20), ('Lion', 20), ('fauteuil', 18), ('Architectural', 18), ('OPAL,', 17), ('Moonstone', 17), ('Aquamarine,', 17), ('MUSCAT', 17), ('DIRK', 16), ('MINIATURE', 16), ('CHALCEDONY', 15), ('Costume', 15), ('Inro', 15), ('Astronomical', 15), ('FU', 15), (\"Children's\", 15), ('piccolo', 14), ('LANDSCAPE', 14), ('CHRYSOBERYL', 13), ('Kunzite', 13), ('Geometry', 12), ('Quartz', 12), ('ABSTRACT', 11), ('Celestial', 11), ('INTERIOR', 11), ('Tourmaline,', 11), ('Political', 10), ('Citrine,', 10)]\n"
     ]
    }
   ],
   "source": [
    "counter = collections.Counter(makers)\n",
    "print counter.most_common(100)"
   ]
  },
  {
   "cell_type": "code",
   "execution_count": 4,
   "metadata": {
    "collapsed": false
   },
   "outputs": [
    {
     "name": "stdout",
     "output_type": "stream",
     "text": [
      "[]\n"
     ]
    }
   ],
   "source": [
    "x = [1, 2, 3]\n",
    "print x[3:4]"
   ]
  },
  {
   "cell_type": "code",
   "execution_count": null,
   "metadata": {
    "collapsed": true
   },
   "outputs": [],
   "source": []
  }
 ],
 "metadata": {
  "kernelspec": {
   "display_name": "Python 2",
   "language": "python",
   "name": "python2"
  },
  "language_info": {
   "codemirror_mode": {
    "name": "ipython",
    "version": 2
   },
   "file_extension": ".py",
   "mimetype": "text/x-python",
   "name": "python",
   "nbconvert_exporter": "python",
   "pygments_lexer": "ipython2",
   "version": "2.7.11"
  }
 },
 "nbformat": 4,
 "nbformat_minor": 0
}
