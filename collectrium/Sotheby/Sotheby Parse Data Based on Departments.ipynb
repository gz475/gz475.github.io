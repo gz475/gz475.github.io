{
 "cells": [
  {
   "cell_type": "markdown",
   "metadata": {},
   "source": [
    "# Read Data"
   ]
  },
  {
   "cell_type": "code",
   "execution_count": 1,
   "metadata": {
    "collapsed": false
   },
   "outputs": [
    {
     "name": "stderr",
     "output_type": "stream",
     "text": [
      "Skipping line 225573: expected 18 fields, saw 27\n",
      "\n",
      "/Users/gzhao/Library/Python/2.7/lib/python/site-packages/IPython/core/interactiveshell.py:2723: DtypeWarning: Columns (7,8,9) have mixed types. Specify dtype option on import or set low_memory=False.\n",
      "  interactivity=interactivity, compiler=compiler, result=result)\n"
     ]
    }
   ],
   "source": [
    "import pandas as pd\n",
    "import numpy as np\n",
    "import collections\n",
    "from collections import OrderedDict\n",
    "\n",
    "data = pd.read_csv(\"sothebys_historical_data.csv\", warn_bad_lines=True, error_bad_lines=False)\n",
    "sampleData = data[:100]"
   ]
  },
  {
   "cell_type": "code",
   "execution_count": 2,
   "metadata": {
    "collapsed": true
   },
   "outputs": [],
   "source": [
    "nameData = data[pd.notnull(data['Sale Name'])]\n",
    "nullMaker = nameData[pd.isnull(nameData['Maker'])]"
   ]
  },
  {
   "cell_type": "code",
   "execution_count": 15,
   "metadata": {
    "collapsed": false
   },
   "outputs": [
    {
     "name": "stdout",
     "output_type": "stream",
     "text": [
      "['Books & Manuscripts', 'Jewelry', 'Fine Arts', 'Cars', 'Decorative Arts', 'Watches', 'Stamps', 'Musical instruments', 'Wine']\n"
     ]
    }
   ],
   "source": [
    "category = pd.read_csv('categorized sales by sale name.csv - sale_name.csv')\n",
    "\n",
    "category.loc[category['Category'] == 'F', 'Category'] = 'Fine Arts'\n",
    "category.loc[category['Category'] == 'D', 'Category'] = 'Decorative Arts'\n",
    "category.loc[category['Category'] == 'WIne', 'Category'] = 'Wine'\n",
    "\n",
    "cates = list(set(category['Category']))\n",
    "print cates"
   ]
  },
  {
   "cell_type": "code",
   "execution_count": 16,
   "metadata": {
    "collapsed": true
   },
   "outputs": [],
   "source": [
    "import re\n",
    "\n",
    "def hasNumbers(inputString):\n",
    "    return bool(re.search(r'\\d', inputString))"
   ]
  },
  {
   "cell_type": "markdown",
   "metadata": {},
   "source": [
    "# Parse Watch Data"
   ]
  },
  {
   "cell_type": "code",
   "execution_count": 253,
   "metadata": {
    "collapsed": true
   },
   "outputs": [],
   "source": [
    "watchCate = category[category['Category'] == 'Watches']\n",
    "watchData = nullMaker[nullMaker['Sale Name'].isin(list(watchCate['Sale Name']))]"
   ]
  },
  {
   "cell_type": "code",
   "execution_count": 254,
   "metadata": {
    "collapsed": false
   },
   "outputs": [
    {
     "name": "stdout",
     "output_type": "stream",
     "text": [
      "[('Important Watches', 7524), ('Important  Watches', 1657), ('Fine Watches', 1214), ('Important Watches & Clocks', 1199), ('Clocks, Watches and Wristwatches', 884), ('Fine Timepieces', 446), ('Important Watches including Magnificent Clocks from an Important Private Collection', 436), ('Important Watches and Clocks', 424), ('Watches', 307), ('IMPORTANT WATCHES', 304)]\n"
     ]
    }
   ],
   "source": [
    "counter = collections.Counter(watchData['Sale Name'])\n",
    "print counter.most_common(10)"
   ]
  },
  {
   "cell_type": "code",
   "execution_count": 27,
   "metadata": {
    "collapsed": false
   },
   "outputs": [
    {
     "name": "stdout",
     "output_type": "stream",
     "text": [
      "0.796858036912\n"
     ]
    }
   ],
   "source": [
    "number = 0\n",
    "for x in counter.most_common(5):\n",
    "    number += x[1]\n",
    "print number/float(sum(counter.values()))"
   ]
  },
  {
   "cell_type": "code",
   "execution_count": 35,
   "metadata": {
    "collapsed": false
   },
   "outputs": [
    {
     "name": "stdout",
     "output_type": "stream",
     "text": [
      "7524\n",
      "1657\n",
      "1214\n",
      "1199\n",
      "884\n"
     ]
    }
   ],
   "source": [
    "dataDict = OrderedDict()\n",
    "for x in counter.most_common(5):\n",
    "    dataDict[x[0]] = watchData[watchData['Sale Name'] == x[0]]\n",
    "    print len(dataDict[x[0]])"
   ]
  },
  {
   "cell_type": "code",
   "execution_count": 255,
   "metadata": {
    "collapsed": false
   },
   "outputs": [],
   "source": [
    "years = []\n",
    "makers = []\n",
    "\n",
    "for index, row in dataDict[dataDict.keys()[0]].iterrows():\n",
    "    try:\n",
    "        name = row['Lot Title'].split(',')\n",
    "        if len(name) == 1:\n",
    "            makers.append(name[0].title())\n",
    "            years.append('')\n",
    "        else:\n",
    "            if len(row['Lot Title'].lower().split('circa ', 1)) > 1:\n",
    "                makers.append(name[0].title())\n",
    "                years.append('Circa ' + ''.join(c for c in row['Lot Title'].lower().split('circa ', 1)[1].split(' ')[0] if c.isdigit()))\n",
    "            else :\n",
    "                makers.append(name[0].title())\n",
    "                years.append('')\n",
    "    except:\n",
    "        try:\n",
    "            makers.append(row['Lot Title'].title())\n",
    "        except:\n",
    "            makers.append(row['Lot Title'])\n",
    "        years.append('')"
   ]
  },
  {
   "cell_type": "code",
   "execution_count": 256,
   "metadata": {
    "collapsed": false
   },
   "outputs": [],
   "source": [
    "sizes = []\n",
    "\n",
    "for index, row in dataDict[dataDict.keys()[0]].iterrows():\n",
    "    try:\n",
    "        if len(row['Lot Description'].lower().split(\"\\n\")[1]) > 0:          \n",
    "            sizes.append(row['Lot Description'].lower().split(\"\\n\")[1])\n",
    "        else:\n",
    "            sizes.append(row['Lot Description'].lower().split(\"\\n\")[2])\n",
    "    except:\n",
    "        sizes.append('')"
   ]
  },
  {
   "cell_type": "code",
   "execution_count": 258,
   "metadata": {
    "collapsed": false
   },
   "outputs": [
    {
     "name": "stdout",
     "output_type": "stream",
     "text": [
      "7524 7524 7524\n"
     ]
    }
   ],
   "source": [
    "print len(makers), len(years), len(sizes)"
   ]
  },
  {
   "cell_type": "code",
   "execution_count": 259,
   "metadata": {
    "collapsed": true
   },
   "outputs": [],
   "source": [
    "years = []\n",
    "makers = []\n",
    "\n",
    "for index, row in watchData.iterrows():\n",
    "    try:\n",
    "        name = row['Lot Title'].split(',')\n",
    "        if len(name) == 1:\n",
    "            makers.append(name[0].title())\n",
    "            years.append('')\n",
    "        else:\n",
    "            if len(row['Lot Title'].lower().split('circa ', 1)) > 1:\n",
    "                makers.append(name[0].title())\n",
    "                years.append('Circa ' + ''.join(c for c in row['Lot Title'].lower().split('circa ', 1)[1].split(' ')[0] if c.isdigit()))\n",
    "            else :\n",
    "                makers.append(name[0].title())\n",
    "                years.append('')\n",
    "    except:\n",
    "        try:\n",
    "            makers.append(row['Lot Title'].title())\n",
    "        except:\n",
    "            makers.append(row['Lot Title'])\n",
    "        years.append('')"
   ]
  },
  {
   "cell_type": "code",
   "execution_count": 260,
   "metadata": {
    "collapsed": true
   },
   "outputs": [],
   "source": [
    "sizes = []\n",
    "\n",
    "for index, row in watchData.iterrows():\n",
    "    try:\n",
    "        if len(row['Lot Description'].lower().split(\"\\n\")[1]) > 0:          \n",
    "            sizes.append(row['Lot Description'].lower().split(\"\\n\")[1])\n",
    "        else:\n",
    "            sizes.append(row['Lot Description'].lower().split(\"\\n\")[2])\n",
    "    except:\n",
    "        sizes.append('')"
   ]
  },
  {
   "cell_type": "code",
   "execution_count": 261,
   "metadata": {
    "collapsed": false
   },
   "outputs": [
    {
     "name": "stderr",
     "output_type": "stream",
     "text": [
      "/Users/gzhao/Library/Python/2.7/lib/python/site-packages/ipykernel/__main__.py:1: SettingWithCopyWarning: \n",
      "A value is trying to be set on a copy of a slice from a DataFrame.\n",
      "Try using .loc[row_indexer,col_indexer] = value instead\n",
      "\n",
      "See the caveats in the documentation: http://pandas.pydata.org/pandas-docs/stable/indexing.html#indexing-view-versus-copy\n",
      "  if __name__ == '__main__':\n",
      "/Users/gzhao/Library/Python/2.7/lib/python/site-packages/ipykernel/__main__.py:2: SettingWithCopyWarning: \n",
      "A value is trying to be set on a copy of a slice from a DataFrame.\n",
      "Try using .loc[row_indexer,col_indexer] = value instead\n",
      "\n",
      "See the caveats in the documentation: http://pandas.pydata.org/pandas-docs/stable/indexing.html#indexing-view-versus-copy\n",
      "  from ipykernel import kernelapp as app\n",
      "/Users/gzhao/Library/Python/2.7/lib/python/site-packages/ipykernel/__main__.py:3: SettingWithCopyWarning: \n",
      "A value is trying to be set on a copy of a slice from a DataFrame.\n",
      "Try using .loc[row_indexer,col_indexer] = value instead\n",
      "\n",
      "See the caveats in the documentation: http://pandas.pydata.org/pandas-docs/stable/indexing.html#indexing-view-versus-copy\n",
      "  app.launch_new_instance()\n"
     ]
    }
   ],
   "source": [
    "watchData['Maker'] = makers\n",
    "watchData['Creation_Date'] = years\n",
    "watchData['Size_Description'] = sizes"
   ]
  },
  {
   "cell_type": "code",
   "execution_count": 263,
   "metadata": {
    "collapsed": false
   },
   "outputs": [],
   "source": [
    "makers = []\n",
    "\n",
    "for x in watchData['Maker']:\n",
    "    try:\n",
    "        if x[0] == 'A':\n",
    "            makers.append('')\n",
    "        else:\n",
    "            try:\n",
    "                if len(x.split(' ')) > 5:\n",
    "                    if x.split('\"')[0].split(' ')[0] == 'The' or x.split('\"')[0].split(' ')[0] == 'Two':\n",
    "                        makers.append('')\n",
    "                    else:\n",
    "                        makers.append(x.split('\"')[0])\n",
    "                else:\n",
    "                    makers.append(x)\n",
    "            except:\n",
    "                makers.append(x)\n",
    "    except:\n",
    "        makers.append('')"
   ]
  },
  {
   "cell_type": "code",
   "execution_count": 264,
   "metadata": {
    "collapsed": false
   },
   "outputs": [
    {
     "name": "stderr",
     "output_type": "stream",
     "text": [
      "/Users/gzhao/Library/Python/2.7/lib/python/site-packages/ipykernel/__main__.py:1: SettingWithCopyWarning: \n",
      "A value is trying to be set on a copy of a slice from a DataFrame.\n",
      "Try using .loc[row_indexer,col_indexer] = value instead\n",
      "\n",
      "See the caveats in the documentation: http://pandas.pydata.org/pandas-docs/stable/indexing.html#indexing-view-versus-copy\n",
      "  if __name__ == '__main__':\n"
     ]
    }
   ],
   "source": [
    "watchData['Maker'] = makers\n",
    "watchData.to_pickle('watch.pkl')"
   ]
  },
  {
   "cell_type": "code",
   "execution_count": 265,
   "metadata": {
    "collapsed": false
   },
   "outputs": [],
   "source": [
    "df = pd.read_pickle('watch.pkl')\n",
    "df = df.rename(columns = {'size_description':'Size_Description'})\n",
    "df.to_pickle('watch.pkl')"
   ]
  },
  {
   "cell_type": "markdown",
   "metadata": {},
   "source": [
    "# Parse Car Data"
   ]
  },
  {
   "cell_type": "code",
   "execution_count": 153,
   "metadata": {
    "collapsed": false
   },
   "outputs": [],
   "source": [
    "carCate = category[category['Category'] == 'Cars']\n",
    "carData = nullMaker[nullMaker['Sale Name'].isin(list(carCate['Sale Name']))]"
   ]
  },
  {
   "cell_type": "code",
   "execution_count": 154,
   "metadata": {
    "collapsed": false
   },
   "outputs": [
    {
     "name": "stdout",
     "output_type": "stream",
     "text": [
      "[('Art of the Automobile', 41)]\n"
     ]
    }
   ],
   "source": [
    "counter = collections.Counter(carData['Sale Name'])\n",
    "print counter.most_common(10)"
   ]
  },
  {
   "cell_type": "code",
   "execution_count": 156,
   "metadata": {
    "collapsed": false
   },
   "outputs": [],
   "source": [
    "makers = []\n",
    "\n",
    "for index, row in carData.iterrows():\n",
    "    if '(' in row['Lot Title']:\n",
    "        makers.append(row['Lot Title'].split(' (')[0])\n",
    "    else:\n",
    "        makers.append(row['Lot Title'])"
   ]
  },
  {
   "cell_type": "code",
   "execution_count": 177,
   "metadata": {
    "collapsed": false
   },
   "outputs": [
    {
     "name": "stderr",
     "output_type": "stream",
     "text": [
      "/Users/gzhao/Library/Python/2.7/lib/python/site-packages/ipykernel/__main__.py:1: SettingWithCopyWarning: \n",
      "A value is trying to be set on a copy of a slice from a DataFrame.\n",
      "Try using .loc[row_indexer,col_indexer] = value instead\n",
      "\n",
      "See the caveats in the documentation: http://pandas.pydata.org/pandas-docs/stable/indexing.html#indexing-view-versus-copy\n",
      "  if __name__ == '__main__':\n",
      "/Users/gzhao/Library/Python/2.7/lib/python/site-packages/ipykernel/__main__.py:2: SettingWithCopyWarning: \n",
      "A value is trying to be set on a copy of a slice from a DataFrame.\n",
      "Try using .loc[row_indexer,col_indexer] = value instead\n",
      "\n",
      "See the caveats in the documentation: http://pandas.pydata.org/pandas-docs/stable/indexing.html#indexing-view-versus-copy\n",
      "  from ipykernel import kernelapp as app\n",
      "/Users/gzhao/Library/Python/2.7/lib/python/site-packages/ipykernel/__main__.py:3: SettingWithCopyWarning: \n",
      "A value is trying to be set on a copy of a slice from a DataFrame.\n",
      "Try using .loc[row_indexer,col_indexer] = value instead\n",
      "\n",
      "See the caveats in the documentation: http://pandas.pydata.org/pandas-docs/stable/indexing.html#indexing-view-versus-copy\n",
      "  app.launch_new_instance()\n"
     ]
    }
   ],
   "source": [
    "carData['Maker'] = makers\n",
    "carData['Creation_Date'] = ['' for x in range(len(carData))]\n",
    "carData['Size_Description'] = ['' for x in range(len(carData))]"
   ]
  },
  {
   "cell_type": "code",
   "execution_count": 187,
   "metadata": {
    "collapsed": false
   },
   "outputs": [],
   "source": [
    "carData.to_pickle('car.pkl')"
   ]
  },
  {
   "cell_type": "markdown",
   "metadata": {},
   "source": [
    "# Parse Musical Instruments Data"
   ]
  },
  {
   "cell_type": "code",
   "execution_count": 269,
   "metadata": {
    "collapsed": false
   },
   "outputs": [
    {
     "name": "stdout",
     "output_type": "stream",
     "text": [
      "[('Music', 384), ('Musical Instruments', 328)]\n"
     ]
    }
   ],
   "source": [
    "musicCate = category[category['Category'] == 'Musical instruments']\n",
    "musicData = nullMaker[nullMaker['Sale Name'].isin(list(musicCate['Sale Name']))]\n",
    "counter = collections.Counter(musicData['Sale Name'])\n",
    "print counter.most_common(10)"
   ]
  },
  {
   "cell_type": "code",
   "execution_count": 274,
   "metadata": {
    "collapsed": false
   },
   "outputs": [],
   "source": [
    "dataDict = OrderedDict()\n",
    "for x in counter.most_common(2):\n",
    "    dataDict[x[0]] = musicData[musicData['Sale Name'] == x[0]]"
   ]
  },
  {
   "cell_type": "code",
   "execution_count": 309,
   "metadata": {
    "collapsed": false
   },
   "outputs": [],
   "source": [
    "sizes = []\n",
    "makers = []\n",
    "\n",
    "for index, row in dataDict[dataDict.keys()[0]].iterrows():\n",
    "    if row['Lot Title'][0] == '#':\n",
    "        makers.append(row['Lot Title'][4:])\n",
    "    else:\n",
    "        makers.append(row['Lot Title'])\n",
    "    \n",
    "    try:\n",
    "        if ')' not in row['Lot Description'].split(\"\\n\")[2].split(',')[0]:\n",
    "            if hasNumbers(row['Lot Description'].split(\"\\n\")[2].split(',')[0]) and len(row['Lot Description'].split(\"\\n\")[2].split(',')[0].split(' ')) < 10:\n",
    "                sizes.append(row['Lot Description'].split(\"\\n\")[2].split(',')[0])\n",
    "            else:\n",
    "                sizes.append('')\n",
    "        else:\n",
    "            sizes.append('')\n",
    "    except:\n",
    "        sizes.append('')"
   ]
  },
  {
   "cell_type": "code",
   "execution_count": 310,
   "metadata": {
    "collapsed": false
   },
   "outputs": [
    {
     "name": "stdout",
     "output_type": "stream",
     "text": [
      "384 384 384\n"
     ]
    }
   ],
   "source": [
    "print len(sizes), len(makers), len(dataDict[dataDict.keys()[0]])"
   ]
  },
  {
   "cell_type": "code",
   "execution_count": 311,
   "metadata": {
    "collapsed": false
   },
   "outputs": [
    {
     "name": "stderr",
     "output_type": "stream",
     "text": [
      "/Users/gzhao/Library/Python/2.7/lib/python/site-packages/ipykernel/__main__.py:1: SettingWithCopyWarning: \n",
      "A value is trying to be set on a copy of a slice from a DataFrame.\n",
      "Try using .loc[row_indexer,col_indexer] = value instead\n",
      "\n",
      "See the caveats in the documentation: http://pandas.pydata.org/pandas-docs/stable/indexing.html#indexing-view-versus-copy\n",
      "  if __name__ == '__main__':\n",
      "/Users/gzhao/Library/Python/2.7/lib/python/site-packages/ipykernel/__main__.py:2: SettingWithCopyWarning: \n",
      "A value is trying to be set on a copy of a slice from a DataFrame.\n",
      "Try using .loc[row_indexer,col_indexer] = value instead\n",
      "\n",
      "See the caveats in the documentation: http://pandas.pydata.org/pandas-docs/stable/indexing.html#indexing-view-versus-copy\n",
      "  from ipykernel import kernelapp as app\n",
      "/Users/gzhao/Library/Python/2.7/lib/python/site-packages/ipykernel/__main__.py:3: SettingWithCopyWarning: \n",
      "A value is trying to be set on a copy of a slice from a DataFrame.\n",
      "Try using .loc[row_indexer,col_indexer] = value instead\n",
      "\n",
      "See the caveats in the documentation: http://pandas.pydata.org/pandas-docs/stable/indexing.html#indexing-view-versus-copy\n",
      "  app.launch_new_instance()\n"
     ]
    }
   ],
   "source": [
    "dataDict[dataDict.keys()[0]]['Maker'] = makers\n",
    "dataDict[dataDict.keys()[0]]['Size_Description'] = sizes\n",
    "dataDict[dataDict.keys()[0]]['Creation_Date'] = ['' for x in range(len(dataDict[dataDict.keys()[0]]))]"
   ]
  },
  {
   "cell_type": "code",
   "execution_count": 365,
   "metadata": {
    "collapsed": false
   },
   "outputs": [],
   "source": [
    "sizes = []\n",
    "makers = []\n",
    "years = []\n",
    "\n",
    "for index, row in dataDict[dataDict.keys()[1]].iterrows():\n",
    "    try:\n",
    "        if len(row['Lot Title'].title().split(',')[0].split('After', 1)[1].title().split('robably')) > 1:\n",
    "            makers.append(row['Lot Title'].title().split(',')[0].split('After', 1)[1].title().split('robably')[0][:-2])\n",
    "        else:\n",
    "            makers.append(row['Lot Title'].title().split(',')[0].split('After', 1)[1].title().replace('france', '').replace(' C.1780Italy', '').replace('italy', ''))\n",
    "    except:\n",
    "        makers.append('')\n",
    "    \n",
    "    try:\n",
    "        if hasNumbers(row['Lot Title'].title().split(',')[-1]):\n",
    "            years.append(row['Lot Title'].title().split(',')[-1])\n",
    "        else:\n",
    "            years.append('')\n",
    "    except:\n",
    "        years.append('') \n",
    "    \n",
    "    try:\n",
    "        if hasNumbers(row['Lot Description'].split(\"\\n\")[1]) and  row['Lot Description'].split(\"\\n\")[1][:8] != 'labelled':\n",
    "            sizes.append(row['Lot Description'].split(\"\\n\")[1])\n",
    "        else:\n",
    "            sizes.append('')\n",
    "    except:\n",
    "        sizes.append('')"
   ]
  },
  {
   "cell_type": "code",
   "execution_count": 366,
   "metadata": {
    "collapsed": false
   },
   "outputs": [
    {
     "name": "stdout",
     "output_type": "stream",
     "text": [
      "328 328 328 328\n"
     ]
    }
   ],
   "source": [
    "print len(sizes), len(years), len(makers), len(dataDict[dataDict.keys()[1]])"
   ]
  },
  {
   "cell_type": "code",
   "execution_count": 367,
   "metadata": {
    "collapsed": false
   },
   "outputs": [
    {
     "name": "stderr",
     "output_type": "stream",
     "text": [
      "/Users/gzhao/Library/Python/2.7/lib/python/site-packages/ipykernel/__main__.py:1: SettingWithCopyWarning: \n",
      "A value is trying to be set on a copy of a slice from a DataFrame.\n",
      "Try using .loc[row_indexer,col_indexer] = value instead\n",
      "\n",
      "See the caveats in the documentation: http://pandas.pydata.org/pandas-docs/stable/indexing.html#indexing-view-versus-copy\n",
      "  if __name__ == '__main__':\n",
      "/Users/gzhao/Library/Python/2.7/lib/python/site-packages/ipykernel/__main__.py:2: SettingWithCopyWarning: \n",
      "A value is trying to be set on a copy of a slice from a DataFrame.\n",
      "Try using .loc[row_indexer,col_indexer] = value instead\n",
      "\n",
      "See the caveats in the documentation: http://pandas.pydata.org/pandas-docs/stable/indexing.html#indexing-view-versus-copy\n",
      "  from ipykernel import kernelapp as app\n",
      "/Users/gzhao/Library/Python/2.7/lib/python/site-packages/ipykernel/__main__.py:3: SettingWithCopyWarning: \n",
      "A value is trying to be set on a copy of a slice from a DataFrame.\n",
      "Try using .loc[row_indexer,col_indexer] = value instead\n",
      "\n",
      "See the caveats in the documentation: http://pandas.pydata.org/pandas-docs/stable/indexing.html#indexing-view-versus-copy\n",
      "  app.launch_new_instance()\n"
     ]
    }
   ],
   "source": [
    "dataDict[dataDict.keys()[1]]['Maker'] = makers\n",
    "dataDict[dataDict.keys()[1]]['Size_Description'] = sizes\n",
    "dataDict[dataDict.keys()[1]]['Creation_Date'] = years"
   ]
  },
  {
   "cell_type": "code",
   "execution_count": 370,
   "metadata": {
    "collapsed": false
   },
   "outputs": [],
   "source": [
    "musicData = dataDict[dataDict.keys()[0]].append(dataDict[dataDict.keys()[1]], ignore_index = True)"
   ]
  },
  {
   "cell_type": "code",
   "execution_count": 369,
   "metadata": {
    "collapsed": true
   },
   "outputs": [],
   "source": [
    "musicData.to_pickle('music.pkl')"
   ]
  },
  {
   "cell_type": "markdown",
   "metadata": {},
   "source": [
    "# Parse Jewelry Data"
   ]
  },
  {
   "cell_type": "code",
   "execution_count": 11,
   "metadata": {
    "collapsed": false
   },
   "outputs": [
    {
     "name": "stdout",
     "output_type": "stream",
     "text": [
      "[('Magnificent Jewels', 6556), ('Important Jewels', 5077), ('Fine Jewels', 4123), ('Jewels', 2955), ('Magnificent Jewels and Jadeite', 2600), ('Magnificent Jewels and Noble Jewels', 2018), ('Arcade Jewels', 1744), ('Magnificent Jewels & Jadeite', 985), ('Fine Jewellery', 602), ('Jewellery, European Decorative Arts and Asian Art', 544)]\n"
     ]
    }
   ],
   "source": [
    "jewCate = category[category['Category'] == 'Jewelry']\n",
    "jewData = nullMaker[nullMaker['Sale Name'].isin(list(jewCate['Sale Name']))]\n",
    "counter = collections.Counter(jewData['Sale Name'])\n",
    "print counter.most_common(10)"
   ]
  },
  {
   "cell_type": "code",
   "execution_count": 12,
   "metadata": {
    "collapsed": false
   },
   "outputs": [],
   "source": [
    "dataDict = OrderedDict()\n",
    "for x in counter.most_common(10):\n",
    "    dataDict[x[0]] = jewData[jewData['Sale Name'] == x[0]]"
   ]
  },
  {
   "cell_type": "code",
   "execution_count": 57,
   "metadata": {
    "collapsed": false
   },
   "outputs": [],
   "source": [
    "makers = []\n",
    "years = []\n",
    "sizes = []\n",
    "\n",
    "for index, row in dataDict[dataDict.keys()[0]].iterrows():\n",
    "    try:\n",
    "        if hasNumbers(row['Lot Title'].split(',')[-1]) and len(row['Lot Title'].split(','))> 1:\n",
    "            if 'Circa' in row['Lot Title'].split(',')[-1].title():\n",
    "                term = 'Circa' + row['Lot Title'].split(',')[-1].title().split('Circa', 1)[1]\n",
    "                if 'And' in term:\n",
    "                    years.append(term.split('And', 1)[0])\n",
    "                elif 'With' in term:\n",
    "                    years.append(term.split('With', 1)[0])\n",
    "                elif 'Arpels' in term:\n",
    "                    years.append(term.split('Arpels', 1)[1])\n",
    "                else:\n",
    "                    years.append(term)\n",
    "            else:\n",
    "                if 'Gold' not in row['Lot Title'].split(',')[-1].split('and')[0]:\n",
    "                    if 'Arpels' in row['Lot Title'].split(',')[-1].split('and')[0]:\n",
    "                        years.append(row['Lot Title'].split(',')[-1].split('and')[0].split('Arpels', 1)[1])\n",
    "                    else:\n",
    "                        years.append(row['Lot Title'].split(',')[-1].split('and')[0])   \n",
    "                else:\n",
    "                    years.append('')\n",
    "            makers.append('')\n",
    "        else:\n",
    "            if not hasNumbers(row['Lot Title'].split(',')[-1]) and len(row['Lot Title'].split(',')) > 1 and 'and' not in row['Lot Title'].split(',')[-1]:\n",
    "                if 'mounted' in  row['Lot Title'].split(',')[-1].lower():\n",
    "                    makers.append(row['Lot Title'].split(',')[-1].title().split('Mounted By ', 1)[1])\n",
    "                else:\n",
    "                    makers.append(row['Lot Title'].split(', ')[-1])\n",
    "            else:\n",
    "                makers.append('')\n",
    "            years.append('')\n",
    "    except:\n",
    "        years.append('')\n",
    "        makers.append('')\n",
    "    try:\n",
    "        if hasNumbers(row['Lot Description'].split(\"\\n\")[-1]) and len(row['Lot Description'].split(\"\\n\")[-1].split(' ')) < 15:\n",
    "            if len(row['Lot Description'].split(\"\\n\")[-1].split(',')) > 1 and not hasNumbers(row['Lot Description'].split(\"\\n\")[-1].split(',')[1]):\n",
    "                sizes.append(row['Lot Description'].split(\"\\n\")[-1].split(',')[0])\n",
    "            else:\n",
    "                sizes.append(row['Lot Description'].split(\"\\n\")[-1])\n",
    "        else:\n",
    "            sizes.append('')\n",
    "    except:\n",
    "        sizes.append('')\n",
    "#    print row['Notes']"
   ]
  },
  {
   "cell_type": "code",
   "execution_count": 47,
   "metadata": {
    "collapsed": false
   },
   "outputs": [
    {
     "data": {
      "text/plain": [
       "(6556, 6556, 6556, 6556)"
      ]
     },
     "execution_count": 47,
     "metadata": {},
     "output_type": "execute_result"
    }
   ],
   "source": [
    "len(dataDict[dataDict.keys()[0]]), len(makers), len(sizes), len(years)"
   ]
  },
  {
   "cell_type": "code",
   "execution_count": 48,
   "metadata": {
    "collapsed": false
   },
   "outputs": [
    {
     "name": "stderr",
     "output_type": "stream",
     "text": [
      "/Users/gzhao/Library/Python/2.7/lib/python/site-packages/ipykernel/__main__.py:1: SettingWithCopyWarning: \n",
      "A value is trying to be set on a copy of a slice from a DataFrame.\n",
      "Try using .loc[row_indexer,col_indexer] = value instead\n",
      "\n",
      "See the caveats in the documentation: http://pandas.pydata.org/pandas-docs/stable/indexing.html#indexing-view-versus-copy\n",
      "  if __name__ == '__main__':\n",
      "/Users/gzhao/Library/Python/2.7/lib/python/site-packages/ipykernel/__main__.py:2: SettingWithCopyWarning: \n",
      "A value is trying to be set on a copy of a slice from a DataFrame.\n",
      "Try using .loc[row_indexer,col_indexer] = value instead\n",
      "\n",
      "See the caveats in the documentation: http://pandas.pydata.org/pandas-docs/stable/indexing.html#indexing-view-versus-copy\n",
      "  from ipykernel import kernelapp as app\n",
      "/Users/gzhao/Library/Python/2.7/lib/python/site-packages/ipykernel/__main__.py:3: SettingWithCopyWarning: \n",
      "A value is trying to be set on a copy of a slice from a DataFrame.\n",
      "Try using .loc[row_indexer,col_indexer] = value instead\n",
      "\n",
      "See the caveats in the documentation: http://pandas.pydata.org/pandas-docs/stable/indexing.html#indexing-view-versus-copy\n",
      "  app.launch_new_instance()\n"
     ]
    }
   ],
   "source": [
    "dataDict[dataDict.keys()[0]]['Maker'] = makers\n",
    "dataDict[dataDict.keys()[0]]['Size_Description'] = sizes\n",
    "dataDict[dataDict.keys()[0]]['Creation_Date'] = years"
   ]
  },
  {
   "cell_type": "code",
   "execution_count": 105,
   "metadata": {
    "collapsed": false
   },
   "outputs": [],
   "source": [
    "counter = collections.Counter(jewData['Maker'])\n",
    "print counter"
   ]
  },
  {
   "cell_type": "code",
   "execution_count": 53,
   "metadata": {
    "collapsed": false
   },
   "outputs": [
    {
     "name": "stderr",
     "output_type": "stream",
     "text": [
      "/Users/gzhao/Library/Python/2.7/lib/python/site-packages/ipykernel/__main__.py:5: SettingWithCopyWarning: \n",
      "A value is trying to be set on a copy of a slice from a DataFrame.\n",
      "Try using .loc[row_indexer,col_indexer] = value instead\n",
      "\n",
      "See the caveats in the documentation: http://pandas.pydata.org/pandas-docs/stable/indexing.html#indexing-view-versus-copy\n",
      "/usr/local/lib/python2.7/site-packages/pandas/core/frame.py:2363: SettingWithCopyWarning: \n",
      "A value is trying to be set on a copy of a slice from a DataFrame\n",
      "\n",
      "See the caveats in the documentation: http://pandas.pydata.org/pandas-docs/stable/indexing.html#indexing-view-versus-copy\n",
      "  self.ix._setitem_with_indexer(indexer, value)\n",
      "/usr/local/lib/python2.7/site-packages/pandas/core/frame.py:2343: SettingWithCopyWarning: \n",
      "A value is trying to be set on a copy of a slice from a DataFrame\n",
      "\n",
      "See the caveats in the documentation: http://pandas.pydata.org/pandas-docs/stable/indexing.html#indexing-view-versus-copy\n",
      "  self._setitem_array(key, value)\n"
     ]
    }
   ],
   "source": [
    "dataDict[dataDict.keys()[0]][dataDict[dataDict.keys()[0]]['Maker'].isin(['France', 'Paris', 'New York', 'French', \n",
    "            'Italy',\n",
    "            'Qing Dynasty', 'Russian', 'London', 'Late 19th century,', 'Diamond necklace combination', \n",
    "            'SAPPHIRE AND DIAMOND NECKLACE', 'Sapphire and diamond bracelet,', 'late 19th century,',\n",
    "            'Rome', 'Ruby and Diamond Brooch-Bracelet Combination,', 'With Interchangeable Pendants',\n",
    "            'sapphire and diamond lariat,', 'one pearl cultured', 'Austria'])] = ''"
   ]
  },
  {
   "cell_type": "code",
   "execution_count": 95,
   "metadata": {
    "collapsed": true
   },
   "outputs": [],
   "source": [
    "for index, row in dataDict[dataDict.keys()[0]].iterrows():\n",
    "    row['Maker'].replace('monture ', '')"
   ]
  },
  {
   "cell_type": "code",
   "execution_count": 88,
   "metadata": {
    "collapsed": false
   },
   "outputs": [],
   "source": [
    "makers = []\n",
    "years = []\n",
    "sizes = []\n",
    "\n",
    "for index, row in jewData.iterrows():\n",
    "    try:\n",
    "        if hasNumbers(row['Lot Title'].split(',')[-1]) and len(row['Lot Title'].split(','))> 1:\n",
    "            if 'Circa' in row['Lot Title'].split(',')[-1].title():\n",
    "                term = 'Circa' + row['Lot Title'].split(',')[-1].title().split('Circa', 1)[1]\n",
    "                if 'And' in term:\n",
    "                    years.append(term.split('And ', 1)[0])\n",
    "                elif 'With' in term:\n",
    "                    years.append(term.split('With ', 1)[0])\n",
    "                elif 'Arpels' in term:\n",
    "                    years.append(term.split('Arpels ', 1)[1])\n",
    "                else:\n",
    "                    years.append(term)\n",
    "            else:\n",
    "                term = row['Lot Title'].split(',')[-1].title().split('And ')[0]\n",
    "                if 'Gold' not in term:\n",
    "                    if 'Arpels' in term:\n",
    "                        years.append(term.split('Arpels', 1)[1])\n",
    "                    else:\n",
    "                        years.append(term)\n",
    "                else:\n",
    "                    years.append('')\n",
    "            makers.append('')\n",
    "        else:\n",
    "            if not hasNumbers(row['Lot Title'].split(',')[-1]) and len(row['Lot Title'].split(',')) > 1 and 'And' not in row['Lot Title'].split(',')[-1].title():\n",
    "                if 'mounted' in  row['Lot Title'].split(',')[-1].lower():\n",
    "                    makers.append(row['Lot Title'].split(',')[-1].title().split('Mounted By ', 1)[1])\n",
    "                else:\n",
    "                    makers.append(row['Lot Title'].split(', ')[-1].title())\n",
    "            else:\n",
    "                makers.append('')\n",
    "            years.append('')\n",
    "    except:\n",
    "        years.append('')\n",
    "        makers.append('')\n",
    "    try:\n",
    "        if hasNumbers(row['Lot Description'].split(\"\\n\")[-1]) and len(row['Lot Description'].split(\"\\n\")[-1].split(' ')) < 15 and '(' not in row['Lot Description'].split(\"\\n\")[-1]:\n",
    "            if len(row['Lot Description'].split(\"\\n\")[-1].split(',')) == 1:\n",
    "                sizes.append(row['Lot Description'].split(\"\\n\")[-1].title())\n",
    "            else:\n",
    "                term = []\n",
    "                for x in row['Lot Description'].split(\"\\n\")[-1].split(','):\n",
    "                    if hasNumbers(x):\n",
    "                        term.append(x.title())\n",
    "                sizes.append(', '.join(term))\n",
    "        else:\n",
    "            sizes.append('')\n",
    "    except:\n",
    "        sizes.append('')\n",
    "#    print row['Notes']"
   ]
  },
  {
   "cell_type": "code",
   "execution_count": 89,
   "metadata": {
    "collapsed": false
   },
   "outputs": [
    {
     "name": "stdout",
     "output_type": "stream",
     "text": [
      "31482 31482 31482 31482\n"
     ]
    }
   ],
   "source": [
    "print len(jewData), len(years), len(makers), len(sizes)"
   ]
  },
  {
   "cell_type": "code",
   "execution_count": 97,
   "metadata": {
    "collapsed": false
   },
   "outputs": [
    {
     "name": "stderr",
     "output_type": "stream",
     "text": [
      "/Users/gzhao/Library/Python/2.7/lib/python/site-packages/ipykernel/__main__.py:1: SettingWithCopyWarning: \n",
      "A value is trying to be set on a copy of a slice from a DataFrame.\n",
      "Try using .loc[row_indexer,col_indexer] = value instead\n",
      "\n",
      "See the caveats in the documentation: http://pandas.pydata.org/pandas-docs/stable/indexing.html#indexing-view-versus-copy\n",
      "  if __name__ == '__main__':\n",
      "/Users/gzhao/Library/Python/2.7/lib/python/site-packages/ipykernel/__main__.py:2: SettingWithCopyWarning: \n",
      "A value is trying to be set on a copy of a slice from a DataFrame.\n",
      "Try using .loc[row_indexer,col_indexer] = value instead\n",
      "\n",
      "See the caveats in the documentation: http://pandas.pydata.org/pandas-docs/stable/indexing.html#indexing-view-versus-copy\n",
      "  from ipykernel import kernelapp as app\n",
      "/Users/gzhao/Library/Python/2.7/lib/python/site-packages/ipykernel/__main__.py:3: SettingWithCopyWarning: \n",
      "A value is trying to be set on a copy of a slice from a DataFrame.\n",
      "Try using .loc[row_indexer,col_indexer] = value instead\n",
      "\n",
      "See the caveats in the documentation: http://pandas.pydata.org/pandas-docs/stable/indexing.html#indexing-view-versus-copy\n",
      "  app.launch_new_instance()\n"
     ]
    }
   ],
   "source": [
    "jewData['Maker'] = makers\n",
    "jewData['Size_Description'] = sizes\n",
    "jewData['Creation_Date'] = years"
   ]
  },
  {
   "cell_type": "code",
   "execution_count": 106,
   "metadata": {
    "collapsed": true
   },
   "outputs": [],
   "source": [
    "jewData.to_pickle('jewelry.pkl')"
   ]
  },
  {
   "cell_type": "markdown",
   "metadata": {},
   "source": [
    "# Parse Stamps Data"
   ]
  },
  {
   "cell_type": "code",
   "execution_count": 187,
   "metadata": {
    "collapsed": false
   },
   "outputs": [
    {
     "name": "stdout",
     "output_type": "stream",
     "text": [
      "[('The Great Britain Philatelic Collections of Lady Mairi Bury, FRPSL', 1833), ('The David Barton Stamp Collection', 491)]\n"
     ]
    }
   ],
   "source": [
    "stampCate = category[category['Category'] == 'Stamps']\n",
    "stampData = nullMaker[nullMaker['Sale Name'].isin(list(stampCate['Sale Name']))]\n",
    "counter = collections.Counter(stampData['Sale Name'])\n",
    "print counter.most_common(10)"
   ]
  },
  {
   "cell_type": "code",
   "execution_count": 188,
   "metadata": {
    "collapsed": true
   },
   "outputs": [],
   "source": [
    "dataDict = OrderedDict()\n",
    "for x in counter.most_common(10):\n",
    "    dataDict[x[0]] = stampData[stampData['Sale Name'] == x[0]]"
   ]
  },
  {
   "cell_type": "code",
   "execution_count": 189,
   "metadata": {
    "collapsed": false
   },
   "outputs": [],
   "source": [
    "makers = []\n",
    "years = []\n",
    "sizes = []\n",
    "\n",
    "for index, row in stampData.iterrows():\n",
    "    try:\n",
    "        years.append(int(row['Lot Title'][:4]))\n",
    "    except:\n",
    "        years.append('')"
   ]
  },
  {
   "cell_type": "code",
   "execution_count": 191,
   "metadata": {
    "collapsed": false
   },
   "outputs": [
    {
     "name": "stdout",
     "output_type": "stream",
     "text": [
      "2324 2324\n"
     ]
    },
    {
     "name": "stderr",
     "output_type": "stream",
     "text": [
      "/Users/gzhao/Library/Python/2.7/lib/python/site-packages/ipykernel/__main__.py:2: SettingWithCopyWarning: \n",
      "A value is trying to be set on a copy of a slice from a DataFrame.\n",
      "Try using .loc[row_indexer,col_indexer] = value instead\n",
      "\n",
      "See the caveats in the documentation: http://pandas.pydata.org/pandas-docs/stable/indexing.html#indexing-view-versus-copy\n",
      "  from ipykernel import kernelapp as app\n",
      "/Users/gzhao/Library/Python/2.7/lib/python/site-packages/ipykernel/__main__.py:3: SettingWithCopyWarning: \n",
      "A value is trying to be set on a copy of a slice from a DataFrame.\n",
      "Try using .loc[row_indexer,col_indexer] = value instead\n",
      "\n",
      "See the caveats in the documentation: http://pandas.pydata.org/pandas-docs/stable/indexing.html#indexing-view-versus-copy\n",
      "  app.launch_new_instance()\n",
      "/Users/gzhao/Library/Python/2.7/lib/python/site-packages/ipykernel/__main__.py:4: SettingWithCopyWarning: \n",
      "A value is trying to be set on a copy of a slice from a DataFrame.\n",
      "Try using .loc[row_indexer,col_indexer] = value instead\n",
      "\n",
      "See the caveats in the documentation: http://pandas.pydata.org/pandas-docs/stable/indexing.html#indexing-view-versus-copy\n"
     ]
    }
   ],
   "source": [
    "print len(years), len(stampData)\n",
    "stampData['Maker'] = ['' for x in range(len(stampData))]\n",
    "stampData['Size_Description'] = ['' for x in range(len(stampData))]\n",
    "stampData['Creation_Date'] = years\n",
    "\n",
    "stampData.to_pickle('stamp.pkl')"
   ]
  },
  {
   "cell_type": "markdown",
   "metadata": {},
   "source": [
    "# Parse Books & Manuscripts Data"
   ]
  },
  {
   "cell_type": "code",
   "execution_count": 207,
   "metadata": {
    "collapsed": false
   },
   "outputs": [
    {
     "name": "stdout",
     "output_type": "stream",
     "text": [
      "[('Travel, Atlases, Maps & Natural History', 1503), (\"English Literature, History, Children's Books & Illustrations\", 900), ('Fine Books and Manuscripts', 728), ('The Library of the Earls of Macclesfield Removed from Shirburn Castle, Part Eight:  Theology, Philosophy, Law, and Economics', 621), ('Natural History, Travel, Atlases & Maps', 615), ('Music and Continental Books & Manuscripts', 604), (\"English Literature, History, Children's Books and Illustrations\", 535), ('The Library of the Earls of Macclesfield Removed from Shirburn Castle. Part Twelve: Continental Books and Manuscripts', 530), ('Fine Books and Manuscripts, Including Americana', 475), ('Travel, Atlases, Maps and Natural History', 397)]\n"
     ]
    }
   ],
   "source": [
    "bookCate = category[category['Category'] == 'Books & Manuscripts']\n",
    "bookData = nullMaker[nullMaker['Sale Name'].isin(list(bookCate['Sale Name']))]\n",
    "counter = collections.Counter(bookData['Sale Name'])\n",
    "print counter.most_common(10)"
   ]
  },
  {
   "cell_type": "code",
   "execution_count": 208,
   "metadata": {
    "collapsed": true
   },
   "outputs": [],
   "source": [
    "dataDict = OrderedDict()\n",
    "for x in counter.most_common(10):\n",
    "    dataDict[x[0]] = bookData[bookData['Sale Name'] == x[0]]"
   ]
  },
  {
   "cell_type": "code",
   "execution_count": 168,
   "metadata": {
    "collapsed": false
   },
   "outputs": [],
   "source": [
    "makers = []\n",
    "years = []\n",
    "sizes = []\n",
    "\n",
    "for index, row in dataDict[dataDict.keys()[0]].iterrows():\n",
    "    \n",
    "    if '--' in row['Lot Title']:\n",
    "        makers.append(row['Lot Title'].split('--')[1].replace('[', '').replace(']', ''))\n",
    "    else:\n",
    "        if 'collection' not in row['Lot Title'] and 'Playing Cards' not in row['Lot Title'] and 'China' not in row['Lot Title']:\n",
    "            makers.append(row['Lot Title'].replace('[', '').replace(']', ''))\n",
    "        else:\n",
    "            makers.append('')\n",
    "    \n",
    "    term = []\n",
    "    count = 0\n",
    "    try:\n",
    "        for x in row['Lot Description'].split(','):\n",
    "            if count < 2 and hasNumbers(x) and ('mm' in x or 'volume' in x):\n",
    "                term.append(x)\n",
    "                count += 1\n",
    "            elif count == 2:\n",
    "                break\n",
    "            else:\n",
    "                count += 1               \n",
    "        sizes.append(','.join(term))\n",
    "    except:\n",
    "        sizes.append('')"
   ]
  },
  {
   "cell_type": "code",
   "execution_count": 170,
   "metadata": {
    "collapsed": false
   },
   "outputs": [
    {
     "name": "stdout",
     "output_type": "stream",
     "text": [
      "1503 1503 1503\n"
     ]
    },
    {
     "name": "stderr",
     "output_type": "stream",
     "text": [
      "/Users/gzhao/Library/Python/2.7/lib/python/site-packages/ipykernel/__main__.py:3: SettingWithCopyWarning: \n",
      "A value is trying to be set on a copy of a slice from a DataFrame.\n",
      "Try using .loc[row_indexer,col_indexer] = value instead\n",
      "\n",
      "See the caveats in the documentation: http://pandas.pydata.org/pandas-docs/stable/indexing.html#indexing-view-versus-copy\n",
      "  app.launch_new_instance()\n",
      "/Users/gzhao/Library/Python/2.7/lib/python/site-packages/ipykernel/__main__.py:4: SettingWithCopyWarning: \n",
      "A value is trying to be set on a copy of a slice from a DataFrame.\n",
      "Try using .loc[row_indexer,col_indexer] = value instead\n",
      "\n",
      "See the caveats in the documentation: http://pandas.pydata.org/pandas-docs/stable/indexing.html#indexing-view-versus-copy\n",
      "/Users/gzhao/Library/Python/2.7/lib/python/site-packages/ipykernel/__main__.py:5: SettingWithCopyWarning: \n",
      "A value is trying to be set on a copy of a slice from a DataFrame.\n",
      "Try using .loc[row_indexer,col_indexer] = value instead\n",
      "\n",
      "See the caveats in the documentation: http://pandas.pydata.org/pandas-docs/stable/indexing.html#indexing-view-versus-copy\n"
     ]
    }
   ],
   "source": [
    "print len(dataDict[dataDict.keys()[0]]), len(sizes), len(makers)\n",
    "\n",
    "dataDict[dataDict.keys()[0]]['Maker'] = makers\n",
    "dataDict[dataDict.keys()[0]]['Size_Description'] = sizes\n",
    "dataDict[dataDict.keys()[0]]['Creation_Date'] = ['' for x in range(len(dataDict[dataDict.keys()[0]]))]"
   ]
  },
  {
   "cell_type": "code",
   "execution_count": 237,
   "metadata": {
    "collapsed": false
   },
   "outputs": [],
   "source": [
    "makers = []\n",
    "years = []\n",
    "sizes = []\n",
    "\n",
    "for index, row in dataDict[dataDict.keys()[1]].iterrows():\n",
    "    \n",
    "    try:\n",
    "        makers.append(row['Lot Title'].replace('# - ', '').replace('[', '').replace(']', '').replace('--', ' '))\n",
    "    except:\n",
    "        makers.append(row['Lot Title'])\n",
    "    try:\n",
    "        if hasNumbers(row['Lot Description'].split(',')[0]) and len(row['Lot Description'].split(',')[0].split(' ')) < 15:\n",
    "            sizes.append(row['Lot Description'].split(',')[0])\n",
    "        else:\n",
    "            sizes.append('')\n",
    "    except:\n",
    "        sizes.append('')  "
   ]
  },
  {
   "cell_type": "code",
   "execution_count": 238,
   "metadata": {
    "collapsed": false
   },
   "outputs": [
    {
     "name": "stdout",
     "output_type": "stream",
     "text": [
      "900 900 900\n"
     ]
    },
    {
     "name": "stderr",
     "output_type": "stream",
     "text": [
      "/Users/gzhao/Library/Python/2.7/lib/python/site-packages/ipykernel/__main__.py:3: SettingWithCopyWarning: \n",
      "A value is trying to be set on a copy of a slice from a DataFrame.\n",
      "Try using .loc[row_indexer,col_indexer] = value instead\n",
      "\n",
      "See the caveats in the documentation: http://pandas.pydata.org/pandas-docs/stable/indexing.html#indexing-view-versus-copy\n",
      "  app.launch_new_instance()\n",
      "/Users/gzhao/Library/Python/2.7/lib/python/site-packages/ipykernel/__main__.py:4: SettingWithCopyWarning: \n",
      "A value is trying to be set on a copy of a slice from a DataFrame.\n",
      "Try using .loc[row_indexer,col_indexer] = value instead\n",
      "\n",
      "See the caveats in the documentation: http://pandas.pydata.org/pandas-docs/stable/indexing.html#indexing-view-versus-copy\n",
      "/Users/gzhao/Library/Python/2.7/lib/python/site-packages/ipykernel/__main__.py:5: SettingWithCopyWarning: \n",
      "A value is trying to be set on a copy of a slice from a DataFrame.\n",
      "Try using .loc[row_indexer,col_indexer] = value instead\n",
      "\n",
      "See the caveats in the documentation: http://pandas.pydata.org/pandas-docs/stable/indexing.html#indexing-view-versus-copy\n"
     ]
    }
   ],
   "source": [
    "print len(dataDict[dataDict.keys()[1]]), len(sizes), len(makers)\n",
    "\n",
    "dataDict[dataDict.keys()[1]]['Maker'] = makers\n",
    "dataDict[dataDict.keys()[1]]['Size_Description'] = sizes\n",
    "dataDict[dataDict.keys()[1]]['Creation_Date'] = ['' for x in range(len(dataDict[dataDict.keys()[1]]))]"
   ]
  },
  {
   "cell_type": "code",
   "execution_count": 231,
   "metadata": {
    "collapsed": false
   },
   "outputs": [],
   "source": [
    "makers = []\n",
    "years = []\n",
    "sizes = []\n",
    "\n",
    "for index, row in dataDict[dataDict.keys()[2]].iterrows():\n",
    "\n",
    "    try:\n",
    "        makers.append(row['Lot Title'].replace('# - ', '').replace('[', '').replace(']', '').replace('--', ' ').replace('(', ' ').replace(')', ' ').replace('-', ' '))\n",
    "    except:\n",
    "        makers.append(row['Lot Title'])\n",
    "\n",
    "    try:\n",
    "        if hasNumbers(row['Lot Description'].split('.')[0]) and len(row['Lot Description'].split('.')[0].split(' ')) < 15:\n",
    "            if 'page' in row['Lot Description'].split('.')[0].split(',')[1]:\n",
    "                sizes.append(row['Lot Description'].split('.')[0].split(',')[1].replace('\" ', ''))\n",
    "            else:\n",
    "                sizes.append('')\n",
    "        else:\n",
    "            sizes.append('')\n",
    "    except:\n",
    "        sizes.append('')  "
   ]
  },
  {
   "cell_type": "code",
   "execution_count": 205,
   "metadata": {
    "collapsed": false
   },
   "outputs": [
    {
     "name": "stdout",
     "output_type": "stream",
     "text": [
      "0.691027596727\n"
     ]
    }
   ],
   "source": [
    "total = 0\n",
    "for x in counter.most_common(20):\n",
    "    total += x[1]\n",
    "print total/float(len(bookData))"
   ]
  },
  {
   "cell_type": "code",
   "execution_count": 232,
   "metadata": {
    "collapsed": false
   },
   "outputs": [
    {
     "name": "stdout",
     "output_type": "stream",
     "text": [
      "728 728 728\n"
     ]
    }
   ],
   "source": [
    "print len(dataDict[dataDict.keys()[2]]), len(makers), len(sizes)"
   ]
  },
  {
   "cell_type": "code",
   "execution_count": 233,
   "metadata": {
    "collapsed": false
   },
   "outputs": [
    {
     "name": "stderr",
     "output_type": "stream",
     "text": [
      "/Users/gzhao/Library/Python/2.7/lib/python/site-packages/ipykernel/__main__.py:1: SettingWithCopyWarning: \n",
      "A value is trying to be set on a copy of a slice from a DataFrame.\n",
      "Try using .loc[row_indexer,col_indexer] = value instead\n",
      "\n",
      "See the caveats in the documentation: http://pandas.pydata.org/pandas-docs/stable/indexing.html#indexing-view-versus-copy\n",
      "  if __name__ == '__main__':\n",
      "/Users/gzhao/Library/Python/2.7/lib/python/site-packages/ipykernel/__main__.py:2: SettingWithCopyWarning: \n",
      "A value is trying to be set on a copy of a slice from a DataFrame.\n",
      "Try using .loc[row_indexer,col_indexer] = value instead\n",
      "\n",
      "See the caveats in the documentation: http://pandas.pydata.org/pandas-docs/stable/indexing.html#indexing-view-versus-copy\n",
      "  from ipykernel import kernelapp as app\n",
      "/Users/gzhao/Library/Python/2.7/lib/python/site-packages/ipykernel/__main__.py:3: SettingWithCopyWarning: \n",
      "A value is trying to be set on a copy of a slice from a DataFrame.\n",
      "Try using .loc[row_indexer,col_indexer] = value instead\n",
      "\n",
      "See the caveats in the documentation: http://pandas.pydata.org/pandas-docs/stable/indexing.html#indexing-view-versus-copy\n",
      "  app.launch_new_instance()\n"
     ]
    }
   ],
   "source": [
    "dataDict[dataDict.keys()[2]]['Maker'] = makers\n",
    "dataDict[dataDict.keys()[2]]['Size_Description'] = sizes\n",
    "dataDict[dataDict.keys()[2]]['Creation_Date'] = ['' for x in range(len(dataDict[dataDict.keys()[2]]))]"
   ]
  },
  {
   "cell_type": "code",
   "execution_count": 275,
   "metadata": {
    "collapsed": false
   },
   "outputs": [],
   "source": [
    "makers = []\n",
    "\n",
    "for index, row in bookData.iterrows():\n",
    "    try:\n",
    "        if len(row['Lot Title'].split(' ')) < 15 and 'vellum' not in row['Lot Title'] and 'paper' not in row['Lot Title']:\n",
    "            if ' (' in row['Lot Title']:\n",
    "                try:\n",
    "                    makers.append(row['Lot Title'].split(' (')[0].replace('[', '').replace('(', '').replace(')', '').replace(']', '').split('--')[1].replace('# - ', '').replace(' - ', '').replace('# ', ''))\n",
    "                except:\n",
    "                    makers.append(row['Lot Title'].split(' (')[0].replace('[', '').replace('(', '').replace(')', '').replace(']', '').replace('# - ', '').replace(' - ', '').replace('# ', ''))\n",
    "            else:\n",
    "                try:\n",
    "                    makers.append(row['Lot Title'].replace('[', '').replace(']', '').replace('(', '').replace(')', '').split('--')[1].replace('# - ', '').replace(' - ', '').replace('# ', ''))\n",
    "                except:\n",
    "                    makers.append(row['Lot Title'].replace('[', '').replace(']', '').replace('(', '').replace(')', '').replace('# - ', '').replace(' - ', '').replace('# ', ''))\n",
    "        else:\n",
    "            makers.append('')\n",
    "    except:\n",
    "        makers.append(row['Lot Title'])\n",
    "    try:    \n",
    "        if hasNumbers(row['Lot Description'].split(',')[0]) and len(row['Lot Description'].split(',')[0].split(' ')) < 15:\n",
    "            sizes.append(row['Lot Description'].split(',')[0])\n",
    "        else:\n",
    "            sizes.append('')\n",
    "    except:\n",
    "        sizes.append('')\n",
    "        \n",
    "        "
   ]
  },
  {
   "cell_type": "code",
   "execution_count": 276,
   "metadata": {
    "collapsed": false
   },
   "outputs": [
    {
     "name": "stdout",
     "output_type": "stream",
     "text": [
      "14422 14422 14422\n"
     ]
    }
   ],
   "source": [
    "print len(makers), len(bookData), len(sizes)"
   ]
  },
  {
   "cell_type": "code",
   "execution_count": 277,
   "metadata": {
    "collapsed": false
   },
   "outputs": [
    {
     "name": "stderr",
     "output_type": "stream",
     "text": [
      "/Users/gzhao/Library/Python/2.7/lib/python/site-packages/ipykernel/__main__.py:1: SettingWithCopyWarning: \n",
      "A value is trying to be set on a copy of a slice from a DataFrame.\n",
      "Try using .loc[row_indexer,col_indexer] = value instead\n",
      "\n",
      "See the caveats in the documentation: http://pandas.pydata.org/pandas-docs/stable/indexing.html#indexing-view-versus-copy\n",
      "  if __name__ == '__main__':\n",
      "/Users/gzhao/Library/Python/2.7/lib/python/site-packages/ipykernel/__main__.py:2: SettingWithCopyWarning: \n",
      "A value is trying to be set on a copy of a slice from a DataFrame.\n",
      "Try using .loc[row_indexer,col_indexer] = value instead\n",
      "\n",
      "See the caveats in the documentation: http://pandas.pydata.org/pandas-docs/stable/indexing.html#indexing-view-versus-copy\n",
      "  from ipykernel import kernelapp as app\n",
      "/Users/gzhao/Library/Python/2.7/lib/python/site-packages/ipykernel/__main__.py:3: SettingWithCopyWarning: \n",
      "A value is trying to be set on a copy of a slice from a DataFrame.\n",
      "Try using .loc[row_indexer,col_indexer] = value instead\n",
      "\n",
      "See the caveats in the documentation: http://pandas.pydata.org/pandas-docs/stable/indexing.html#indexing-view-versus-copy\n",
      "  app.launch_new_instance()\n"
     ]
    }
   ],
   "source": [
    "bookData['Maker'] = makers\n",
    "bookData['Size_Description'] = sizes\n",
    "bookData['Creation_Date'] = ['' for x in range(len(bookData))]"
   ]
  },
  {
   "cell_type": "code",
   "execution_count": 278,
   "metadata": {
    "collapsed": true
   },
   "outputs": [],
   "source": [
    "bookData.to_pickle('book.pkl')"
   ]
  },
  {
   "cell_type": "markdown",
   "metadata": {
    "collapsed": true
   },
   "source": [
    "# Parse Fine Arts Data"
   ]
  },
  {
   "cell_type": "code",
   "execution_count": 10,
   "metadata": {
    "collapsed": false
   },
   "outputs": [
    {
     "name": "stdout",
     "output_type": "stream",
     "text": [
      "[('The Philatelic Collection of Lord Steinberg British Empire Mint Multiples', 1618), ('European Collections: Paintings, Ceramics, Glass, Furniture and other Works of Art', 1030), ('The Viennese Master Bronzes', 941), ('Old Master Paintings', 905), ('Old Master Sculpture and Works of Art', 890), ('Furniture: Antiques for the Modern Home', 765), ('Ariane Dandois: European Furniture, Paintings & Asian Art', 736), ('Fine 20th Century Design', 721), ('The Irish Sale', 518), ('The Philatelic Collection of Lord Steinberg Great Britain Mint Multiples', 450)]\n"
     ]
    }
   ],
   "source": [
    "fineCate = category[category['Category'] == 'Fine Arts']\n",
    "fineData = nullMaker[nullMaker['Sale Name'].isin(list(fineCate['Sale Name']))]\n",
    "counter = collections.Counter(fineData['Sale Name'])\n",
    "print counter.most_common(10)"
   ]
  },
  {
   "cell_type": "code",
   "execution_count": 1,
   "metadata": {
    "collapsed": false
   },
   "outputs": [
    {
     "ename": "NameError",
     "evalue": "name 'fineData' is not defined",
     "output_type": "error",
     "traceback": [
      "\u001b[0;31m---------------------------------------------------------------------------\u001b[0m",
      "\u001b[0;31mNameError\u001b[0m                                 Traceback (most recent call last)",
      "\u001b[0;32m<ipython-input-1-d571f956fedc>\u001b[0m in \u001b[0;36m<module>\u001b[0;34m()\u001b[0m\n\u001b[0;32m----> 1\u001b[0;31m \u001b[0;32mfor\u001b[0m \u001b[0mindex\u001b[0m\u001b[0;34m,\u001b[0m \u001b[0mrow\u001b[0m \u001b[0;32min\u001b[0m \u001b[0mfineData\u001b[0m\u001b[0;34m.\u001b[0m\u001b[0miterrows\u001b[0m\u001b[0;34m(\u001b[0m\u001b[0;34m)\u001b[0m\u001b[0;34m:\u001b[0m\u001b[0;34m\u001b[0m\u001b[0m\n\u001b[0m\u001b[1;32m      2\u001b[0m     \u001b[0;32mprint\u001b[0m \u001b[0;34m'-----'\u001b[0m\u001b[0;34m\u001b[0m\u001b[0m\n\u001b[1;32m      3\u001b[0m     \u001b[0;32mprint\u001b[0m \u001b[0mrow\u001b[0m\u001b[0;34m[\u001b[0m\u001b[0;34m'Lot Title'\u001b[0m\u001b[0;34m]\u001b[0m\u001b[0;34m\u001b[0m\u001b[0m\n\u001b[1;32m      4\u001b[0m     \u001b[0;32mprint\u001b[0m \u001b[0mrow\u001b[0m\u001b[0;34m[\u001b[0m\u001b[0;34m'Lot Description'\u001b[0m\u001b[0;34m]\u001b[0m\u001b[0;34m\u001b[0m\u001b[0m\n\u001b[1;32m      5\u001b[0m     \u001b[0;32mprint\u001b[0m \u001b[0mrow\u001b[0m\u001b[0;34m[\u001b[0m\u001b[0;34m'Notes'\u001b[0m\u001b[0;34m]\u001b[0m\u001b[0;34m\u001b[0m\u001b[0m\n",
      "\u001b[0;31mNameError\u001b[0m: name 'fineData' is not defined"
     ]
    }
   ],
   "source": [
    "for index, row in fineData.iterrows():\n",
    "    print '-----'\n",
    "    print row['Lot Title']\n",
    "    print row['Lot Description']\n",
    "    print row['Notes']\n",
    "    print row['Sale Name']"
   ]
  },
  {
   "cell_type": "code",
   "execution_count": null,
   "metadata": {
    "collapsed": true
   },
   "outputs": [],
   "source": []
  },
  {
   "cell_type": "code",
   "execution_count": null,
   "metadata": {
    "collapsed": true
   },
   "outputs": [],
   "source": []
  }
 ],
 "metadata": {
  "kernelspec": {
   "display_name": "Python 2",
   "language": "python",
   "name": "python2"
  },
  "language_info": {
   "codemirror_mode": {
    "name": "ipython",
    "version": 2
   },
   "file_extension": ".py",
   "mimetype": "text/x-python",
   "name": "python",
   "nbconvert_exporter": "python",
   "pygments_lexer": "ipython2",
   "version": "2.7.11"
  }
 },
 "nbformat": 4,
 "nbformat_minor": 0
}
