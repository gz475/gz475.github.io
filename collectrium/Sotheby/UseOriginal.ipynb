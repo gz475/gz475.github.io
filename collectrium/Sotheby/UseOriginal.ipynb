{
 "cells": [
  {
   "cell_type": "code",
   "execution_count": 1,
   "metadata": {
    "collapsed": true
   },
   "outputs": [],
   "source": [
    "from pymongo import MongoClient\n",
    "\n",
    "client = MongoClient('localhost', 27017)\n",
    "db = client['local']\n",
    "\n",
    "subjects_collection = db['collectrium_stokstad_models_subjects']\n",
    "makers = []\n",
    "ids = []\n",
    "n = 0\n",
    "\n",
    "for artist in subjects_collection.find({'_type': 'Collectrium::Stokstad::Models::Artist', 'terms.0': {'$exists': True}}):\n",
    "    \n",
    "    if artist['approved']:\n",
    "        for x in artist['terms']:\n",
    "            makers.append(x['text'])\n",
    "            ids.append(x['_id'])   "
   ]
  },
  {
   "cell_type": "code",
   "execution_count": 2,
   "metadata": {
    "collapsed": true
   },
   "outputs": [],
   "source": [
    "class TireNode:\n",
    "    \n",
    "    def __init__ (self):\n",
    "        self.val = None\n",
    "        self.mark = False\n",
    "        self.index = None\n",
    "        self.pointers = {}\n",
    "        \n",
    "class Tire:\n",
    "    \n",
    "    def __init__ (self):\n",
    "        self.root = TireNode()\n",
    "        \n",
    "    def insert(self, name, index):\n",
    "        self.re_insert(name, index, self.root)\n",
    "        return\n",
    "    \n",
    "    def re_insert(self, name, index, root):\n",
    "        if name[0] not in root.pointers:\n",
    "            newNode = TireNode()\n",
    "            newNode.val = name[0]\n",
    "            root.pointers[name[0]] = newNode\n",
    "            self.re_insert(name, index, root)\n",
    "        else:\n",
    "            nextNode = root.pointers[name[0]]\n",
    "            if(len(name[1:]) == 0):\n",
    "                nextNode.mark = True\n",
    "                nextNode.index = index\n",
    "                return\n",
    "            return self.re_insert(name[1:], index, nextNode)\n",
    "        \n",
    "    def search(self, name):\n",
    "        if len(name) == 0:\n",
    "            return False\n",
    "        else:\n",
    "            return self.re_search(name, self.root)\n",
    "        \n",
    "    def re_search(self, name, root):\n",
    "        if name[0] not in root.pointers:\n",
    "            return False\n",
    "        else:\n",
    "            nextNode = root.pointers[name[0]]\n",
    "            if len(name[1:]) == 0:\n",
    "                if nextNode.mark == True:\n",
    "                    return True, nextNode.index\n",
    "                else:\n",
    "                    return False, None\n",
    "            else:\n",
    "                return self.re_search(name[1:], nextNode)"
   ]
  },
  {
   "cell_type": "code",
   "execution_count": 3,
   "metadata": {
    "collapsed": true
   },
   "outputs": [],
   "source": [
    "def buildTree(names):\n",
    "    \n",
    "    tree = Tire()\n",
    "    for x in range(len(names)):\n",
    "        tree.insert(names[x].split(' '), x)\n",
    "    \n",
    "    return tree"
   ]
  },
  {
   "cell_type": "code",
   "execution_count": 4,
   "metadata": {
    "collapsed": true
   },
   "outputs": [],
   "source": [
    "def searchTerms(sentence, tree, vacabulary):\n",
    "    \n",
    "    sentence = sentence.replace(\"'\", '').replace(\"\\t\", '').replace(',', '').lstrip().rstrip().lower()\n",
    "    terms = sentence.split(' ')\n",
    "    \n",
    "    for x in range(len(terms)):  \n",
    "        for y in range(x, len(terms)):\n",
    "            tomatch = terms[x:y+1]\n",
    "            response, index = tree.search(tomatch)\n",
    "            if response:\n",
    "                return vacabulary[index]\n",
    "            else:\n",
    "                return ''"
   ]
  },
  {
   "cell_type": "code",
   "execution_count": 6,
   "metadata": {
    "collapsed": false
   },
   "outputs": [
    {
     "name": "stderr",
     "output_type": "stream",
     "text": [
      "Skipping line 65972: expected 18 fields, saw 19\n",
      "\n",
      "/Users/gzhao/Library/Python/2.7/lib/python/site-packages/IPython/core/interactiveshell.py:2723: DtypeWarning: Columns (12,14,15,16) have mixed types. Specify dtype option on import or set low_memory=False.\n",
      "  interactivity=interactivity, compiler=compiler, result=result)\n",
      "Skipping line 225573: expected 18 fields, saw 27\n",
      "\n",
      "/Users/gzhao/Library/Python/2.7/lib/python/site-packages/IPython/core/interactiveshell.py:2723: DtypeWarning: Columns (7,8,9) have mixed types. Specify dtype option on import or set low_memory=False.\n",
      "  interactivity=interactivity, compiler=compiler, result=result)\n"
     ]
    },
    {
     "name": "stdout",
     "output_type": "stream",
     "text": [
      "834227\n",
      "834227 834227\n"
     ]
    }
   ],
   "source": [
    "import pandas as pd\n",
    "import numpy as np\n",
    "import collections\n",
    "from collections import OrderedDict\n",
    "\n",
    "newData = pd.read_csv(\"listings_1461025592.csv\", warn_bad_lines=True, error_bad_lines=False)\n",
    "oldData = pd.read_csv(\"sothebys_historical_data.csv\", warn_bad_lines=True, error_bad_lines=False)\n",
    "\n",
    "data = newData.append(oldData)\n",
    "nullMaker = data[pd.isnull(data['Maker'])]\n",
    "\n",
    "print len(makers)\n",
    "\n",
    "record = []\n",
    "clean = []\n",
    "for x in makers:\n",
    "    clean.append(x.replace(\"'\", '').replace(\"\\t\", '').replace(',', '').lstrip().rstrip().lower())\n",
    "    record.append(x.replace(\"'\", '').replace(\"\\t\", '').replace(',', '').lstrip().rstrip())\n",
    "    \n",
    "# clean = sorted(list(set(clean)))\n",
    "\n",
    "print len(clean), len(record)"
   ]
  },
  {
   "cell_type": "code",
   "execution_count": 7,
   "metadata": {
    "collapsed": true
   },
   "outputs": [],
   "source": [
    "tree = buildTree(clean)\n",
    "makers = []\n",
    "\n",
    "for index, row in nullMaker.iterrows():\n",
    "    terms = row['Lot Title']\n",
    "    try:\n",
    "        maker = searchTerms(terms, tree, record)\n",
    "        makers.append(maker)\n",
    "    except:\n",
    "        makers.append('')"
   ]
  },
  {
   "cell_type": "code",
   "execution_count": 8,
   "metadata": {
    "collapsed": false
   },
   "outputs": [
    {
     "name": "stderr",
     "output_type": "stream",
     "text": [
      "/Users/gzhao/Library/Python/2.7/lib/python/site-packages/ipykernel/__main__.py:1: SettingWithCopyWarning: \n",
      "A value is trying to be set on a copy of a slice from a DataFrame.\n",
      "Try using .loc[row_indexer,col_indexer] = value instead\n",
      "\n",
      "See the caveats in the documentation: http://pandas.pydata.org/pandas-docs/stable/indexing.html#indexing-view-versus-copy\n",
      "  if __name__ == '__main__':\n"
     ]
    },
    {
     "data": {
      "text/plain": [
       "0.6631983953806955"
      ]
     },
     "execution_count": 8,
     "metadata": {},
     "output_type": "execute_result"
    }
   ],
   "source": [
    "nullMaker['Maker'] = makers\n",
    "noMaker = nullMaker[nullMaker['Maker'] == '']\n",
    "len(noMaker)/float(len(data))"
   ]
  },
  {
   "cell_type": "code",
   "execution_count": 9,
   "metadata": {
    "collapsed": false
   },
   "outputs": [
    {
     "name": "stdout",
     "output_type": "stream",
     "text": [
      "[('', 594499), (u'three', 3233), (u'John', 2433), (u'Ruby', 1976), (u'Rolex', 1723), (u'French', 1603), (u'Robert', 1372), (u'Hermitage', 1358), (u'Barolo', 1345), (u'Charles', 1312), (u'George', 1241), (u'Pablo', 1072), (u'Montrachet', 1024), (u'Cartier', 1018), (u'Thomas', 1004), (u'Paul', 955), (u'Corton', 954), (u'James', 953), (u'Edward', 942), (u'Jean', 891), (u'David', 883), (u'Chambertin', 866), (u'Richebourg', 839), (u'group', 795), (u'German', 784), (u'Joseph', 773), (u'Echezeaux', 772), (u'Dom', 738), (u'Krug', 674), (u'Meursault', 654), (u'Dutch', 625), (u'Musigny', 625), (u'Marc', 618), (u'Breguet', 584), (u'Richard', 559), (u'Vega', 556), (u'Volnay', 504), (u'Pearl', 495), (u'Albert', 494), (u'Ornellaia', 480), (u'Sassicaia', 474), (u'Peter', 460), (u'Dominus', 457), (u'statuette', 455), (u'Alexander', 441), (u'Flemish', 437), (u'enamel', 435), (u'Piaget', 427), (u'aquamarine', 425), (u'Taylor', 419), (u'Graham', 413), (u'Swiss', 396), (u'Petit', 393), (u'Pierre', 383), (u'Gruppo', 376), (u'Joan', 369), (u'Georges', 368), (u'Roman', 365), (u'Franck', 359), (u'Giovanni', 355), (u'Chablis', 349), (u'Panerai', 345), (u'OPUS', 337), (u'American', 330), (u'Jaeger-LeCoultre', 329), (u'multiple', 328), (u'Pink', 325), (u'White', 324), (u'Tiffany', 315), (u'Pommard', 305), (u'Max', 297), (u'Rembrandt', 289), (u'Jacques', 284), (u'Colgin', 282), (u'miscellaneous', 276), (u'Bernard', 272), (u'Walter', 270), (u'Venetian', 267), (u'Chopard', 265), (u'Hans', 263), (u'Roger', 261), (u'Churchill', 261), (u'Caymus', 258), (u'Fonseca', 258), (u'Johannes', 257), (u'LArge', 255), (u'Carl', 247), (u'unmounted', 246), (u'ART', 246), (u'Hardy', 243), (u'Warre', 239), (u'Johann', 238), (u'ROY', 238), (u'Francesco', 230), (u'commode', 228), (u'Jacob', 225), (u'Spanish', 219), (u'Pieter', 217), (u'Penfolds', 216), (u'Masseto', 215)]\n"
     ]
    }
   ],
   "source": [
    "counter = collections.Counter(makers)\n",
    "print counter.most_common(100)"
   ]
  },
  {
   "cell_type": "code",
   "execution_count": null,
   "metadata": {
    "collapsed": true
   },
   "outputs": [],
   "source": []
  }
 ],
 "metadata": {
  "kernelspec": {
   "display_name": "Python 2",
   "language": "python",
   "name": "python2"
  },
  "language_info": {
   "codemirror_mode": {
    "name": "ipython",
    "version": 2
   },
   "file_extension": ".py",
   "mimetype": "text/x-python",
   "name": "python",
   "nbconvert_exporter": "python",
   "pygments_lexer": "ipython2",
   "version": "2.7.11"
  }
 },
 "nbformat": 4,
 "nbformat_minor": 0
}
