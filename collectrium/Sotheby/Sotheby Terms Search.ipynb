{
 "cells": [
  {
   "cell_type": "markdown",
   "metadata": {},
   "source": [
    "# Get Makers from Database"
   ]
  },
  {
   "cell_type": "code",
   "execution_count": 24,
   "metadata": {
    "collapsed": false
   },
   "outputs": [],
   "source": [
    "from pymongo import MongoClient\n",
    "\n",
    "client = MongoClient('localhost', 27017)\n",
    "db = client['local']\n",
    "\n",
    "subjects_collection = db['collectrium_stokstad_models_subjects']\n",
    "makers = []\n",
    "ids = []\n",
    "n = 0\n",
    "\n",
    "for artist in subjects_collection.find({'_type': 'Collectrium::Stokstad::Models::Artist', 'terms.0': {'$exists': True}}):\n",
    "    \n",
    "    if artist['approved']:\n",
    "        for x in artist['terms']:\n",
    "            makers.append(x['text'])\n",
    "            ids.append(x['_id'])   "
   ]
  },
  {
   "cell_type": "code",
   "execution_count": 112,
   "metadata": {
    "collapsed": true
   },
   "outputs": [],
   "source": [
    "#np.save('makers.npy', makers)\n",
    "makers = np.load('makers.npy')"
   ]
  },
  {
   "cell_type": "code",
   "execution_count": 113,
   "metadata": {
    "collapsed": false
   },
   "outputs": [
    {
     "name": "stdout",
     "output_type": "stream",
     "text": [
      "834227\n",
      "815534\n"
     ]
    }
   ],
   "source": [
    "print len(makers)\n",
    "\n",
    "clean = []\n",
    "for x in makers:\n",
    "    clean.append(x.replace(\"'\", '').replace(\"\\t\", '').replace(',', '').lstrip().rstrip().lower())\n",
    "\n",
    "clean = sorted(list(set(clean)))\n",
    "\n",
    "print len(clean)"
   ]
  },
  {
   "cell_type": "markdown",
   "metadata": {},
   "source": [
    "# Build TireTree to Search Names"
   ]
  },
  {
   "cell_type": "code",
   "execution_count": 114,
   "metadata": {
    "collapsed": false
   },
   "outputs": [],
   "source": [
    "class TireNode:\n",
    "    \n",
    "    def __init__ (self):\n",
    "        self.val = None\n",
    "        self.mark = False\n",
    "        self.pointers = {}\n",
    "        \n",
    "class Tire:\n",
    "    \n",
    "    def __init__ (self):\n",
    "        self.root = TireNode()\n",
    "        \n",
    "    def insert(self, name):\n",
    "        self.re_insert(name, self.root)\n",
    "        return\n",
    "    \n",
    "    def re_insert(self, name, root):\n",
    "        if name[0] not in root.pointers:\n",
    "            newNode = TireNode()\n",
    "            newNode.val = name[0]\n",
    "            root.pointers[name[0]] = newNode\n",
    "            self.re_insert(name, root)\n",
    "        else:\n",
    "            nextNode = root.pointers[name[0]]\n",
    "            if(len(name[1:]) == 0):\n",
    "                nextNode.mark = True\n",
    "                return\n",
    "            return self.re_insert(name[1:], nextNode)\n",
    "        \n",
    "    def search(self, name):\n",
    "        if len(name) == 0:\n",
    "            return False\n",
    "        else:\n",
    "            return self.re_search(name, self.root)\n",
    "        \n",
    "    def re_search(self, name, root):\n",
    "        if name[0] not in root.pointers:\n",
    "            return False\n",
    "        else:\n",
    "            nextNode = root.pointers[name[0]]\n",
    "            if len(name[1:]) == 0:\n",
    "                if nextNode.mark == True:\n",
    "                    return True\n",
    "                else:\n",
    "                    return False\n",
    "            else:\n",
    "                return self.re_search(name[1:], nextNode)"
   ]
  },
  {
   "cell_type": "code",
   "execution_count": 115,
   "metadata": {
    "collapsed": true
   },
   "outputs": [],
   "source": [
    "def buildTree(names):\n",
    "    \n",
    "    tree = Tire()\n",
    "    for x in names:\n",
    "        tree.insert(x.split(' '))\n",
    "    \n",
    "    return tree"
   ]
  },
  {
   "cell_type": "markdown",
   "metadata": {
    "collapsed": false
   },
   "source": [
    "# Read Sotheby Data"
   ]
  },
  {
   "cell_type": "code",
   "execution_count": 116,
   "metadata": {
    "collapsed": false
   },
   "outputs": [
    {
     "name": "stderr",
     "output_type": "stream",
     "text": [
      "Skipping line 65972: expected 18 fields, saw 19\n",
      "\n",
      "Skipping line 225573: expected 18 fields, saw 27\n",
      "\n"
     ]
    }
   ],
   "source": [
    "import pandas as pd\n",
    "import numpy as np\n",
    "import collections\n",
    "from collections import OrderedDict\n",
    "\n",
    "newData = pd.read_csv(\"listings_1461025592.csv\", warn_bad_lines=True, error_bad_lines=False)\n",
    "oldData = pd.read_csv(\"sothebys_historical_data.csv\", warn_bad_lines=True, error_bad_lines=False)\n",
    "\n",
    "data = newData.append(oldData)\n",
    "nullMaker = data[pd.isnull(data['Maker'])]"
   ]
  },
  {
   "cell_type": "code",
   "execution_count": 117,
   "metadata": {
    "collapsed": true
   },
   "outputs": [],
   "source": [
    "def searchTerms(sentence, tree):\n",
    "    \n",
    "    sentence = sentence.replace(\"'\", '').replace(\"\\t\", '').replace(',', '').lstrip().rstrip().lower()\n",
    "    terms = sentence.split(' ')\n",
    "    \n",
    "    for x in range(len(terms)):  \n",
    "        for y in range(x, len(terms)):\n",
    "            tomatch = terms[x:y+1]\n",
    "            if tree.search(tomatch):\n",
    "                return ' '.join(terms[x:y+1])\n",
    "        \n",
    "    return ''"
   ]
  },
  {
   "cell_type": "code",
   "execution_count": 118,
   "metadata": {
    "collapsed": false
   },
   "outputs": [],
   "source": [
    "tree = buildTree(clean)\n",
    "makers = []\n",
    "\n",
    "for index, row in nullMaker.iterrows():\n",
    "    terms = row['Lot Title']\n",
    "    try:\n",
    "        maker = searchTerms(terms, tree)\n",
    "        makers.append(maker)\n",
    "    except:\n",
    "        makers.append('')"
   ]
  },
  {
   "cell_type": "code",
   "execution_count": 119,
   "metadata": {
    "collapsed": false
   },
   "outputs": [
    {
     "name": "stderr",
     "output_type": "stream",
     "text": [
      "/Users/gzhao/Library/Python/2.7/lib/python/site-packages/ipykernel/__main__.py:1: SettingWithCopyWarning: \n",
      "A value is trying to be set on a copy of a slice from a DataFrame.\n",
      "Try using .loc[row_indexer,col_indexer] = value instead\n",
      "\n",
      "See the caveats in the documentation: http://pandas.pydata.org/pandas-docs/stable/indexing.html#indexing-view-versus-copy\n",
      "  if __name__ == '__main__':\n"
     ]
    }
   ],
   "source": [
    "nullMaker['Maker'] = makers"
   ]
  },
  {
   "cell_type": "code",
   "execution_count": 120,
   "metadata": {
    "collapsed": true
   },
   "outputs": [],
   "source": [
    "noMaker = nullMaker[nullMaker['Maker'] == '']"
   ]
  },
  {
   "cell_type": "code",
   "execution_count": 121,
   "metadata": {
    "collapsed": false
   },
   "outputs": [
    {
     "data": {
      "text/plain": [
       "0.1997585931469012"
      ]
     },
     "execution_count": 121,
     "metadata": {},
     "output_type": "execute_result"
    }
   ],
   "source": [
    "len(noMaker)/float(len(data))"
   ]
  },
  {
   "cell_type": "markdown",
   "metadata": {},
   "source": [
    "# Predicate Department By Sale Name"
   ]
  },
  {
   "cell_type": "code",
   "execution_count": 299,
   "metadata": {
    "collapsed": false
   },
   "outputs": [
    {
     "name": "stderr",
     "output_type": "stream",
     "text": [
      "Skipping line 225573: expected 18 fields, saw 27\n",
      "\n"
     ]
    },
    {
     "name": "stdout",
     "output_type": "stream",
     "text": [
      "['Books & Manuscripts', 'Jewelry', 'Fine Arts', 'Cars', 'Decorative Arts', 'Watches', 'Stamps', 'Musical instruments', 'Wine']\n"
     ]
    }
   ],
   "source": [
    "import pandas as pd\n",
    "import numpy as np\n",
    "\n",
    "data = pd.read_csv(\"sothebys_historical_data.csv\", warn_bad_lines=True, error_bad_lines=False)\n",
    "\n",
    "category = pd.read_csv('categorized sales by sale name.csv - sale_name.csv')\n",
    "\n",
    "category.loc[category['Category'] == 'F', 'Category'] = 'Fine Arts'\n",
    "category.loc[category['Category'] == 'D', 'Category'] = 'Decorative Arts'\n",
    "category.loc[category['Category'] == 'WIne', 'Category'] = 'Wine'\n",
    "\n",
    "cates = list(set(category['Category']))\n",
    "print cates"
   ]
  },
  {
   "cell_type": "code",
   "execution_count": 302,
   "metadata": {
    "collapsed": false
   },
   "outputs": [
    {
     "name": "stdout",
     "output_type": "stream",
     "text": [
      "accuracy: 0.682\n",
      "accuracy: 0.835\n",
      "accuracy: 0.812\n",
      "accuracy: 0.894\n",
      "accuracy: 0.906\n",
      "accuracy: 0.694\n",
      "accuracy: 0.765\n",
      "accuracy: 0.894\n",
      "accuracy: 0.881\n",
      "accuracy: 0.429\n"
     ]
    }
   ],
   "source": [
    "from sklearn.feature_extraction.text import CountVectorizer\n",
    "from nltk.classify.naivebayes import NaiveBayesClassifier\n",
    "from sklearn import cross_validation\n",
    "from nltk import classify\n",
    "\n",
    "def crossValidation(train_features):\n",
    "    cv = cross_validation.KFold(len(train_features), n_folds=10, shuffle=False, random_state=None)\n",
    "\n",
    "    for traincv, evalcv in cv:\n",
    "        classifier = NaiveBayesClassifier.train(train_features[traincv[0]:traincv[len(traincv)-1]])\n",
    "        print 'accuracy: %.3f' % classify.util.accuracy(classifier, train_features[evalcv[0]:evalcv[len(evalcv)-1]])\n",
    "\n",
    "def getFeatureDict(features, featureArray):\n",
    "    featureDict = {}\n",
    "    \n",
    "    for x in range(len(features)):\n",
    "        featureDict[features[x]] = bool(featureArray[x])\n",
    "        \n",
    "    return featureDict\n",
    "\n",
    "def extractFeatures(corpus):\n",
    "    vectorizer = CountVectorizer(min_df=1, ngram_range=(1, 4), binary = True, decode_error='replace')\n",
    "    X = vectorizer.fit_transform(corpus)\n",
    "    \n",
    "    return vectorizer.get_feature_names(), X.toarray()\n",
    "\n",
    "def getTrainingset(features, featureMatrix, labels):\n",
    "    featuresets = []\n",
    "    \n",
    "    for x in range(len(labels)):\n",
    "        featuresets.append((getFeatureDict(features, featureMatrix[x]), labels[x]))\n",
    "            \n",
    "    return featuresets\n",
    "\n",
    "features, featureMatrix = extractFeatures(category['Sale Name'])\n",
    "labels = category['Category']\n",
    "featuresets = getTrainingset(features, featureMatrix, labels)\n",
    "nb_classifier = NaiveBayesClassifier.train(featuresets)\n",
    "crossValidation(featuresets)"
   ]
  },
  {
   "cell_type": "code",
   "execution_count": 303,
   "metadata": {
    "collapsed": false
   },
   "outputs": [
    {
     "data": {
      "text/plain": [
       "['Musical instruments',\n",
       " 'Cars',\n",
       " 'Watches',\n",
       " 'Watches',\n",
       " 'Watches',\n",
       " 'Watches',\n",
       " 'Watches',\n",
       " 'Watches',\n",
       " 'Musical instruments',\n",
       " 'Fine Arts']"
      ]
     },
     "execution_count": 303,
     "metadata": {},
     "output_type": "execute_result"
    }
   ],
   "source": [
    "def getTestset(data):\n",
    "    test = []\n",
    "    \n",
    "    features, featureMatrix = extractFeatures(data)\n",
    "    for x in range(len(featureMatrix)):\n",
    "        test.append((getFeatureDict(features, featureMatrix[x])))\n",
    "    \n",
    "    return test\n",
    "\n",
    "test = getTestset(category['Sale Name'][:10])\n",
    "# for pdist in nb_classifier.prob_classify_many(test):\n",
    "#     print('%.4f %.4f' % (pdist.prob('Fine Arts'), pdist.prob('Wine')))\n",
    "nb_classifier.classify_many(test)"
   ]
  },
  {
   "cell_type": "code",
   "execution_count": 304,
   "metadata": {
    "collapsed": true
   },
   "outputs": [],
   "source": [
    "saleNames = list(set(noMaker['Sale Name']))"
   ]
  },
  {
   "cell_type": "code",
   "execution_count": 345,
   "metadata": {
    "collapsed": false
   },
   "outputs": [],
   "source": [
    "noMaker = noMaker[pd.notnull(noMaker['Sale Name'])]\n",
    "counter = collections.Counter(noMaker['Sale Name'])"
   ]
  },
  {
   "cell_type": "code",
   "execution_count": 347,
   "metadata": {
    "collapsed": false
   },
   "outputs": [],
   "source": [
    "dataDict = OrderedDict()\n",
    "for x in counter.most_common():\n",
    "    dataDict[x[0]] = noMaker[noMaker['Sale Name'] == x[0]]"
   ]
  },
  {
   "cell_type": "code",
   "execution_count": 352,
   "metadata": {
    "collapsed": false
   },
   "outputs": [],
   "source": [
    "name = []\n",
    "\n",
    "for x in dataDict:\n",
    "    name.append(x)\n",
    "\n",
    "test = getTestset(name) \n",
    "result = nb_classifier.classify_many(test)"
   ]
  },
  {
   "cell_type": "code",
   "execution_count": 357,
   "metadata": {
    "collapsed": false
   },
   "outputs": [
    {
     "name": "stdout",
     "output_type": "stream",
     "text": [
      "[('Finest and Rarest Wines', 9667), ('Magnificent Jewels', 5230), ('Jewels', 3570), ('Important Jewels', 3466), ('Fine and Rare Wines, Spirits and Vintage Port', 3225), ('Magnificent Jewels and Jadeite', 2298), ('Fine Jewels', 2092), ('Fine Chinese Ceramics and Works of Art', 1913), ('Finest and Rarest Wines and Spirits: The 30th Anniversary Sale', 1681), ('Fine Chinese Ceramics & Works of Art', 1596), ('Books, Prints and Maps', 1436), ('Musical Instruments', 1360), ('Fine Jewelry', 1332), ('Arcade Jewels', 1170), ('Salvatore e Francesco Romano. Antiquari a Firenze.  A Century as Antique Dealers at Palazzo Magnani Feroni', 1086), ('The Estate of Ambassador Pamela Harriman', 1083), ('Important Watches, Wristwatches and Clocks', 1013), ('Centuries of StyleFurniture, Decorations, and Fine Art:Including the Stock-in-Trade of John WM. Martin Bookseller', 953), ('The Viennese Master Bronzes', 941), ('Centuries of Style', 933), ('Silver, Jewelry & Watches, Ceramics & Glass, Furniture, Works of Art and Paintings', 895), ('The Great Britain Philatelic Collections of Lady Mairi Bury, FRPSL', 888), ('Natural History, Travel, Atlases and Maps', 875), ('Magnificent Jewels and Noble Jewels', 867), ('Important Americana Including Silver, Prints, Folk Art, Furniture and Property formerly in the Estate of Ulysses S. Grant', 864), (\"English Literature, History, Children's Books & Illustrations\", 820), ('Silver, Jewelry, Ceramics, Glass, Furniture, Works of Art and Paintings', 815), ('Arcade Jewelry', 814), ('Important Watches', 788), ('Finest and Rarest Wines and Spirits', 787), ('Old Master Paintings', 776), ('Travel, Atlases, Maps & Natural History', 768), (\"Valentine's Day\", 744), ('A Very Important Collection of Fine Wines', 730), ('Finest and Rarest Wines & Vintage Port', 688), ('The Philatelic Collection of Lord Steinberg British Empire Mint Multiples', 682), ('Arcade Furniture, Decorative Works of Art and Carpets', 626), ('American Waterfowl Decoys: The Distinguished Collection of Dr. James M. McCleery', 612), ('Fine Jewellery', 590), ('The Dallas Bank Coin Collection - U.S. Gold Coins', 583), ('Books, Prints and Old Master Drawings', 567), ('The Classic Cellar from a Great American Collector IV', 559), ('Latin American Art', 552), ('Finest & Rarest Wines', 551), (\"English Literature, History, Children's Books and Illustrations\", 548), ('19th Century European Paintings', 542), ('The Philatelic Collection formed by Sir Gawaine Baillie, BT Volume II: British West Indies and South Atlantic', 532), ('Old Master, Modern and Contemporary Prints', 523), ('European Ceramics, Glass, Silver, Vertu and Portrait Miniatures', 521), ('Magnificent Jewels & Jadeite', 517)]\n"
     ]
    }
   ],
   "source": [
    "print counter.most_common(50)"
   ]
  },
  {
   "cell_type": "markdown",
   "metadata": {
    "collapsed": true
   },
   "source": [
    "# Search Top Maker Terms"
   ]
  },
  {
   "cell_type": "code",
   "execution_count": 122,
   "metadata": {
    "collapsed": true
   },
   "outputs": [],
   "source": [
    "import pandas as pd\n",
    "import numpy as np\n",
    "import collections\n",
    "from collections import OrderedDict\n",
    "\n",
    "topMakers = pd.read_csv(\"vacabulary.csv\", warn_bad_lines=True, error_bad_lines=False)"
   ]
  },
  {
   "cell_type": "code",
   "execution_count": 123,
   "metadata": {
    "collapsed": false
   },
   "outputs": [
    {
     "name": "stdout",
     "output_type": "stream",
     "text": [
      "1950\n",
      "1944\n"
     ]
    }
   ],
   "source": [
    "print len(topMakers['Term'])\n",
    "makers = topMakers['Term']\n",
    "\n",
    "clean = []\n",
    "for x in makers:\n",
    "    clean.append(x.replace(\"'\", '').replace(\"\\t\", '').replace(',', '').lstrip().rstrip().lower())\n",
    "\n",
    "clean = sorted(list(set(clean)))\n",
    "\n",
    "print len(clean)"
   ]
  },
  {
   "cell_type": "code",
   "execution_count": 125,
   "metadata": {
    "collapsed": false
   },
   "outputs": [],
   "source": [
    "tree = buildTree(clean)\n",
    "makers = []\n",
    "\n",
    "for index, row in noMaker.iterrows():\n",
    "    terms = row['Lot Title']\n",
    "    try:\n",
    "        maker = searchTerms(terms, tree)\n",
    "        makers.append(maker)\n",
    "    except:\n",
    "        makers.append('')"
   ]
  },
  {
   "cell_type": "code",
   "execution_count": 126,
   "metadata": {
    "collapsed": false
   },
   "outputs": [
    {
     "name": "stderr",
     "output_type": "stream",
     "text": [
      "/Users/gzhao/Library/Python/2.7/lib/python/site-packages/ipykernel/__main__.py:1: SettingWithCopyWarning: \n",
      "A value is trying to be set on a copy of a slice from a DataFrame.\n",
      "Try using .loc[row_indexer,col_indexer] = value instead\n",
      "\n",
      "See the caveats in the documentation: http://pandas.pydata.org/pandas-docs/stable/indexing.html#indexing-view-versus-copy\n",
      "  if __name__ == '__main__':\n"
     ]
    }
   ],
   "source": [
    "noMaker['Maker'] = makers"
   ]
  },
  {
   "cell_type": "code",
   "execution_count": 129,
   "metadata": {
    "collapsed": false
   },
   "outputs": [
    {
     "name": "stdout",
     "output_type": "stream",
     "text": [
      "0.821570884816\n"
     ]
    }
   ],
   "source": [
    "print (len(data) -len(noMaker[noMaker['Maker'] == '']))/float(len(data))"
   ]
  },
  {
   "cell_type": "code",
   "execution_count": 128,
   "metadata": {
    "collapsed": false
   },
   "outputs": [
    {
     "name": "stdout",
     "output_type": "stream",
     "text": [
      "[(nan, 41062), ('MIXED LOT', 1891), ('Diamond ring', 1662), ('DIAMOND RING', 1207), ('Sapphire and diamond ring', 465), ('Platinum and Diamond Ring', 389), ('Diamond necklace', 354), ('SAPPHIRE AND DIAMOND RING', 317), ('DIAMOND BRACELET', 317), ('DIAMOND NECKLACE', 296), ('Diamond bracelet', 290), ('Emerald and diamond ring', 278), ('Pair of diamond earrings', 202), ('EMERALD AND DIAMOND RING', 198), ('MIXED LOT CB', 182), ('A DIAMOND RING', 166), ('PLATINUM AND DIAMOND RING', 158), ('A DIAMOND SOLITAIRE RING', 149), ('PAIR OF DIAMOND PENDENT EARRINGS', 134), ('PAIR OF DIAMOND EARRINGS', 124), ('A COLLECTION OF JEWELLERY', 120), ('Napol\\xc3\\xa9on 1er', 115), ('Platinum and Diamond Bracelet', 115), ('JADEITE AND DIAMOND RING', 114), ('Platinum, Sapphire and Diamond Ring', 113), ('Diamond brooch', 106), ('Wilde, Oscar.', 106), ('Unsigned', 102), ('DIAMOND PENDANT', 97), ('Diamond Ring', 94), ('Mixed Lot', 92), ('DIAMOND BROOCH', 83), ('No Author', 75), ('A DIAMOND BROOCH', 74), ('Katharine Hepburn1907-2003', 72), ('Sapphire and diamond bracelet', 70), ('Pair of diamond earclips', 68), ('Platinum and Diamond Necklace', 67), ('Continental', 67), ('A DIAMOND PENDANT', 66), ('A DIAMOND BRACELET', 65), ('Pair of diamond pendent earrings', 60), ('Platinum, Emerald and Diamond Ring', 57), ('Diamond pendant', 56), ('SAPPHIRE AND DIAMOND NECKLACE', 56), ('Anonymous', 56), ('COLLECTION OF JEWELLERY', 55), ('PLATINUM AND DIAMOND BAND RING', 55), ('SAPPHIRE AND DIAMOND BRACELET', 54), ('PAIR OF JADEITE AND DIAMOND PENDENT EARRINGS', 53), ('Sapphire and diamond necklace', 50), ('Pair of diamond pendant-earrings', 50), ('Scuola Italiana, secolo XIX', 49), ('Jadeite and Diamond Ring', 48), ('Emerald and diamond necklace', 47), ('A DIAMOND NECKLACE', 47), ('Emerald and diamond bracelet', 47), ('Pair of Platinum and Diamond Earstuds', 47), ('Diamond bracelet, circa 1930', 46), ('Pair of diamond earstuds', 45), ('A SAPPHIRE AND DIAMOND RING', 44), ('Fran\\xc3\\xa7ois-Xavier Lalanne', 44), ('Scuola romana, secolo XVIII', 44), ('England', 44), ('Italian, 19th century', 43), ('Fancy intense yellow diamond ring', 41), ('MIXED LOT DB', 41), ('PLATINUM, SAPPHIRE AND DIAMOND RING', 39), ('PLATINUM AND DIAMOND BROOCH', 39), ('Emile Gall\\xc3\\xa9 (1846 - 1904)', 38), ('AN EMERALD AND DIAMOND RING', 38), ('MIXED LOT OB', 38), ('Diamond Necklace', 37), ('Sapphire and diamond brooch', 37), ('Pair of diamond pendant-earclips', 37), ('Doyle, Sir Arthur Conan.', 37), ('A diamond solitaire ring', 37), ('Emile Gall\\xc3\\xa9', 36), ('Valpolicella Classico Superiore 2000', 36), ('A PAIR OF DIAMOND EARRINGS', 36), ('Pair of Platinum and Diamond Earclips', 36), ('DIAMOND ETERNITY RING', 36), ('A DIAMOND CLUSTER RING', 34), ('Pair of sapphire and diamond earclips', 34), ('DIAMOND DEMI-PARURE', 33), ('An Oushak carpet', 33), ('Fancy yellow diamond ring', 33), ('Cartier/European Watch & Clock Co., Inc.', 33), ('Diamond band ring', 33), ('Gould, John.', 32), ('Sapphire and Diamond Ring', 32), ('PAIR OF DIAMOND EARSTUDS', 32), ('Verdi, Giuseppe.', 32), ('England, 19th century', 32), ('A high-fired vase', 31), ('TWO DIAMOND RINGS', 31), ('Universal', 31), ('Beckett, Samuel.', 31), ('Travail Fran\\xc3\\xa7ais', 31), ('Ferdinand Preiss', 31)]\n"
     ]
    }
   ],
   "source": [
    "counter = collections.Counter(noMaker[noMaker['Maker'] == '']['Lot Title'])\n",
    "print counter.most_common(100)"
   ]
  },
  {
   "cell_type": "code",
   "execution_count": 133,
   "metadata": {
    "collapsed": false
   },
   "outputs": [
    {
     "name": "stdout",
     "output_type": "stream",
     "text": [
      "896412 896412\n"
     ]
    }
   ],
   "source": [
    "allData = data[pd.notnull(data['Maker'])]\n",
    "allData = allData.append(noMaker)\n",
    "allData = allData.append(nullMaker[nullMaker['Maker'] != ''])\n",
    "\n",
    "print len(allData), len(data)\n",
    "allData.to_csv('Sotheby_Historical_Data.csv', index = False)"
   ]
  },
  {
   "cell_type": "markdown",
   "metadata": {},
   "source": [
    "# Look into Lot Description"
   ]
  },
  {
   "cell_type": "code",
   "execution_count": 134,
   "metadata": {
    "collapsed": false
   },
   "outputs": [
    {
     "name": "stdout",
     "output_type": "stream",
     "text": [
      "159946\n"
     ]
    }
   ],
   "source": [
    "noneMaker = noMaker[noMaker['Maker'] == '']\n",
    "print len(noneMaker)"
   ]
  },
  {
   "cell_type": "code",
   "execution_count": 135,
   "metadata": {
    "collapsed": false
   },
   "outputs": [
    {
     "name": "stdout",
     "output_type": "stream",
     "text": [
      "[(nan, 78379), ('N/A\\nQuantity: 1', 72), ('This lot contains 1 item(s).\\nQuantity: 1', 58), ('Ch\\xc3\\xa2teau Duhart Milon 2009\\nPauillac, 4\\xc3\\xa8me Cru Class\\xc3\\xa9\\nLot 1615: Banded owc, Lot 1616: Banded owc, Lot 1617: Banded owc, Lot 1618: Banded owc, Lot 1619: Banded owc, Lot 1620: Banded owc, Lot 1621: Banded owc, Lot 1622: Banded owc, Lot 1623: Banded owc, Lot 1624: Banded owc, Lot 1625: Banded owc, Lot 1626: Banded owc, Lot 1627: Banded owc, Lot 1628: Banded owc, Lot 1629: Banded owc, Lot 1630: Banded owc, Lot 1631: Banded owc, Lot 1632: Banded owc, Lot 1633: Banded owc, Lot 1634: Banded prior to inspection\\n\\n63% Cabernet Sauvignon, 37% Merlot. In 2013, a total blackcurrant nose. Intense black fruit depth and class on the palate. One can see the hand of Lafite here. A wine of real gravitas. Serena Sutcliffe, MW\\n\\n1615:12 bts (owc)\\n\\n1616:12 bts (owc)\\n\\n1617:12 bts (owc)\\n\\n1618:12 bts (owc)\\n\\n1619:12 bts (owc)\\n\\n1620:12 bts (owc)\\n\\n1621:12 bts (owc)\\n\\n1622:12 bts (owc)\\n\\n1623:12 bts (owc)\\n\\n1624:12 bts (owc)\\n\\n1625:12 bts (owc)\\n\\n1626:12 bts (owc)\\n\\n1627:12 bts (owc)\\n\\n1628:12 bts (owc)\\n\\n1629:12 bts (owc)\\n\\n1630:12 bts (owc)\\n\\n1631:12 bts (owc)\\n\\n1632:12 bts (owc)\\n\\n1633:12 bts (owc)\\n\\n1634:12 bts (owc)\\n\\nEstimates are per lot', 20), ('Chateau Duhart Milon 2010\\nPauillac, 4\\xc3\\xa8me Cru Class\\xc3\\xa8\\nLot 1635-1654: Banded owc\\n\\n73 % Cabernet Sauvignon, 27 % Merlot. In 2014, a really good scent of some class - a glimpse of Lafite here?! A four-square Pauillac taste. Solid and structured. Exceptionally good this year. Serena Sutcliffe, MW', 20), (\"Wine Lists, Menus, and Other Graphic Material\\nThe only compendiums of their kind, these sets of elBulli graphic materials provide a unique glimpse into the evolution of the famed restaurant.\\nMinor wear on the edges otherwise good general condition.\\n\\nEvery set includes:\\nA wine list\\nHand-painted cardboard menu cover\\nCollection of menu covers from elBulli's history\\nLetterhead\\nCollection of menus from elBulli's history\\nCommemorative plate of elBulli's last meal service\\nAdditional graphic materials\\n\\nLot 7547 1 set\\nLot 7548 1 set\\nLot 7549 1 set\\nLot 7550 1 set\\nLot 7551 1 set\\nLot 7552 1 set\\nLot 7553 1 set\\nLot 7554 1 set\\nLot 7555 1 set\\nLot 7556 1 set\\nLot 7557 1 set\\nLot 7558 1 set\\nLot 7559 1 set\\nLot 7560 1 set\\nper lot: USD 250-500\\nQuantity: 1\", 14), ('none\\nQuantity: 1', 13), ('Albumen Print, framed and glazed, not examined out of frame,\\n\\nQuantity: 1', 13), ('Ch\\xc3\\xa2teau Duhart Milon 2008\\nPauillac, 4\\xc3\\xa8me Cru Class\\xc3\\xa9\\n\\nIn 2012, this has depth and complexity on the nose. On the palate, real inky splendour. Absolutely stunning. So rich and luscious. Way out of its category this year. Serena Sutcliffe, MW\\n\\n1603:12 bts (owc)\\n\\n1604:12 bts (owc)\\n\\n1605:12 bts (owc)\\n\\n1606:12 bts (owc)\\n\\n1607:12 bts (owc)\\n\\n1608:12 bts (owc)\\n\\n1609:12 bts (owc)\\n\\n1610:12 bts (owc)\\n\\n1611:12 bts (owc)\\n\\n1612:12 bts (owc)\\n\\n1613:12 bts (owc)\\n\\n1614:12 bts (owc)\\n\\nEstimates are per lot', 12), ('Bonnes Mares 2006 Drouhin-Laroze\\nCote de Nuits, Grand Cru\\nLot 327 1 d.mag - 3 litre (oc)\\nLot 328 1 d.mag - 3 litre (oc)\\nLot 329 1 d.mag - 3 litre (oc)\\nLot 330 1 d.mag - 3 litre (oc)\\nLot 331 1 d.mag - 3 litre (oc)\\nLot 332 1 d.mag - 3 litre (oc)\\nLot 333 1 d.mag - 3 litre (oc)\\nLot 334 1 d.mag - 3 litre (oc)\\nLot 335 1 d.mag - 3 litre (oc)\\nLot 336 1 d.mag - 3 litre (oc)\\nLot 337 1 d.mag - 3 litre (oc)\\nLot 338 1 d.mag - 3 litre (oc)\\nper lot: GBP 220-320\\nper lot: USD 360-520\\nper lot: EUR 260-400\\n\\nLYING IN GREENFORD, MIDDLESEX\\nOffered Duty Paid only\\n\\nQuantity: 1', 12), ('misure diverse', 12), ('block of 4, good colour, fresh, large part original gum.', 11), ('Bonnes Mares 2003 Drouhin-Laroze\\nCote de Nuits, Grand Cru\\nLot 262 1 d.mag - 3 litre (oc)\\nLot 263 1 d.mag - 3 litre (oc)\\nLot 264 1 d.mag - 3 litre (oc)\\nLot 265 1 d.mag - 3 litre (oc)\\nLot 266 1 d.mag - 3 litre (oc)\\nLot 267 1 d.mag - 3 litre (oc)\\nLot 268 1 d.mag - 3 litre (oc)\\nLot 269 1 d.mag - 3 litre (oc)\\nLot 270 1 d.mag - 3 litre (oc)\\nLot 271 1 d.mag - 3 litre (oc)\\nLot 272 1 d.mag - 3 litre (oc)\\nper lot: GBP 240-320\\nper lot: USD 400-520\\nper lot: EUR 300-400\\n\\nLYING IN GREENFORD, MIDDLESEX\\nOffered Duty Paid only\\n\\nQuantity: 1', 11), ('Two works:', 11), ('Valpolicella Classico Superiore 2000\\nGiuseppe Quintarelli\\nVeneto\\nLot 487: 1 nicked label\\nA nose of nougatine. And a taste of red fruit and toffee. Serena Sutcliffe, MW\\nLot 477 12 bts (oc)\\nLot 478 12 bts (oc)\\nLot 479 12 bts (oc)\\nLot 480 12 bts (oc)\\nLot 481 12 bts (oc)\\nLot 482 12 bts (oc)\\nLot 483 12 bts (oc)\\nLot 484 12 bts (oc)\\nLot 485 12 bts (oc)\\nLot 486 12 bts (oc)\\nLot 487 12 bts (oc)\\nper lot: USD 650-900\\n\\nQuantity: 1', 11), ('Natural earth pigments on eucalyptus bark\\nQuantity: 1', 11), ('Valpolicella Classico Superiore 2000\\nGiuseppe Quintarelli\\nVeneto\\nA nose of nougatine. And a taste of red fruit and toffee.\\nSerena Sutcliffe, MW.\\nLot 1750 12 bts (oc)\\nLot 1751 12 bts (oc)\\nLot 1752 12 bts (oc)\\nLot 1753 12 bts (oc)\\nLot 1754 12 bts (oc)\\nLot 1755 12 bts (oc)\\nLot 1756 12 bts (oc)\\nLot 1757 12 bts (oc)\\nLot 1758 12 bts (oc)\\nLot 1759 12 bts (oc)\\nper lot: USD 800-1100\\n\\nThe wines of Giuseppe Quintarelli are some of the most sought after in the world. A traditionalist but also a perfectionist, Quintarelli has created the standard for which all Veneto reds are judged. His legendary Amarone, Recioto, and Alzero follow the practices and extraordinarily detailed standards enacted by his father and grandfather before him. Extended cask maturation and rigorous grape selection lead to immense complexity of flavor and richness and allow for long term aging before their release.\\n\\nQuantity: 1', 10), (\"Chateauneuf du Pape, Cuvee Speciale 2005 Tardieu-Laurent\\nLot 181 \\xe2\\x99\\xa6 12 bts (2 oc)\\nLot 182 \\xe2\\x99\\xa6 12 bts (2 oc)\\nLot 183 \\xe2\\x99\\xa6 12 bts (2 oc)\\nLot 184 \\xe2\\x99\\xa6 12 bts (2 oc)\\nLot 185 \\xe2\\x99\\xa6 12 bts (2 oc)\\nLot 186 \\xe2\\x99\\xa6 12 bts (2 oc)\\nLot 187 \\xe2\\x99\\xa6 12 bts (2 oc)\\nLot 188 \\xe2\\x99\\xa6 12 bts (2 oc)\\nLot 189 \\xe2\\x99\\xa6 12 bts (2 oc)\\nLot 190 \\xe2\\x99\\xa6 12 bts (2 oc)\\nper lot: GBP 220-280\\nper lot: USD 320-420\\nper lot: EUR 280-380\\n\\nLYING IN OCTAVIAN, WILTSHIRE\\nOffered In Bond, available duty paid\\n\\nThese items are in bond. The buyer has a choice of taking the item in bond (with the sale being made in bond) or taking the item duty paid.\\nIf taken in bond, VAT will not be charged on the hammer price. VAT will be charged at 20% on the buyer's premium which may not be cancelled or refunded by Sotheby's.\\nIf taken duty paid, when Sotheby's releases the property to buyers in the UK, the buyer will become the importer and must pay Sotheby's duty at the current rate and import VAT at 20% on the hammer price + duty which may not be cancelled or refunded by Sotheby's. VAT will be charged at 20% on the buyer's premium which may not be cancelled or refunded by Sotheby's.\\n(VAT - registered buyers from the UK should note that the invoice issued by Sotheby's showing import VAT payable, is not suitable evidence for recovering that VAT. In order to recover this as input tax, a VAT registered buyer must purchase the wine in bond and clear it under his own name and VAT number. HM Customs will then issue a Form C79 which is acceptable evidence for recovering the VAT as input tax subject to the normal rules.)\\n(All business buyers from outside the UK should refer to 'VAT Refunds from HM Customs & Excise' for information on how to recover VAT incurred on the buyer's premium).\\n\\nQuantity: 1\", 10), (\"Chateau La Providence 2005\\nPomerol\\nThe first vintage of this Moueix wine, with its vines next to Lafleur and Hosanna on the Pomerol plateau - it is not like either!- There is power and a thick texture from the blend this year of 80% Merlot and 20% Cabernet Franc.- Excellent, minerally nose and so much flesh and body on the palate, with a finish of expresso coffee.- A big, chewy wine, full of structure and fruit. Serena Sutcliffe, MW\\nLot 82 \\xe2\\x99\\xa6 6 bts (owc)\\nLot 83 \\xe2\\x99\\xa6 6 bts (owc)\\nLot 84 \\xe2\\x99\\xa6 6 bts (owc)\\nLot 85 \\xe2\\x99\\xa6 6 bts (owc)\\nLot 86 \\xe2\\x99\\xa6 6 bts (owc)\\nLot 87 \\xe2\\x99\\xa6 6 bts (owc)\\nLot 88 \\xe2\\x99\\xa6 6 bts (owc)\\nLot 89 \\xe2\\x99\\xa6 6 bts (owc)\\nLot 90 \\xe2\\x99\\xa6 6 bts (owc)\\nLot 91 \\xe2\\x99\\xa6 6 bts (owc)\\nper lot: GBP 300-400\\nper lot: USD 460-600\\nper lot: EUR 340-460\\n\\nLYING IN OCTAVIAN, WILTSHIRE\\nOffered In Bond, available duty paid\\n\\nThese items are in bond. The buyer has a choice of taking the item in bond (with the sale being made in bond) or taking the item duty paid.\\nIf taken in bond, VAT will not be charged on the hammer price. VAT will be charged at 20% on the buyer's premium which may not be cancelled or refunded by Sotheby's.\\nIf taken duty paid, when Sotheby's releases the property to buyers in the UK, the buyer will become the importer and must pay Sotheby's duty at the current rate and import VAT at 20% on the hammer price + duty which may not be cancelled or refunded by Sotheby's. VAT will be charged at 20% on the buyer's premium which may not be cancelled or refunded by Sotheby's.\\n(VAT - registered buyers from the UK should note that the invoice issued by Sotheby's showing import VAT payable, is not suitable evidence for recovering that VAT. In order to recover this as input tax, a VAT registered buyer must purchase the wine in bond and clear it under his own name and VAT number. HM Customs will then issue a Form C79 which is acceptable evidence for recovering the VAT as input tax subject to the normal rules.)\\n(All business buyers from outside the UK should refer to 'VAT Refunds from HM Customs & Excise' for information on how to recover VAT incurred on the buyer's premium).\\n\\nQuantity: 1\", 10), ('Clos des Litanies 2009\\nLalande de Pomerol\\nLot 203 12 bts (oc)\\nLot 204 12 bts (oc)\\nLot 205 12 bts (oc)\\nLot 206 12 bts (oc)\\nLot 207 12 bts (oc)\\nLot 208 12 bts (oc)\\nLot 209 12 bts (oc)\\nLot 210 12 bts (oc)\\nLot 211 12 bts (oc)\\nLot 212 12 bts (oc)\\nper lot: GBP 300-400\\nper lot: USD 460-600\\nper lot: EUR 340-460\\n\\nLYING IN OCTAVIAN, WILTSHIRE\\nOffered Duty Paid only\\n\\nQuantity: 1', 10), ('Valpolicella Classico Superiore 2000\\nGiuseppe Quintarelli\\nVeneto\\nA nose of nougatine. And a taste of red fruit and toffee. SS.\\nLot 389 12 bts (oc)\\nLot 390 12 bts (oc)\\nLot 391 12 bts (oc)\\nLot 392 12 bts (oc)\\nLot 393 12 bts (oc)\\nLot 394 12 bts (oc)\\nLot 395 12 bts (oc)\\nLot 396 12 bts (oc)\\nLot 397 12 bts (oc)\\nLot 398 12 bts (oc)\\nper lot: USD 550-750\\n\\nThe wines of Giuseppe Quintarelli are some of the most sought after in the world. A traditionalist but also a perfectionist, Quintarelli has created the standard for which all Veneto reds are judged. His legendary Amarone, Recioto, and Alzero follow the practices and extraordinarily detailed standards enacted by his father and grandfather before him. Extended cask maturation and rigorous grape selection lead to immense complexity of flavor and richness and allow for long term aging before their release.\\n\\nQuantity: 1', 10), ('Bonnes Mares 2006 Drouhin-Laroze\\nCote de Nuits, Grand Cru\\nLot 309 12 bts (oc)\\nLot 310 12 bts (oc)\\nLot 311 12 bts (oc)\\nLot 312 12 bts (oc)\\nLot 313 12 bts (oc)\\nLot 314 12 bts (oc)\\nLot 315 12 bts (oc)\\nLot 316 12 bts (oc)\\nLot 317 12 bts (oc)\\nLot 318 12 bts (oc)\\nper lot: GBP 550-650\\nper lot: USD 920-1050\\nper lot: EUR 680-800\\n\\nLYING IN GREENFORD, MIDDLESEX\\nOffered Duty Paid only\\n\\nQuantity: 1', 10), (\"Wine Lists, Menus, and Other Graphic Material\\nThe only compendiums of their kind, these sets of elBulli graphic materials provide a unique glimpse into the evolution of the famed restaurant.\\nMinor wear on the edges otherwise good general condition.\\n\\nEvery set includes:\\nA wine list\\nHand-painted cardboard menu cover\\nCollection of menu covers from elBulli's history\\nLetterhead\\nCollection of menus from elBulli's history\\nCommemorative plate of elBulli's last meal service\\nAdditional graphic materials\\n\\nLot 6448 1 set\\nLot 6449 1 set\\nLot 6450 1 set\\nLot 6451 1 set\\nLot 6452 1 set\\nLot 6453 1 set\\nLot 6454 1 set\\nLot 6455 1 set\\nLot 6456 1 set\\nLot 6457 1 set\\nfrom: HKD 2000\\nfrom: USD 250\\n\\nQuantity: 1\", 10), (\"Chateau Rauzan Gassies 2003\\nMargaux, 2eme Cru Classe\\nLot 126 \\xe2\\x99\\xa6 24 bts (2 owc)\\nLot 127 \\xe2\\x99\\xa6 24 bts (2 owc)\\nLot 128 \\xe2\\x99\\xa6 24 bts (2 owc)\\nLot 129 \\xe2\\x99\\xa6 24 bts (2 owc)\\nLot 130 \\xe2\\x99\\xa6 24 bts (2 owc)\\nLot 131 \\xe2\\x99\\xa6 24 bts (2 owc)\\nLot 132 \\xe2\\x99\\xa6 24 bts (2 owc)\\nLot 133 \\xe2\\x99\\xa6 24 bts (2 owc)\\nLot 134 \\xe2\\x99\\xa6 24 bts (2 owc)\\nLot 135 \\xe2\\x99\\xa6 24 bts (2 owc)\\nper lot: GBP 440-520\\nper lot: USD 680-820\\nper lot: EUR 520-600\\n\\nLYING IN OCTAVIAN, WILTSHIRE\\nOffered In Bond, available duty paid\\n\\nThese items are in bond. The buyer has a choice of taking the item in bond (with the sale being made in bond) or taking the item duty paid.\\nIf taken in bond, VAT will not be charged on the hammer price. VAT will be charged at 20% on the buyer's premium which may not be cancelled or refunded by Sotheby's.\\nIf taken duty paid, when Sotheby's releases the property to buyers in the UK, the buyer will become the importer and must pay Sotheby's duty at the current rate and import VAT at 20% on the hammer price + duty which may not be cancelled or refunded by Sotheby's. VAT will be charged at 20% on the buyer's premium which may not be cancelled or refunded by Sotheby's.\\n(VAT - registered buyers from the UK should note that the invoice issued by Sotheby's showing import VAT payable, is not suitable evidence for recovering that VAT. In order to recover this as input tax, a VAT registered buyer must purchase the wine in bond and clear it under his own name and VAT number. HM Customs will then issue a Form C79 which is acceptable evidence for recovering the VAT as input tax subject to the normal rules.)\\n(All business buyers from outside the UK should refer to 'VAT Refunds from HM Customs & Excise' for information on how to recover VAT incurred on the buyer's premium).\\n\\nQuantity: 1\", 10), (\"Piantonaia 2009 Podere Poggio Scalette\\nToscana, IGT\\nLot 1103 \\xe2\\x99\\xa6 6 bts (owc)\\nLot 1104 \\xe2\\x99\\xa6 6 bts (owc)\\nLot 1105 \\xe2\\x99\\xa6 6 bts (owc)\\nLot 1106 \\xe2\\x99\\xa6 6 bts (owc)\\nLot 1107 \\xe2\\x99\\xa6 6 bts (owc)\\nLot 1108 \\xe2\\x99\\xa6 6 bts (owc)\\nLot 1109 \\xe2\\x99\\xa6 6 bts (owc)\\nLot 1110 \\xe2\\x99\\xa6 6 bts (owc)\\nLot 1111 \\xe2\\x99\\xa6 6 bts (owc)\\nLot 1112 \\xe2\\x99\\xa6 6 bts (owc)\\nper lot: GBP 300-400\\nper lot: USD 480-620\\nper lot: EUR 360-480\\n\\nLYING IN OCTAVIAN, WILTSHIRE\\nOffered In Bond, available duty paid\\nThese items are in bond. The buyer has a choice of taking the item in bond (with the sale being made in bond) or taking the item duty paid.If taken in bond, VAT will not be charged on the hammer price. VAT will be charged at 20% on the buyer's premium which may not be cancelled or refunded by Sotheby's.If taken duty paid, when Sotheby's releases the property to buyers in the UK, the buyer will become the importer and must pay Sotheby's duty at the current rate and import VAT at 20% on the hammer price + duty which may not be cancelled or refunded by Sotheby's. VAT will be charged at 20% on the buyer's premium which may not be cancelled or refunded by Sotheby's.(VAT - registered buyers from the UK should note that the invoice issued by Sotheby's showing import VAT payable, is not suitable evidence for recovering that VAT. In order to recover this as input tax, a VAT registered buyer must purchase the wine in bond and clear it under his own name and VAT number. HM Customs will then issue a Form C79 which is acceptable evidence for recovering the VAT as input tax subject to the normal rules.)(All business buyers from outside the UK should refer to 'VAT Refunds from HM Customs & Excise' for information on how to recover VAT incurred on the buyer's premium).\\n\\nQuantity: 1\", 10), ('Clos des Litanies 2010\\nLalande de Pomerol\\nLot 213 12 bts (oc)\\nLot 214 12 bts (oc)\\nLot 215 12 bts (oc)\\nLot 216 12 bts (oc)\\nLot 217 12 bts (oc)\\nLot 218 12 bts (oc)\\nLot 219 12 bts (oc)\\nLot 220 12 bts (oc)\\nLot 221 12 bts (oc)\\nLot 222 12 bts (oc)\\nper lot: GBP 300-400\\nper lot: USD 460-600\\nper lot: EUR 340-460\\n\\nLYING IN OCTAVIAN, WILTSHIRE\\nOffered Duty Paid only\\n\\nQuantity: 1', 10), ('full original gum. Stanley Gibbons Catalogue \\xc2\\xa315,000', 10), ('Ch\\xc3\\xa2teau Fleur Cardinale 2011\\nSt. Emilion, Grand Cru Class\\xc3\\xa9\\n\\n1683:12 bts (owc)\\n\\n1684:12 bts (owc)\\n\\n1685:12 bts (owc)\\n\\n1686:12 bts (sc)\\n\\n1687:12 bts (owc)\\n\\n1688:12 bts (owc)\\n\\n1689:12 bts (owc)\\n\\n1690:12 bts (owc)\\n\\n1691:12 bts (owc)\\n\\n1692:12 bts (2 owc)\\n\\nEstimates are per lot', 10), (\"Chateauneuf du Pape, Cuvee Speciale 2003 Tardieu-Laurent\\nLot 171 \\xe2\\x99\\xa6 12 bts (2 oc)\\nLot 172 \\xe2\\x99\\xa6 12 bts (2 oc)\\nLot 173 \\xe2\\x99\\xa6 12 bts (2 oc)\\nLot 174 \\xe2\\x99\\xa6 12 bts (2 oc)\\nLot 175 \\xe2\\x99\\xa6 12 bts (2 oc)\\nLot 176 \\xe2\\x99\\xa6 12 bts (2 oc)\\nLot 177 \\xe2\\x99\\xa6 12 bts (2 oc)\\nLot 178 \\xe2\\x99\\xa6 12 bts (2 oc)\\nLot 179 \\xe2\\x99\\xa6 12 bts (2 oc)\\nLot 180 \\xe2\\x99\\xa6 12 bts (2 oc)\\nper lot: GBP 220-280\\nper lot: USD 320-420\\nper lot: EUR 280-380\\n\\nLYING IN OCTAVIAN, WILTSHIRE\\nOffered In Bond, available duty paid\\n\\nThese items are in bond. The buyer has a choice of taking the item in bond (with the sale being made in bond) or taking the item duty paid.\\nIf taken in bond, VAT will not be charged on the hammer price. VAT will be charged at 20% on the buyer's premium which may not be cancelled or refunded by Sotheby's.\\nIf taken duty paid, when Sotheby's releases the property to buyers in the UK, the buyer will become the importer and must pay Sotheby's duty at the current rate and import VAT at 20% on the hammer price + duty which may not be cancelled or refunded by Sotheby's. VAT will be charged at 20% on the buyer's premium which may not be cancelled or refunded by Sotheby's.\\n(VAT - registered buyers from the UK should note that the invoice issued by Sotheby's showing import VAT payable, is not suitable evidence for recovering that VAT. In order to recover this as input tax, a VAT registered buyer must purchase the wine in bond and clear it under his own name and VAT number. HM Customs will then issue a Form C79 which is acceptable evidence for recovering the VAT as input tax subject to the normal rules.)\\n(All business buyers from outside the UK should refer to 'VAT Refunds from HM Customs & Excise' for information on how to recover VAT incurred on the buyer's premium).\\n\\nQuantity: 1\", 10), ('height 34 1/2 in.\\n88 cm', 9), ('Natural earth pigments on carved soft wood\\nQuantity: 1', 9), ('Chateau Duhart Milon 2002\\nPauillac, 4eme Cru Classe\\nLot 392 12 bts (owc)\\nLot 393 12 bts (owc)\\nLot 394 12 bts (owc)\\nLot 395 12 bts (owc)\\nLot 396 12 bts (owc)\\nLot 397 12 bts (owc)\\nLot 398 12 bts (owc)\\nLot 399 12 bts (owc)\\nLot 400 12 bts (owc)\\nper lot: GBP 650-800\\nper lot: USD 1000-1200\\nper lot: EUR 720-920\\n\\nLYING IN GREENFORD, MIDDLESEX\\nOffered Duty Paid only\\n\\nQuantity: 1', 9), (\"Chateau Branaire Ducru 2007\\nSt. Julien, 4eme Cru Classe\\nThis has such a silky texture (a trait of the cru) and is so full of flavour. Really convincing wine. SS.\\nLot 651 \\xe2\\x99\\xa6 12 bts (owc)\\nLot 652 \\xe2\\x99\\xa6 12 bts (owc)\\nLot 653 \\xe2\\x99\\xa6 12 bts (owc)\\nLot 654 \\xe2\\x99\\xa6 12 bts (owc)\\nLot 655 \\xe2\\x99\\xa6 12 bts (owc)\\nLot 656 \\xe2\\x99\\xa6 12 bts (owc)\\nLot 657 \\xe2\\x99\\xa6 12 bts (owc)\\nLot 658 \\xe2\\x99\\xa6 12 bts (owc)\\nLot 659 \\xe2\\x99\\xa6 12 bts (owc)\\nper lot: GBP 200-280\\nper lot: USD 300-440\\nper lot: EUR 240-320\\n\\nLYING IN OCTAVIAN, WILTSHIRE\\nOffered In Bond, available duty paid\\n\\nThese items are in bond. The buyer has a choice of taking the item in bond (with the sale being made in bond) or taking the item duty paid.\\nIf taken in bond, VAT will not be charged on the hammer price. VAT will be charged at 20% on the buyer's premium which may not be cancelled or refunded by Sotheby's.\\nIf taken duty paid, when Sotheby's releases the property to buyers in the UK, the buyer will become the importer and must pay Sotheby's duty at the current rate and import VAT at 20% on the hammer price + duty which may not be cancelled or refunded by Sotheby's. VAT will be charged at 20% on the buyer's premium which may not be cancelled or refunded by Sotheby's.\\n(VAT - registered buyers from the UK should note that the invoice issued by Sotheby's showing import VAT payable, is not suitable evidence for recovering that VAT. In order to recover this as input tax, a VAT registered buyer must purchase the wine in bond and clear it under his own name and VAT number. HM Customs will then issue a Form C79 which is acceptable evidence for recovering the VAT as input tax subject to the normal rules.)\\n(All business buyers from outside the UK should refer to 'VAT Refunds from HM Customs & Excise' for information on how to recover VAT incurred on the buyer's premium).\\nQuantity: 1\", 9), ('Chateau Laville Haut-Brion 1999\\nTalence (Pessac-Leognan), Cru Classe\\nGloriously elegant, stylish, scented nose of a top-flight Laville. Great vanillin taste and super silky texture. Beautiful freshness and creaminess. Limes and butter. So sleek and alert. Lovely now, but just wait and see where it will go. SS\\nLot 7116 12 bts (owc - Damaged lid)\\nLot 7117 12 bts (owc)\\nLot 7118 12 bts (owc)\\nLot 7119 12 bts (owc)\\nLot 7120 12 bts (owc)\\nLot 7121 12 bts (owc)\\nLot 7122 12 bts (owc)\\nLot 7123 12 bts (owc)\\nLot 7124 12 bts (owc)\\nper lot: HKD 4000-6000\\nper lot: USD 500-700\\n\\nQuantity: 1', 9), ('signed l.l.\\n\\noil on canvas\\n\\nQuantity: 1', 9), (\"Chateau Phelan Segur 2006\\nSt. Estephe, Cru Grand Bourgeois Exceptionnel\\nLot 620 \\xe2\\x99\\xa6 12 bts (owc)\\nLot 621 \\xe2\\x99\\xa6 12 bts (owc)\\nLot 622 \\xe2\\x99\\xa6 12 bts (owc)\\nLot 623 \\xe2\\x99\\xa6 12 bts (owc)\\nLot 624 \\xe2\\x99\\xa6 12 bts (owc)\\nLot 625 \\xe2\\x99\\xa6 12 bts (owc)\\nLot 626 \\xe2\\x99\\xa6 12 bts (owc)\\nLot 627 \\xe2\\x99\\xa6 12 bts (owc)\\nLot 628 \\xe2\\x99\\xa6 12 bts (owc)\\nper lot: GBP 180-240\\nper lot: USD 280-360\\nper lot: EUR 200-280\\n\\nLYING IN OCTAVIAN, WILTSHIRE\\nOffered In Bond, available duty paid\\n\\nThese items are in bond. The buyer has a choice of taking the item in bond (with the sale being made in bond) or taking the item duty paid.\\nIf taken in bond, VAT will not be charged on the hammer price. VAT will be charged at 20% on the buyer's premium which may not be cancelled or refunded by Sotheby's.\\nIf taken duty paid, when Sotheby's releases the property to buyers in the UK, the buyer will become the importer and must pay Sotheby's duty at the current rate and import VAT at 20% on the hammer price + duty which may not be cancelled or refunded by Sotheby's. VAT will be charged at 20% on the buyer's premium which may not be cancelled or refunded by Sotheby's.\\n(VAT - registered buyers from the UK should note that the invoice issued by Sotheby's showing import VAT payable, is not suitable evidence for recovering that VAT. In order to recover this as input tax, a VAT registered buyer must purchase the wine in bond and clear it under his own name and VAT number. HM Customs will then issue a Form C79 which is acceptable evidence for recovering the VAT as input tax subject to the normal rules.)\\n(All business buyers from outside the UK should refer to 'VAT Refunds from HM Customs & Excise' for information on how to recover VAT incurred on the buyer's premium).\\nQuantity: 1\", 9), ('Ch\\xc3\\xa2teau Fleur Cardinale 2010\\nSt. Emilion, Grand Cru Class\\xc3\\xa9\\n\\n1675:12 bts (owc)\\n\\n1676:12 bts (owc)\\n\\n1677:12 bts (owc)\\n\\n1678:12 bts (owc)\\n\\n1679:12 bts (owc)\\n\\n1680:12 bts (owc)\\n\\n1681:12 bts (owc)\\n\\n1682:12 bts (owc)\\n\\nEstimates are per lot', 8), ('mahogany\\n\\nQuantity: 1', 8), ('This lot contains 2 item(s).\\nQuantity: 1', 8), ('various sizes (15)', 8), (\"Chateau Haut Bailly 2000\\nPessac-Leognan (Graves), Grand Cru Classe\\nLot 501: Packed in 12 bottle owc\\nLovely 'scented garrigues' nose. Very crisp and healthy and at the beginning of its life. SS.\\nLot 503 12 bts (owc)\\nLot 504 12 bts (owc)\\nLot 505 12 bts (owc)\\nLot 506 12 bts (owc)\\nLot 507 12 bts (owc)\\nLot 508 12 bts (owc)\\nLot 509 12 bts (owc)\\nLot 510 12 bts (owc)\\nper lot: GBP 650-800\\nper lot: USD 1000-1250\\nper lot: EUR 780-950\\n\\nLYING IN GREENFORD, MIDDLESEX\\nOffered Duty Paid only\\nQuantity: 1\", 8), ('Cheval des Andes 2002\\nMendoza\\nLot 375 6 bts (owc)\\nLot 376 6 bts (owc)\\nLot 377 6 bts (owc)\\nLot 378 6 bts (owc)\\nLot 379 6 bts (owc)\\nLot 380 6 bts (owc)\\nLot 381 6 bts (owc)\\nLot 382 6 bts (owc)\\nper lot: GBP 120-180\\nper lot: USD 200-300\\nper lot: EUR 150-220\\n\\nLYING IN GREENFORD, MIDDLESEX\\nOffered Duty Paid only\\n\\nQuantity: 1', 8), ('Bonnes Mares 2006 Drouhin-Laroze\\nCote de Nuits, Grand Cru\\nLot 319 6 mags (oc)\\nLot 320 6 mags (oc)\\nLot 321 6 mags (oc)\\nLot 322 6 mags (oc)\\nLot 323 6 mags (oc)\\nLot 324 6 mags (oc)\\nLot 325 6 mags (oc)\\nLot 326 6 mags (oc)\\nper lot: GBP 550-650\\nper lot: USD 920-1050\\nper lot: EUR 680-800\\n\\nLYING IN GREENFORD, MIDDLESEX\\nOffered Duty Paid only\\n\\nQuantity: 1', 8), ('Dish and Cover\\nelBulli serving set from the years leading up to and through 1997, the year elBulli received its third\\nMichelin star.\\nDishes - Minor scratches and wear. Covers - Minor tarnishing, wear and dents.\\n\\nEach set contains one of the following\\nBrass Dome Cover (9 1/2 x 3in, 24 x 8cm)\\nRosenthal Service Plate (Diameter: 12 1/4 in, 31cm)\\n\\nLot 7600 1 set\\nLot 7601 1 set\\nLot 7602 1 set\\nLot 7603 1 set\\nLot 7604 1 set\\nLot 7605 1 set\\nLot 7606 1 set\\nLot 7607 1 set\\nper lot: USD 150-300\\nQuantity: 1', 8), ('height 18 in.\\n46 cm', 8), ('signed l.r.\\n\\noil on canvas\\n\\nQuantity: 1', 8), ('mahogany', 8), ('block of 4, fresh, large part original gum.', 8), (\"Chateau Branaire Ducru 2003\\nSt. Julien, 4eme Cru Classe\\nIntense cassis perfume. Tannin and fruit on the palate. Good concentration. Still not really opened out. Serena Sutcliffe, MW\\nLot 469 \\xe2\\x99\\xa6 12 bts (owc)\\nLot 470 \\xe2\\x99\\xa6 12 bts (owc)\\nLot 471 \\xe2\\x99\\xa6 12 bts (owc)\\nLot 472 \\xe2\\x99\\xa6 12 bts (owc)\\nLot 473 \\xe2\\x99\\xa6 12 bts (owc)\\nLot 474 \\xe2\\x99\\xa6 12 bts (owc)\\nLot 475 \\xe2\\x99\\xa6 12 bts (owc)\\nLot 476 \\xe2\\x99\\xa6 12 bts (owc)\\nper lot: GBP 400-500\\nper lot: USD 650-820\\nper lot: EUR 480-600\\n\\nLYING IN OCTAVIAN, WILTSHIRE\\nOffered In Bond, available duty paid\\n\\nThese items are in bond. The buyer has a choice of taking the item in bond (with the sale being made in bond) or taking the item duty paid.\\nIf taken in bond, VAT will not be charged on the hammer price. VAT will be charged at 20% on the buyer's premium which may not be cancelled or refunded by Sotheby's.\\nIf taken duty paid, when Sotheby's releases the property to buyers in the UK, the buyer will become the importer and must pay Sotheby's duty at the current rate and import VAT at 20% on the hammer price + duty which may not be cancelled or refunded by Sotheby's. VAT will be charged at 20% on the buyer's premium which may not be cancelled or refunded by Sotheby's.\\n(VAT - registered buyers from the UK should note that the invoice issued by Sotheby's showing import VAT payable, is not suitable evidence for recovering that VAT. In order to recover this as input tax, a VAT registered buyer must purchase the wine in bond and clear it under his own name and VAT number. HM Customs will then issue a Form C79 which is acceptable evidence for recovering the VAT as input tax subject to the normal rules.)\\n(All business buyers from outside the UK should refer to 'VAT Refunds from HM Customs & Excise' for information on how to recover VAT incurred on the buyer's premium).\\n\\nQuantity: 1\", 8), ('Bonnes Mares 2003 Drouhin-Laroze\\nCote de Nuits, Grand Cru\\nLot 290 12 bts (cn)\\nLot 291 12 bts (cn)\\nLot 292 12 bts (cn)\\nLot 293 12 bts (cn)\\nLot 294 12 bts (cn)\\nLot 295 12 bts (cn)\\nLot 296 12 bts (cn)\\nLot 297 12 bts (cn)\\nper lot: GBP 650-750\\nper lot: USD 1000-1150\\nper lot: EUR 800-920\\n\\nLYING IN GREENFORD, MIDDLESEX\\nOffered Duty Paid only\\n\\nQuantity: 1', 8), ('Quantity: 2', 8), ('Chateau Laville Haut-Brion 1995\\nTalence (Pessac-Leognan), Cru Classe\\nGlorious steely rich nose of grapes (amazing!), grapefruit and woodsmoke! That \"petrol\"/citrus taste to which I am addicted. So long on the palate. I would quite happily die drinking these wines - well, almost! SS.\\nLot 7140 12 bts (owc)\\nLot 7141 12 bts (owc)\\nLot 7142 12 bts (owc)\\nLot 7143 12 bts (owc)\\nLot 7144 12 bts (sc)\\nLot 7145 12 bts (sc)\\nLot 7146 12 bts (sc)\\nLot 7147 12 bts (sc)\\nper lot: HKD 9000-12000\\nper lot: USD 1200-1600\\n\\nQuantity: 1', 8), ('signed, oil on canvas This lot contains 1 item(s).\\nQuantity: 1', 7), ('Chateau Laville Haut-Brion 1996\\nTalence (Pessac-Leognan), Cru Classe\\nLot 7138: 2 very slightly stained labels\\nMature colour and nose. Mineral taste with some Fino Sherry elements. A real flavour of figs with the grapefruit. Full, ripe and ready. SS\\nSee illustration\\nLot 7132 12 bts (owc)\\nLot 7133 12 bts (owc)\\nLot 7134 12 bts (owc)\\nLot 7135 12 bts (owc)\\nLot 7136 12 bts (owc)\\nLot 7137 12 bts (owc)\\nLot 7138 12 bts (owc)\\nper lot: HKD 5000-8000\\nper lot: USD 700-1000\\n\\nQuantity: 1', 7), ('height 36 1/2 in.\\n93 cm', 7), ('Bonnes Mares 2003 Drouhin-Laroze\\nCote de Nuits, Grand Cru\\nLot 255 6 mags (oc)\\nLot 256 6 mags (oc)\\nLot 257 6 mags (oc)\\nLot 258 6 mags (oc)\\nLot 259 6 mags (oc)\\nLot 260 6 mags (oc)\\nLot 261 6 mags (oc)\\nper lot: GBP 720-850\\nper lot: USD 1200-1400\\nper lot: EUR 900-1050\\n\\nLYING IN GREENFORD, MIDDLESEX\\nOffered Duty Paid only\\n\\nQuantity: 1', 7), ('each piece originally painted in underglaze blue, iron red and gilding with a pavilion terrace, bamboo fence, and low table festooned with flowers and draped with curtains, the iron-red and gilt details now remaining only as ghostly outlines\\nA bullet-shaped teapot, cover and stand and two tea caddies and covers (7)\\nheight: bullet-shaped tepot 13.5cm', 7), ('height 33 in.\\n84 cm', 7), ('Cote Rotie Champin Le Seigneur 1997\\nJean-Michel Gerin\\nRhone\\nLot 1890-1895: Slightly scuffed labels Lot 1896: Slightly stained and slightly wrinkled labels\\nLot 1890 12 bts (sc)\\nLot 1891 12 bts (sc)\\nLot 1892 12 bts (sc)\\nLot 1893 12 bts (sc)\\nLot 1894 12 bts (sc)\\nLot 1895 12 bts (sc)\\nLot 1896 12 bts (sc)\\nper lot: USD 250-350\\n\\nQuantity: 1', 7), ('height 13 in.\\n33 cm', 7), ('block of 4, fresh, original gum.', 7), (\"Romanee Conti 2000\\nDomaine de la Romanee Conti\\nCote de Nuits, Grand Cru\\n840 1 bt\\n841 1 bt\\n842 1 bt\\n843 1 bt\\n844 1 bt\\n845 1 bt\\n846 1 bt\\n847 1 bt\\nper lot: \\xc2\\xa31100-1500\\nper lot: US$1800-2400\\n\\nLYING IN SOTHEBY'S KINGS HOUSE WAREHOUSE\\nOffered Duty Paid only\\n\\nQuantity: 1\", 7), ('height 38 1/2 in.\\n98 cm', 7), ('Designed as a graduated line of brilliant-cut diamonds, length approximately 420mm.', 7), ('Chateau Branaire Ducru 2000\\nSt. Julien, 4eme Cru Classe\\nA meaty, berryish nose. A great mouthful of cedary flavour, great depth and velvety glycerol. This is really good, the best Branaire for an age. Glorious cassis finish and length. The property has improved a great deal since 1988, but this is something else. Serena Sutcliffe, MW\\nLot 109 12 bts (owc)\\nLot 110 12 bts (owc)\\nLot 111 12 bts (owc)\\nLot 112 12 bts (owc)\\nLot 113 12 bts (owc)\\nLot 114 12 bts (owc)\\nLot 115 12 bts (owc)\\nper lot: GBP 440-550\\nper lot: USD 720-900\\nper lot: EUR 520-650\\n\\nLYING IN GREENFORD, MIDDLESEX\\nOffered Duty Paid only\\n\\nA remarkable collection of predominantly Bordeaux and Burgundy spanning eleven decades, with the greater part coming from vintages of the 1980s, 1990s and 2000s. The vast majority of these wines were bought through reputable UK wine merchants, with the duty paid wines stored in a stunning purpose built temperature-controlled cellar until being moved into professional storage. The bonded wines have been professionally stored since purchase.\\nQuantity: 1', 7), ('good colour, large part original gum.', 7), ('6 cm., 2 3/8 in.', 7), ('oil on canvas', 7), ('6.2 cm., 2 1/2 in.', 7), ('Dish and Cover\\nelBulli serving set from the years leading up to and through 1997, the year elBulli received its third\\nMichelin star.\\nDishes - Minor scratches and wear. Covers - Minor tarnishing, wear and dents.\\n\\nEach set contains one of the following\\nBrass Dome Cover (9 1/2 x 3in, 24 x 8cm)\\nRosenthal Service Plate (Diameter: 12 1/4 in, 31cm)\\n\\nLot 6495 1 set\\nLot 6496 1 set\\nLot 6497 1 set\\nLot 6498 1 set\\nLot 6499 1 set\\nLot 6500 1 set\\nLot 6501 1 set\\nfrom: HKD 1000\\nfrom: USD 150\\n\\nQuantity: 1', 7), ('block of 4, good colour, original gum.', 6), ('height 28 1/2 in.\\n72.5 cm', 6), ('Chateau La Providence 2005\\nPomerol\\nThe first vintage of this Moueix wine, with its vines next to Lafleur and Hosanna on the Pomerol plateau - it is not like either! There is power and a thick texture from the 2005 blend of 80% Merlot and 20% Cabernet Franc. Excellent, minerally nose and so much flesh and body on the palate, with a finish of expresso coffee. A big, chewy wine, full of structure and fruit. Serena Sutcliffe, MW\\nLot 163 6 bts (owc)\\nLot 164 6 bts (owc)\\nLot 165 6 bts (owc)\\nLot 166 6 bts (owc)\\nLot 167 6 bts (owc)\\nLot 168 6 bts (owc)\\nper lot: GBP 200-280\\nper lot: USD 320-460\\nper lot: EUR 240-340\\n\\nLYING IN GREENFORD, MIDDLESEX\\nOffered Duty Paid only\\n\\nQuantity: 1', 6), ('various sizes (9)', 6), ('Chateauneuf du Pape, Domaine Pegau, Cuvee Reservee 2003\\nChateauneuf du Pape\\nLot 1077: 7 slightly scuffed labels Lot 1078: 4 slightly scuffed labels, capsules with French Tax Stamps Lot 1079: Capsules with French Tax Stamps Lot 1080: Capsules with French Tax Stamps Lot 1081: 10 capsules with French Tax Stamps, 1 wrinkled label Lot 1082: Chipped wax capsule, slight sign of seepage, torn label Lot 1083: Torn label, mostly missing wax capsule, slight sign of seepage\\nSee illustration\\nLot 1076 12 bts (sc)\\nLot 1077 12 bts (sc)\\nLot 1078 12 bts (sc)\\nLot 1079 12 bts (sc)\\nLot 1080 12 bts (sc)\\nLot 1081 12 bts (sc)\\nper lot: USD 700-1000\\n\\nQuantity: 1', 6), ('height 36 in.\\n91.5 cm', 6), ('Ch\\xc3\\xa2teau Malescot St. Exup\\xc3\\xa9ry 2005\\nMargaux, 3\\xc3\\xa8me Cru Class\\xc3\\xa9\\n\\n1066:12 bts (owc)\\n\\n1067:12 bts (owc)\\n\\n1068:12 bts (owc)\\n\\n1069:12 bts (owc)\\n\\n1070:12 bts (owc)\\n\\n1071:12 bts (owc)\\n\\nEstimates are per lot', 6), ('St. Est\\xc3\\xa8phe, 3\\xc3\\xa8me Cru Class\\xc3\\xa9\\nNiveaux excellents, \\xc3\\xa9tiquettes parfaites, offert en caisse bois d\\xe2\\x80\\x99origine\\n\\nExcellent levels and appearance\\n\\nSpicy, sweet violets on the nose. Easy drinking, mineral and yet sweet at the same time. Serena Sutcliffe, MW\\n\\n12 bts (owc)', 6), ('height 33 1/2 in.\\n85 cm', 6), ('height 10 in.\\n25.5 cm', 6), ('height 37 1/2 in.\\n95.5 cm', 6), (\"Le Dome 2000\\nSt. Emilion, Grand Cru\\nLot 33 \\xe2\\x99\\xa6 12 bts (owc)\\nLot 34 \\xe2\\x99\\xa6 12 bts (owc)\\nLot 35 \\xe2\\x99\\xa6 12 bts (owc)\\nLot 36 \\xe2\\x99\\xa6 12 bts (owc)\\nLot 37 \\xe2\\x99\\xa6 12 bts (owc)\\nLot 38 \\xe2\\x99\\xa6 12 bts (owc)\\nper lot: GBP 650-750\\nper lot: USD 1000-1150\\nper lot: EUR 750-850\\n\\nLYING IN OCTAVIAN, WILTSHIRE\\nOffered In Bond, available duty paid\\n\\nThese items are in bond. The buyer has a choice of taking the item in bond (with the sale being made in bond) or taking the item duty paid.\\nIf taken in bond, VAT will not be charged on the hammer price. VAT will be charged at 20% on the buyer's premium which may not be cancelled or refunded by Sotheby's.\\nIf taken duty paid, when Sotheby's releases the property to buyers in the UK, the buyer will become the importer and must pay Sotheby's duty at the current rate and import VAT at 20% on the hammer price + duty which may not be cancelled or refunded by Sotheby's. VAT will be charged at 20% on the buyer's premium which may not be cancelled or refunded by Sotheby's.\\n(VAT - registered buyers from the UK should note that the invoice issued by Sotheby's showing import VAT payable, is not suitable evidence for recovering that VAT. In order to recover this as input tax, a VAT registered buyer must purchase the wine in bond and clear it under his own name and VAT number. HM Customs will then issue a Form C79 which is acceptable evidence for recovering the VAT as input tax subject to the normal rules.)\\n(All business buyers from outside the UK should refer to 'VAT Refunds from HM Customs & Excise' for information on how to recover VAT incurred on the buyer's premium).\\n\\nQuantity: 1\", 6), ('each piece originally painted in underglaze blue, iron red and gilding with a pavilion terrace, bamboo fence, and low table festooned with flowers and draped with curtains, the iron-red and gilt details now remaining only as ghostly outlines\\nA pear-shaped teapot, cover and stand, two tea caddies and covers and a spoon tray (8)\\nheight: pear-shaped tepot 13.5cm', 6), ('height 39 in.\\n99 cm', 6), ('signed l.l.\\n\\noil on panel\\n\\nQuantity: 1', 6), ('various sizes', 6), ('Quantity: 4', 6), ('Chateau Beausejour Duffau Lagarosse 1985\\nSt. Emilion, 1er Grand Cru Classe (B)\\nLots 49-55: Russian slip labels over capsules, packed in 12 bottle owc, no vintage marked on owc\\nLot 49: u. 2bn, 1vts, 2ts, very good appearance,\\nLot 50: u. 3bn, 1vts, 2ts, 3hs, 7 with excellent appearance, 5 labels slightly soiled\\nLot 51: u. 2bn, 1vts, 1ts, 4t/hs, 2hs, 6 labels slightly soiled and glue striped\\nLot 52: u. 4bn, 2vts, 2t/hs, 2hs, 6 labels slightly wrinkled at base by divider otherwise excellent appearance\\nLot 53: u. 4vts, 1ts, 3t/hs, 1hs, very good appearance\\nLot 54: u. 4bn, 1vts, 2ts, 4 labels slightly soiled\\nLot 55: u. 4bn, 2ts, 3t/hs, 9 labels slightly wrinkled at base by divider\\nChateau Beausejour Duffau Lagarrosse 1985 Very good strong colour. Glorious, rich, spicy chocolate nose, as terrific as the 1990! Liquid velvet on the palate. Fabulous fruit and succulence. Startlingly good at 29 years old - a revelation. Serena Sutcliffe, MW\\nLot 50 12 bts (owc)\\nLot 51 12 bts (owc)\\nLot 52 12 bts (owc)\\nLot 53 12 bts (owc)\\nLot 54 12 bts (owc)\\nLot 55 12 bts (owc)\\nper lot: GBP 280-360\\nper lot: USD 460-600\\nper lot: EUR 320-420\\n\\nLYING IN GREENFORD, MIDDLESEX\\nOffered Duty Paid only\\n\\nQuantity: 1', 6), ('fresh, large part original gum.', 6), (\"Chateau La Grangere 2000\\nSt. Emilion, Grand Cru\\nLot 413 \\xe2\\x99\\xa6 24 bts (2 owc)\\nLot 414 \\xe2\\x99\\xa6 24 bts (2 owc)\\nLot 415 \\xe2\\x99\\xa6 24 bts (2 owc)\\nLot 416 \\xe2\\x99\\xa6 24 bts (2 owc)\\nLot 417 \\xe2\\x99\\xa6 24 bts (2 owc)\\nLot 418 \\xe2\\x99\\xa6 24 bts (2 owc)\\nper lot: GBP 400-520\\nper lot: USD 620-820\\nper lot: EUR 500-650\\n\\nLYING IN OCTAVIAN, WILTSHIRE\\nOffered In Bond, available duty paid\\n\\nThese items are in bond. The buyer has a choice of taking the item in bond (with the sale being made in bond) or taking the item duty paid.\\nIf taken in bond, VAT will not be charged on the hammer price. VAT will be charged at 20% on the buyer's premium which may not be cancelled or refunded by Sotheby's.\\nIf taken duty paid, when Sotheby's releases the property to buyers in the UK, the buyer will become the importer and must pay Sotheby's duty at the current rate and import VAT at 20% on the hammer price + duty which may not be cancelled or refunded by Sotheby's. VAT will be charged at 20% on the buyer's premium which may not be cancelled or refunded by Sotheby's.\\n(VAT - registered buyers from the UK should note that the invoice issued by Sotheby's showing import VAT payable, is not suitable evidence for recovering that VAT. In order to recover this as input tax, a VAT registered buyer must purchase the wine in bond and clear it under his own name and VAT number. HM Customs will then issue a Form C79 which is acceptable evidence for recovering the VAT as input tax subject to the normal rules.)\\n(All business buyers from outside the UK should refer to 'VAT Refunds from HM Customs & Excise' for information on how to recover VAT incurred on the buyer's premium).\\n\\nQuantity: 1\", 6), ('Chateau Laville Haut-Brion 1998\\nTalence (Pessac-Leognan), Cru Classe\\nA bouquet of greatness. So honied. Lemons and lychees on the nose - enormous impact and weight. One could compare it with the fabulous 1989. On the palate, the Semillon comes on very strong. So rich, fat and yet with perfect acidity balance. The empty glass smells of lavender. SS.\\nSee illustration\\nLot 7125 12 bts (owc)\\nLot 7126 12 bts (owc)\\nLot 7127 12 bts (owc)\\nLot 7128 12 bts (owc)\\nLot 7129 12 bts (2 owc)\\nLot 7130 12 bts (2 owc)\\nper lot: HKD 9000-12000\\nper lot: USD 1200-1600\\n\\nQuantity: 1', 6), (\"Chateau Rauzan Segla 1990\\nMargaux, 2eme Cru Classe\\nLots 377-381: Excellent levels and appearance\\nCabernet Sauvignon 56%, Merlot 44%\\nFragrant nose - almost rosy. Quite a meaty flavour. Ready now, as it shows its maturity. Not as ripe as the 1989. Serena Sutcliffe, MW\\nLot 377 \\xe2\\x99\\xa6 12 bts (owc)\\nLot 378 \\xe2\\x99\\xa6 12 bts (owc)\\nLot 379 \\xe2\\x99\\xa6 12 bts (owc)\\nLot 380 \\xe2\\x99\\xa6 12 bts (owc)\\nLot 381 \\xe2\\x99\\xa6 12 bts (owc)\\nper lot: GBP 900-1200\\nper lot: USD 1300-1700\\nper lot: EUR 1000-1350\\n\\nLYING IN OCTAVIAN, WILTSHIRE\\nOffered In Bond, available duty paid\\n\\nThese items are in bond. The buyer has a choice of taking the item in bond (with the sale being made in bond) or taking the item duty paid.\\nIf taken in bond, VAT will not be charged on the hammer price. VAT will be charged at 20% on the buyer's premium which may not be cancelled or refunded by Sotheby's.\\nIf taken duty paid, when Sotheby's releases the property to buyers in the UK, the buyer will become the importer and must pay Sotheby's duty at the current rate and import VAT at 20% on the hammer price + duty which may not be cancelled or refunded by Sotheby's. VAT will be charged at 20% on the buyer's premium which may not be cancelled or refunded by Sotheby's.\\n(VAT - registered buyers from the UK should note that the invoice issued by Sotheby's showing import VAT payable, is not suitable evidence for recovering that VAT. In order to recover this as input tax, a VAT registered buyer must purchase the wine in bond and clear it under his own name and VAT number. HM Customs will then issue a Form C79 which is acceptable evidence for recovering the VAT as input tax subject to the normal rules.)\\n(All business buyers from outside the UK should refer to 'VAT Refunds from HM Customs & Excise' for information on how to recover VAT incurred on the buyer's premium).\\n\\nQuantity: 1\", 5), ('Tokaji Aszu, 6 Puttonyos 1999 Istvan Szepsy\\nLots 637-641: Original tissues\\nLot 637 12 hlf.liters (oc)\\nLot 638 12 hlf.liters (oc)\\nLot 639 12 hlf.liters (oc)\\nLot 640 12 hlf.liters (oc)\\nLot 641 12 hlf.liters (oc)\\nper lot: USD 400-600\\n\\nQuantity: 1', 5), ('haut. 28 cm\\n11 in', 5), ('.', 5), ('Designed as a uniform line of brilliant-cut diamonds, length approximately 185mm.', 5), (\"Le Dome 1998\\nSt. Emilion, Grand Cru\\nLots 26-27: Excellent levels and appearance\\nLot 28: Excellent levels, 1 label lightly stained along top edge\\nLot 29: Excellent levels, 3 labels very lightly stained\\nLot 30: Good levels, 3 labels lightly stained, 1 very slightly rubbed, several peeling along edges\\nLot 31: Excellent levels and appearance\\nThe wine emerges from under layers of oak. Rich and full of glycerol. Serena Sutcliffe, MW\\nLot 26 \\xe2\\x99\\xa6 12 bts (owc)\\nLot 27 \\xe2\\x99\\xa6 12 bts (owc)\\nLot 28 \\xe2\\x99\\xa6 12 bts (owc)\\nLot 29 \\xe2\\x99\\xa6 12 bts (owc)\\nLot 30 \\xe2\\x99\\xa6 12 bts (owc)\\nper lot: GBP 580-650\\nper lot: USD 880-1000\\nper lot: EUR 650-750\\n\\nLYING IN OCTAVIAN, WILTSHIRE\\nOffered In Bond, available duty paid\\n\\nThese items are in bond. The buyer has a choice of taking the item in bond (with the sale being made in bond) or taking the item duty paid.\\nIf taken in bond, VAT will not be charged on the hammer price. VAT will be charged at 20% on the buyer's premium which may not be cancelled or refunded by Sotheby's.\\nIf taken duty paid, when Sotheby's releases the property to buyers in the UK, the buyer will become the importer and must pay Sotheby's duty at the current rate and import VAT at 20% on the hammer price + duty which may not be cancelled or refunded by Sotheby's. VAT will be charged at 20% on the buyer's premium which may not be cancelled or refunded by Sotheby's.\\n(VAT - registered buyers from the UK should note that the invoice issued by Sotheby's showing import VAT payable, is not suitable evidence for recovering that VAT. In order to recover this as input tax, a VAT registered buyer must purchase the wine in bond and clear it under his own name and VAT number. HM Customs will then issue a Form C79 which is acceptable evidence for recovering the VAT as input tax subject to the normal rules.)\\n(All business buyers from outside the UK should refer to 'VAT Refunds from HM Customs & Excise' for information on how to recover VAT incurred on the buyer's premium).\\n\\nQuantity: 1\", 5), ('Chateau Laville Haut-Brion 2001\\nTalence (Pessac-Leognan), Cru Classe\\nLot 7110: 1 slightly scuffed label\\nLovely, almost mysterious, wood-smoke nose. Real complexity in the making. Beautifully silky on the palate. Perfect balance between richness and freshness. Very classic Laville, with a signature finish of mandarins. SS\\nLot 7106 12 bts (owc)\\nLot 7107 12 bts (owc)\\nLot 7108 12 bts (owc)\\nLot 7109 12 bts (owc)\\nLot 7110 12 bts (owc)\\nper lot: HKD 5000-8000\\nper lot: USD 700-1000\\n\\nQuantity: 1', 5), ('height 25 in.\\n63.5 cm', 5), ('height 37 3/4 in.\\n96 cm', 5)]\n"
     ]
    }
   ],
   "source": [
    "counter = collections.Counter(noMaker[noMaker['Maker'] == '']['Lot Description'])\n",
    "print counter.most_common(100)"
   ]
  },
  {
   "cell_type": "markdown",
   "metadata": {},
   "source": [
    "# Return the Exactly Matching Terms"
   ]
  },
  {
   "cell_type": "code",
   "execution_count": null,
   "metadata": {
    "collapsed": true
   },
   "outputs": [],
   "source": [
    "class TireNode:\n",
    "    \n",
    "    def __init__ (self):\n",
    "        self.val = None\n",
    "        self.mark = False\n",
    "        self.index = None\n",
    "        self.pointers = {}\n",
    "        \n",
    "class Tire:\n",
    "    \n",
    "    def __init__ (self):\n",
    "        self.root = TireNode()\n",
    "        \n",
    "    def insert(self, name, index):\n",
    "        self.re_insert(name, index, self.root)\n",
    "        return\n",
    "    \n",
    "    def re_insert(self, name, index, root):\n",
    "        if name[0] not in root.pointers:\n",
    "            newNode = TireNode()\n",
    "            newNode.val = name[0]\n",
    "            root.pointers[name[0]] = newNode\n",
    "            self.re_insert(name, index, root)\n",
    "        else:\n",
    "            nextNode = root.pointers[name[0]]\n",
    "            if(len(name[1:]) == 0):\n",
    "                nextNode.mark = True\n",
    "                nextNode.index = index\n",
    "                return\n",
    "            return self.re_insert(name[1:], index, nextNode)\n",
    "        \n",
    "    def search(self, name):\n",
    "        if len(name) == 0:\n",
    "            return False\n",
    "        else:\n",
    "            return self.re_search(name, self.root)\n",
    "        \n",
    "    def re_search(self, name, root):\n",
    "        if name[0] not in root.pointers:\n",
    "            return False\n",
    "        else:\n",
    "            nextNode = root.pointers[name[0]]\n",
    "            if len(name[1:]) == 0:\n",
    "                if nextNode.mark == True:\n",
    "                    return True, nextNode.index\n",
    "                else:\n",
    "                    return False, None\n",
    "            else:\n",
    "                return self.re_search(name[1:], nextNode)"
   ]
  },
  {
   "cell_type": "code",
   "execution_count": null,
   "metadata": {
    "collapsed": true
   },
   "outputs": [],
   "source": [
    "def buildTree(names):\n",
    "    \n",
    "    tree = Tire()\n",
    "    for x in range(len(names)):\n",
    "        tree.insert(names[x].split(' '), x)\n",
    "    \n",
    "    return tree"
   ]
  },
  {
   "cell_type": "code",
   "execution_count": null,
   "metadata": {
    "collapsed": true
   },
   "outputs": [],
   "source": [
    "def searchTerms(sentence, tree, vacabulary):\n",
    "    \n",
    "    sentence = sentence.replace(\"'\", '').replace(\"\\t\", '').replace(',', '').lstrip().rstrip().lower()\n",
    "    terms = sentence.split(' ')\n",
    "    \n",
    "    for x in range(len(terms)):  \n",
    "        for y in range(x, len(terms)):\n",
    "            tomatch = terms[x:y+1]\n",
    "            response, index = tree.search(tomatch)\n",
    "            if response:\n",
    "                return vacabulary[index]\n",
    "        \n",
    "    return ''"
   ]
  },
  {
   "cell_type": "code",
   "execution_count": null,
   "metadata": {
    "collapsed": true
   },
   "outputs": [],
   "source": [
    "tree = buildTree(clean)\n",
    "makers = []\n",
    "\n",
    "for index, row in noMaker.iterrows():\n",
    "    terms = row['Lot Title']\n",
    "    try:\n",
    "        maker = searchTerms(terms, tree, record)\n",
    "        makers.append(maker)\n",
    "    except:\n",
    "        makers.append('')"
   ]
  },
  {
   "cell_type": "code",
   "execution_count": null,
   "metadata": {
    "collapsed": true
   },
   "outputs": [],
   "source": []
  },
  {
   "cell_type": "code",
   "execution_count": null,
   "metadata": {
    "collapsed": true
   },
   "outputs": [],
   "source": []
  }
 ],
 "metadata": {
  "kernelspec": {
   "display_name": "Python 2",
   "language": "python",
   "name": "python2"
  },
  "language_info": {
   "codemirror_mode": {
    "name": "ipython",
    "version": 2
   },
   "file_extension": ".py",
   "mimetype": "text/x-python",
   "name": "python",
   "nbconvert_exporter": "python",
   "pygments_lexer": "ipython2",
   "version": "2.7.11"
  }
 },
 "nbformat": 4,
 "nbformat_minor": 0
}
